{
 "cells": [
  {
   "cell_type": "code",
   "execution_count": 10,
   "id": "12f5be87-bd06-4925-9745-12aed40a0021",
   "metadata": {
    "tags": []
   },
   "outputs": [
    {
     "name": "stdout",
     "output_type": "stream",
     "text": [
      "Get:1 https://nvidia.github.io/libnvidia-container/stable/deb/amd64  InRelease [1477 B]\n",
      "Hit:2 https://deb.debian.org/debian bullseye InRelease                         \n",
      "Hit:3 https://download.docker.com/linux/debian bullseye InRelease   \n",
      "Hit:4 https://deb.debian.org/debian-security bullseye-security InRelease\n",
      "Get:5 https://deb.debian.org/debian bullseye-updates InRelease [44.0 kB]\n",
      "Get:6 https://deb.debian.org/debian bullseye-backports InRelease [48.9 kB]\n",
      "Hit:7 https://packages.cloud.google.com/apt gcsfuse-bullseye InRelease\n",
      "Hit:8 https://packages.cloud.google.com/apt google-compute-engine-bullseye-stable InRelease\n",
      "Hit:9 https://packages.cloud.google.com/apt cloud-sdk-bullseye InRelease\n",
      "Hit:10 https://packages.cloud.google.com/apt google-fast-socket InRelease\n",
      "Fetched 94.4 kB in 1s (115 kB/s)\n",
      "Reading package lists... Done\n",
      "Reading package lists... Done\n",
      "Building dependency tree... Done\n",
      "Reading state information... Done\n",
      "gcsfuse is already the newest version (3.1.0).\n",
      "0 upgraded, 0 newly installed, 0 to remove and 6 not upgraded.\n"
     ]
    }
   ],
   "source": [
    "!sudo apt-get update\n",
    "!sudo apt-get install gcsfuse"
   ]
  },
  {
   "cell_type": "code",
   "execution_count": 2,
   "id": "d922a0e6-640f-466b-86ad-6fdf81b9f8b4",
   "metadata": {
    "tags": []
   },
   "outputs": [],
   "source": [
    "!mkdir -p /home/jupyter/franco_maestria/prophet_temporal_features_batch"
   ]
  },
  {
   "cell_type": "code",
   "execution_count": 12,
   "id": "d3c44c80-c69a-4a3c-b5ed-ac5d4fae5516",
   "metadata": {
    "tags": []
   },
   "outputs": [],
   "source": [
    "!fusermount -u /home/jupyter/franco_maestria/prophet_temporal_features_batch"
   ]
  },
  {
   "cell_type": "code",
   "execution_count": 13,
   "id": "1cee3d85-b6b3-48a5-95c2-69b288635b90",
   "metadata": {
    "tags": []
   },
   "outputs": [
    {
     "name": "stdout",
     "output_type": "stream",
     "text": [
      "{\"timestamp\":{\"seconds\":1752836581,\"nanos\":862825615},\"severity\":\"INFO\",\"message\":\"Start gcsfuse/3.1.0 (Go version go1.24.0) for app \\\"\\\" using mount point: /home/jupyter/franco_maestria/prophet_temporal_features_batch\\n\"}\n",
      "{\"timestamp\":{\"seconds\":1752836581,\"nanos\":862868082},\"severity\":\"INFO\",\"message\":\"GCSFuse config\",\"config\":{\"AppName\":\"\",\"CacheDir\":\"\",\"Debug\":{\"ExitOnInvariantViolation\":false,\"Fuse\":false,\"Gcs\":false,\"LogMutex\":false},\"DisableAutoconfig\":false,\"EnableAtomicRenameObject\":true,\"EnableGoogleLibAuth\":false,\"EnableHns\":true,\"EnableNewReader\":false,\"FileCache\":{\"CacheFileForRangeRead\":false,\"DownloadChunkSizeMb\":200,\"EnableCrc\":false,\"EnableODirect\":false,\"EnableParallelDownloads\":false,\"ExperimentalExcludeRegex\":\"\",\"ExperimentalParallelDownloadsDefaultOn\":true,\"MaxParallelDownloads\":96,\"MaxSizeMb\":-1,\"ParallelDownloadsPerFile\":16,\"WriteBufferSize\":4194304},\"FileSystem\":{\"DirMode\":\"755\",\"DisableParallelDirops\":false,\"ExperimentalEnableDentryCache\":false,\"ExperimentalEnableReaddirplus\":false,\"FileMode\":\"644\",\"FuseOptions\":[],\"Gid\":-1,\"IgnoreInterrupts\":true,\"KernelListCacheTtlSecs\":0,\"PreconditionErrors\":true,\"RenameDirLimit\":0,\"TempDir\":\"\",\"Uid\":-1},\"Foreground\":false,\"GcsAuth\":{\"AnonymousAccess\":false,\"KeyFile\":\"\",\"ReuseTokenFromUrl\":true,\"TokenUrl\":\"\"},\"GcsConnection\":{\"BillingProject\":\"\",\"ClientProtocol\":\"http1\",\"CustomEndpoint\":\"\",\"ExperimentalEnableJsonRead\":false,\"GrpcConnPoolSize\":1,\"HttpClientTimeout\":0,\"LimitBytesPerSec\":-1,\"LimitOpsPerSec\":-1,\"MaxConnsPerHost\":0,\"MaxIdleConnsPerHost\":100,\"SequentialReadSizeMb\":200},\"GcsRetries\":{\"ChunkTransferTimeoutSecs\":10,\"MaxRetryAttempts\":0,\"MaxRetrySleep\":30000000000,\"Multiplier\":2,\"ReadStall\":{\"Enable\":true,\"InitialReqTimeout\":20000000000,\"MaxReqTimeout\":1200000000000,\"MinReqTimeout\":1500000000,\"ReqIncreaseRate\":15,\"ReqTargetPercentile\":0.99}},\"ImplicitDirs\":false,\"List\":{\"EnableEmptyManagedFolders\":false},\"Logging\":{\"FilePath\":\"\",\"Format\":\"json\",\"LogRotate\":{\"BackupFileCount\":10,\"Compress\":true,\"MaxFileSizeMb\":512},\"Severity\":\"INFO\"},\"MachineType\":\"\",\"MetadataCache\":{\"DeprecatedStatCacheCapacity\":20460,\"DeprecatedStatCacheTtl\":60000000000,\"DeprecatedTypeCacheTtl\":60000000000,\"EnableNonexistentTypeCache\":false,\"ExperimentalMetadataPrefetchOnMount\":\"disabled\",\"NegativeTtlSecs\":5,\"StatCacheMaxSizeMb\":33,\"TtlSecs\":60,\"TypeCacheMaxSizeMb\":4},\"Metrics\":{\"CloudMetricsExportIntervalSecs\":0,\"PrometheusPort\":0,\"StackdriverExportInterval\":0,\"UseNewNames\":false},\"Monitoring\":{\"ExperimentalTracingMode\":\"\",\"ExperimentalTracingSamplingRatio\":0},\"OnlyDir\":\"\",\"Profiling\":{\"AllocatedHeap\":true,\"Cpu\":true,\"Enabled\":false,\"Goroutines\":false,\"Heap\":true,\"Label\":\"gcsfuse-0.0.0\",\"Mutex\":false},\"Read\":{\"InactiveStreamTimeout\":10000000000},\"Write\":{\"BlockSizeMb\":33554432,\"CreateEmptyFile\":false,\"EnableStreamingWrites\":true,\"ExperimentalEnableRapidAppends\":false,\"GlobalMaxBlocks\":4,\"MaxBlocksPerFile\":1}}}\n",
      "{\"timestamp\":{\"seconds\":1752836582,\"nanos\":86899576},\"severity\":\"INFO\",\"message\":\"File system has been successfully mounted.\"}\n"
     ]
    }
   ],
   "source": [
    "!gcsfuse forecasting_customer_product /home/jupyter/franco_maestria/prophet_temporal_features_batch"
   ]
  },
  {
   "cell_type": "code",
   "execution_count": 14,
   "id": "bc64ae40-8dc5-4279-8693-5e10966e4c1a",
   "metadata": {
    "tags": []
   },
   "outputs": [],
   "source": [
    "# --------------------------------------------\n",
    "# 0️⃣ Librerías necesarias\n",
    "# --------------------------------------------\n",
    "import pandas as pd\n",
    "from prophet import Prophet\n",
    "from tqdm import tqdm\n",
    "import numpy as np\n",
    "from datetime import datetime\n",
    "import matplotlib.pyplot as plt\n",
    "import glob\n",
    "import os\n",
    "from joblib import Parallel, delayed"
   ]
  },
  {
   "cell_type": "code",
   "execution_count": 15,
   "id": "670c745a-acfb-4d86-9e9b-163ced318b6b",
   "metadata": {
    "tags": []
   },
   "outputs": [
    {
     "name": "stdout",
     "output_type": "stream",
     "text": [
      "✅ Dataset cargado con forma: (55399, 194)\n"
     ]
    },
    {
     "data": {
      "text/html": [
       "<div>\n",
       "<style scoped>\n",
       "    .dataframe tbody tr th:only-of-type {\n",
       "        vertical-align: middle;\n",
       "    }\n",
       "\n",
       "    .dataframe tbody tr th {\n",
       "        vertical-align: top;\n",
       "    }\n",
       "\n",
       "    .dataframe thead th {\n",
       "        text-align: right;\n",
       "    }\n",
       "</style>\n",
       "<table border=\"1\" class=\"dataframe\">\n",
       "  <thead>\n",
       "    <tr style=\"text-align: right;\">\n",
       "      <th></th>\n",
       "      <th>customer_id</th>\n",
       "      <th>product_id</th>\n",
       "      <th>periodo</th>\n",
       "      <th>tn</th>\n",
       "      <th>IPC</th>\n",
       "      <th>inflacion</th>\n",
       "      <th>cambio_dolar</th>\n",
       "      <th>dias_feriados</th>\n",
       "      <th>cat1</th>\n",
       "      <th>cat2</th>\n",
       "      <th>...</th>\n",
       "      <th>cluster_dtw_factorized</th>\n",
       "      <th>cluster_x_month</th>\n",
       "      <th>periodo_factorized</th>\n",
       "      <th>cat1_factorized</th>\n",
       "      <th>cat2_factorized</th>\n",
       "      <th>cat3_factorized</th>\n",
       "      <th>brand_factorized</th>\n",
       "      <th>descripcion_factorized</th>\n",
       "      <th>product_target_enc</th>\n",
       "      <th>customer_target_enc</th>\n",
       "    </tr>\n",
       "  </thead>\n",
       "  <tbody>\n",
       "    <tr>\n",
       "      <th>12082787</th>\n",
       "      <td>10615</td>\n",
       "      <td>20001</td>\n",
       "      <td>201701</td>\n",
       "      <td>0.0</td>\n",
       "      <td>102</td>\n",
       "      <td>2.000000</td>\n",
       "      <td>16.080</td>\n",
       "      <td>1</td>\n",
       "      <td>HC</td>\n",
       "      <td>ROPA LAVADO</td>\n",
       "      <td>...</td>\n",
       "      <td>0</td>\n",
       "      <td>0</td>\n",
       "      <td>0</td>\n",
       "      <td>0</td>\n",
       "      <td>0</td>\n",
       "      <td>0</td>\n",
       "      <td>0</td>\n",
       "      <td>0</td>\n",
       "      <td>2.882842</td>\n",
       "      <td>0.000264</td>\n",
       "    </tr>\n",
       "    <tr>\n",
       "      <th>12082788</th>\n",
       "      <td>10615</td>\n",
       "      <td>20001</td>\n",
       "      <td>201702</td>\n",
       "      <td>0.0</td>\n",
       "      <td>104</td>\n",
       "      <td>1.960784</td>\n",
       "      <td>15.800</td>\n",
       "      <td>2</td>\n",
       "      <td>HC</td>\n",
       "      <td>ROPA LAVADO</td>\n",
       "      <td>...</td>\n",
       "      <td>0</td>\n",
       "      <td>0</td>\n",
       "      <td>1</td>\n",
       "      <td>0</td>\n",
       "      <td>0</td>\n",
       "      <td>0</td>\n",
       "      <td>0</td>\n",
       "      <td>0</td>\n",
       "      <td>2.882842</td>\n",
       "      <td>0.000264</td>\n",
       "    </tr>\n",
       "    <tr>\n",
       "      <th>12082789</th>\n",
       "      <td>10615</td>\n",
       "      <td>20001</td>\n",
       "      <td>201703</td>\n",
       "      <td>0.0</td>\n",
       "      <td>107</td>\n",
       "      <td>2.884615</td>\n",
       "      <td>15.645</td>\n",
       "      <td>1</td>\n",
       "      <td>HC</td>\n",
       "      <td>ROPA LAVADO</td>\n",
       "      <td>...</td>\n",
       "      <td>0</td>\n",
       "      <td>0</td>\n",
       "      <td>2</td>\n",
       "      <td>0</td>\n",
       "      <td>0</td>\n",
       "      <td>0</td>\n",
       "      <td>0</td>\n",
       "      <td>0</td>\n",
       "      <td>2.882842</td>\n",
       "      <td>0.000264</td>\n",
       "    </tr>\n",
       "    <tr>\n",
       "      <th>12082790</th>\n",
       "      <td>10615</td>\n",
       "      <td>20001</td>\n",
       "      <td>201704</td>\n",
       "      <td>0.0</td>\n",
       "      <td>109</td>\n",
       "      <td>1.869159</td>\n",
       "      <td>15.490</td>\n",
       "      <td>1</td>\n",
       "      <td>HC</td>\n",
       "      <td>ROPA LAVADO</td>\n",
       "      <td>...</td>\n",
       "      <td>0</td>\n",
       "      <td>0</td>\n",
       "      <td>3</td>\n",
       "      <td>0</td>\n",
       "      <td>0</td>\n",
       "      <td>0</td>\n",
       "      <td>0</td>\n",
       "      <td>0</td>\n",
       "      <td>2.882842</td>\n",
       "      <td>0.000264</td>\n",
       "    </tr>\n",
       "    <tr>\n",
       "      <th>12082791</th>\n",
       "      <td>10615</td>\n",
       "      <td>20001</td>\n",
       "      <td>201705</td>\n",
       "      <td>0.0</td>\n",
       "      <td>111</td>\n",
       "      <td>1.834862</td>\n",
       "      <td>16.185</td>\n",
       "      <td>2</td>\n",
       "      <td>HC</td>\n",
       "      <td>ROPA LAVADO</td>\n",
       "      <td>...</td>\n",
       "      <td>0</td>\n",
       "      <td>0</td>\n",
       "      <td>4</td>\n",
       "      <td>0</td>\n",
       "      <td>0</td>\n",
       "      <td>0</td>\n",
       "      <td>0</td>\n",
       "      <td>0</td>\n",
       "      <td>2.882842</td>\n",
       "      <td>0.000264</td>\n",
       "    </tr>\n",
       "  </tbody>\n",
       "</table>\n",
       "<p>5 rows × 194 columns</p>\n",
       "</div>"
      ],
      "text/plain": [
       "          customer_id  product_id periodo   tn  IPC  inflacion  cambio_dolar  \\\n",
       "12082787        10615       20001  201701  0.0  102   2.000000        16.080   \n",
       "12082788        10615       20001  201702  0.0  104   1.960784        15.800   \n",
       "12082789        10615       20001  201703  0.0  107   2.884615        15.645   \n",
       "12082790        10615       20001  201704  0.0  109   1.869159        15.490   \n",
       "12082791        10615       20001  201705  0.0  111   1.834862        16.185   \n",
       "\n",
       "          dias_feriados cat1         cat2  ... cluster_dtw_factorized  \\\n",
       "12082787              1   HC  ROPA LAVADO  ...                      0   \n",
       "12082788              2   HC  ROPA LAVADO  ...                      0   \n",
       "12082789              1   HC  ROPA LAVADO  ...                      0   \n",
       "12082790              1   HC  ROPA LAVADO  ...                      0   \n",
       "12082791              2   HC  ROPA LAVADO  ...                      0   \n",
       "\n",
       "         cluster_x_month  periodo_factorized cat1_factorized  cat2_factorized  \\\n",
       "12082787               0                   0               0                0   \n",
       "12082788               0                   1               0                0   \n",
       "12082789               0                   2               0                0   \n",
       "12082790               0                   3               0                0   \n",
       "12082791               0                   4               0                0   \n",
       "\n",
       "          cat3_factorized brand_factorized  descripcion_factorized  \\\n",
       "12082787                0                0                       0   \n",
       "12082788                0                0                       0   \n",
       "12082789                0                0                       0   \n",
       "12082790                0                0                       0   \n",
       "12082791                0                0                       0   \n",
       "\n",
       "          product_target_enc  customer_target_enc  \n",
       "12082787            2.882842             0.000264  \n",
       "12082788            2.882842             0.000264  \n",
       "12082789            2.882842             0.000264  \n",
       "12082790            2.882842             0.000264  \n",
       "12082791            2.882842             0.000264  \n",
       "\n",
       "[5 rows x 194 columns]"
      ]
     },
     "execution_count": 15,
     "metadata": {},
     "output_type": "execute_result"
    }
   ],
   "source": [
    "# --------------------------------------------\n",
    "# 2️⃣ Cargar dataset parquet\n",
    "# --------------------------------------------\n",
    "\n",
    "# Ruta local (ajusta si hace falta)\n",
    "file_path = \"panel_cliente_producto_fe.parquet\"\n",
    "\n",
    "df = pd.read_parquet(file_path)\n",
    "\n",
    "df['fecha'] = pd.to_datetime(df['fecha'])\n",
    "\n",
    "# Filtrar clientes a partir de 10614 (inclusive)\n",
    "df = df[df['customer_id'] > 10614]\n",
    "\n",
    "print(f\"✅ Dataset cargado con forma: {df.shape}\")\n",
    "df.head()\n",
    "\n"
   ]
  },
  {
   "cell_type": "code",
   "execution_count": 16,
   "id": "7b1b5eb9-c2c2-48e9-9c0d-60b8815f4319",
   "metadata": {
    "tags": []
   },
   "outputs": [
    {
     "name": "stdout",
     "output_type": "stream",
     "text": [
      "Index(['customer_id', 'product_id', 'periodo', 'tn', 'IPC', 'inflacion',\n",
      "       'cambio_dolar', 'dias_feriados', 'cat1', 'cat2',\n",
      "       ...\n",
      "       'cluster_dtw_factorized', 'cluster_x_month', 'periodo_factorized',\n",
      "       'cat1_factorized', 'cat2_factorized', 'cat3_factorized',\n",
      "       'brand_factorized', 'descripcion_factorized', 'product_target_enc',\n",
      "       'customer_target_enc'],\n",
      "      dtype='object', length=194)\n"
     ]
    },
    {
     "data": {
      "text/html": [
       "<div>\n",
       "<style scoped>\n",
       "    .dataframe tbody tr th:only-of-type {\n",
       "        vertical-align: middle;\n",
       "    }\n",
       "\n",
       "    .dataframe tbody tr th {\n",
       "        vertical-align: top;\n",
       "    }\n",
       "\n",
       "    .dataframe thead th {\n",
       "        text-align: right;\n",
       "    }\n",
       "</style>\n",
       "<table border=\"1\" class=\"dataframe\">\n",
       "  <thead>\n",
       "    <tr style=\"text-align: right;\">\n",
       "      <th></th>\n",
       "      <th>customer_id</th>\n",
       "      <th>product_id</th>\n",
       "      <th>fecha</th>\n",
       "      <th>tn</th>\n",
       "    </tr>\n",
       "  </thead>\n",
       "  <tbody>\n",
       "    <tr>\n",
       "      <th>12082787</th>\n",
       "      <td>10615</td>\n",
       "      <td>20001</td>\n",
       "      <td>2017-01-01</td>\n",
       "      <td>0.0</td>\n",
       "    </tr>\n",
       "    <tr>\n",
       "      <th>12082788</th>\n",
       "      <td>10615</td>\n",
       "      <td>20001</td>\n",
       "      <td>2017-02-01</td>\n",
       "      <td>0.0</td>\n",
       "    </tr>\n",
       "    <tr>\n",
       "      <th>12082789</th>\n",
       "      <td>10615</td>\n",
       "      <td>20001</td>\n",
       "      <td>2017-03-01</td>\n",
       "      <td>0.0</td>\n",
       "    </tr>\n",
       "    <tr>\n",
       "      <th>12082790</th>\n",
       "      <td>10615</td>\n",
       "      <td>20001</td>\n",
       "      <td>2017-04-01</td>\n",
       "      <td>0.0</td>\n",
       "    </tr>\n",
       "    <tr>\n",
       "      <th>12082791</th>\n",
       "      <td>10615</td>\n",
       "      <td>20001</td>\n",
       "      <td>2017-05-01</td>\n",
       "      <td>0.0</td>\n",
       "    </tr>\n",
       "  </tbody>\n",
       "</table>\n",
       "</div>"
      ],
      "text/plain": [
       "          customer_id  product_id      fecha   tn\n",
       "12082787        10615       20001 2017-01-01  0.0\n",
       "12082788        10615       20001 2017-02-01  0.0\n",
       "12082789        10615       20001 2017-03-01  0.0\n",
       "12082790        10615       20001 2017-04-01  0.0\n",
       "12082791        10615       20001 2017-05-01  0.0"
      ]
     },
     "execution_count": 16,
     "metadata": {},
     "output_type": "execute_result"
    }
   ],
   "source": [
    "# --------------------------------------------\n",
    "# 3️⃣ Verificar columnas clave\n",
    "# --------------------------------------------\n",
    "print(df.columns)\n",
    "\n",
    "# Nos aseguramos de tener: product_id, fecha, tn_total\n",
    "df[['customer_id','product_id', 'fecha', 'tn']].head()"
   ]
  },
  {
   "cell_type": "code",
   "execution_count": 20,
   "id": "c4d7e2cd-cf0a-482d-a378-4abf0e76353c",
   "metadata": {
    "tags": []
   },
   "outputs": [],
   "source": [
    "# --------------------------------------------\n",
    "# 1️⃣ Configuración inicial\n",
    "# --------------------------------------------\n",
    "output_dir = \"prophet_temporal_features_batch\"\n",
    "os.makedirs(output_dir, exist_ok=True)\n",
    "BATCH_SIZE = 500\n",
    "CORES = 40"
   ]
  },
  {
   "cell_type": "code",
   "execution_count": 21,
   "id": "8a9ed9cb-97da-4e54-8d30-6ae2ede20d56",
   "metadata": {
    "tags": []
   },
   "outputs": [],
   "source": [
    "# --------------------------------------------\n",
    "# 2️⃣ Función de procesamiento por serie\n",
    "# --------------------------------------------\n",
    "def procesar_serie(cid, pid, group):\n",
    "    try:\n",
    "        group = group.sort_values('fecha').set_index('fecha').asfreq('MS')\n",
    "        group['customer_id'] = cid\n",
    "        group['product_id'] = pid\n",
    "\n",
    "        if group['tn'].count() < 12 or group['tn'].nunique() < 2:\n",
    "            return None\n",
    "\n",
    "        df_prophet = pd.DataFrame({\n",
    "            'ds': group.index,\n",
    "            'y': group['tn']\n",
    "        })\n",
    "\n",
    "        m = Prophet(\n",
    "            yearly_seasonality=True,\n",
    "            weekly_seasonality=False,\n",
    "            daily_seasonality=False\n",
    "        )\n",
    "        m.fit(df_prophet)\n",
    "\n",
    "        forecast = m.predict(df_prophet[['ds']])\n",
    "        forecast = forecast.set_index('ds')\n",
    "\n",
    "        forecast['tn'] = df_prophet.set_index('ds')['y']\n",
    "        forecast['customer_id'] = cid\n",
    "        forecast['product_id'] = pid\n",
    "        forecast['fecha'] = forecast.index\n",
    "\n",
    "        for col in ['seasonal', 'additive_terms', 'multiplicative_terms']:\n",
    "            if col not in forecast.columns:\n",
    "                forecast[col] = 0\n",
    "\n",
    "        forecast['residual'] = forecast['tn'] - forecast['yhat']\n",
    "        forecast['slope_trend_3'] = forecast['trend'].diff().rolling(3).mean()\n",
    "\n",
    "        keep_cols = [\n",
    "            'customer_id', 'product_id', 'fecha',\n",
    "            'tn', 'trend', 'seasonal',\n",
    "            'additive_terms', 'residual', 'slope_trend_3'\n",
    "        ]\n",
    "        return forecast[keep_cols].reset_index(drop=True)\n",
    "\n",
    "    except Exception as e:\n",
    "        print(f\"❌ Error en cid={cid}, pid={pid}: {e}\")\n",
    "        return None\n"
   ]
  },
  {
   "cell_type": "code",
   "execution_count": 22,
   "id": "1e8d8020-4d2c-40f0-8d73-8ffd726cd33a",
   "metadata": {
    "tags": []
   },
   "outputs": [
    {
     "name": "stdout",
     "output_type": "stream",
     "text": [
      "🌀 Procesando bloque 1/15 con 500 series\n"
     ]
    },
    {
     "ename": "ValueError",
     "evalue": "No objects to concatenate",
     "output_type": "error",
     "traceback": [
      "\u001b[0;31m---------------------------------------------------------------------------\u001b[0m",
      "\u001b[0;31mValueError\u001b[0m                                Traceback (most recent call last)",
      "Cell \u001b[0;32mIn[22], line 18\u001b[0m\n\u001b[1;32m     13\u001b[0m resultados \u001b[38;5;241m=\u001b[39m Parallel(n_jobs\u001b[38;5;241m=\u001b[39mCORES)(\n\u001b[1;32m     14\u001b[0m     delayed(procesar_serie)(cid, pid, g) \u001b[38;5;28;01mfor\u001b[39;00m (cid, pid), g \u001b[38;5;129;01min\u001b[39;00m block\n\u001b[1;32m     15\u001b[0m )\n\u001b[1;32m     17\u001b[0m \u001b[38;5;66;03m# Filtrar nulos y unir resultados\u001b[39;00m\n\u001b[0;32m---> 18\u001b[0m df_result \u001b[38;5;241m=\u001b[39m \u001b[43mpd\u001b[49m\u001b[38;5;241;43m.\u001b[39;49m\u001b[43mconcat\u001b[49m\u001b[43m(\u001b[49m\u001b[43m[\u001b[49m\u001b[43mr\u001b[49m\u001b[43m \u001b[49m\u001b[38;5;28;43;01mfor\u001b[39;49;00m\u001b[43m \u001b[49m\u001b[43mr\u001b[49m\u001b[43m \u001b[49m\u001b[38;5;129;43;01min\u001b[39;49;00m\u001b[43m \u001b[49m\u001b[43mresultados\u001b[49m\u001b[43m \u001b[49m\u001b[38;5;28;43;01mif\u001b[39;49;00m\u001b[43m \u001b[49m\u001b[43mr\u001b[49m\u001b[43m \u001b[49m\u001b[38;5;129;43;01mis\u001b[39;49;00m\u001b[43m \u001b[49m\u001b[38;5;129;43;01mnot\u001b[39;49;00m\u001b[43m \u001b[49m\u001b[38;5;28;43;01mNone\u001b[39;49;00m\u001b[43m]\u001b[49m\u001b[43m,\u001b[49m\u001b[43m \u001b[49m\u001b[43mignore_index\u001b[49m\u001b[38;5;241;43m=\u001b[39;49m\u001b[38;5;28;43;01mTrue\u001b[39;49;00m\u001b[43m)\u001b[49m\n\u001b[1;32m     20\u001b[0m \u001b[38;5;66;03m# Guardar CSV del batch\u001b[39;00m\n\u001b[1;32m     21\u001b[0m fecha_actual \u001b[38;5;241m=\u001b[39m datetime\u001b[38;5;241m.\u001b[39mtoday()\u001b[38;5;241m.\u001b[39mstrftime(\u001b[38;5;124m'\u001b[39m\u001b[38;5;124m%\u001b[39m\u001b[38;5;124mY\u001b[39m\u001b[38;5;124m%\u001b[39m\u001b[38;5;124mm\u001b[39m\u001b[38;5;132;01m%d\u001b[39;00m\u001b[38;5;124m'\u001b[39m)\n",
      "File \u001b[0;32m/opt/conda/lib/python3.10/site-packages/pandas/core/reshape/concat.py:382\u001b[0m, in \u001b[0;36mconcat\u001b[0;34m(objs, axis, join, ignore_index, keys, levels, names, verify_integrity, sort, copy)\u001b[0m\n\u001b[1;32m    379\u001b[0m \u001b[38;5;28;01melif\u001b[39;00m copy \u001b[38;5;129;01mand\u001b[39;00m using_copy_on_write():\n\u001b[1;32m    380\u001b[0m     copy \u001b[38;5;241m=\u001b[39m \u001b[38;5;28;01mFalse\u001b[39;00m\n\u001b[0;32m--> 382\u001b[0m op \u001b[38;5;241m=\u001b[39m \u001b[43m_Concatenator\u001b[49m\u001b[43m(\u001b[49m\n\u001b[1;32m    383\u001b[0m \u001b[43m    \u001b[49m\u001b[43mobjs\u001b[49m\u001b[43m,\u001b[49m\n\u001b[1;32m    384\u001b[0m \u001b[43m    \u001b[49m\u001b[43maxis\u001b[49m\u001b[38;5;241;43m=\u001b[39;49m\u001b[43maxis\u001b[49m\u001b[43m,\u001b[49m\n\u001b[1;32m    385\u001b[0m \u001b[43m    \u001b[49m\u001b[43mignore_index\u001b[49m\u001b[38;5;241;43m=\u001b[39;49m\u001b[43mignore_index\u001b[49m\u001b[43m,\u001b[49m\n\u001b[1;32m    386\u001b[0m \u001b[43m    \u001b[49m\u001b[43mjoin\u001b[49m\u001b[38;5;241;43m=\u001b[39;49m\u001b[43mjoin\u001b[49m\u001b[43m,\u001b[49m\n\u001b[1;32m    387\u001b[0m \u001b[43m    \u001b[49m\u001b[43mkeys\u001b[49m\u001b[38;5;241;43m=\u001b[39;49m\u001b[43mkeys\u001b[49m\u001b[43m,\u001b[49m\n\u001b[1;32m    388\u001b[0m \u001b[43m    \u001b[49m\u001b[43mlevels\u001b[49m\u001b[38;5;241;43m=\u001b[39;49m\u001b[43mlevels\u001b[49m\u001b[43m,\u001b[49m\n\u001b[1;32m    389\u001b[0m \u001b[43m    \u001b[49m\u001b[43mnames\u001b[49m\u001b[38;5;241;43m=\u001b[39;49m\u001b[43mnames\u001b[49m\u001b[43m,\u001b[49m\n\u001b[1;32m    390\u001b[0m \u001b[43m    \u001b[49m\u001b[43mverify_integrity\u001b[49m\u001b[38;5;241;43m=\u001b[39;49m\u001b[43mverify_integrity\u001b[49m\u001b[43m,\u001b[49m\n\u001b[1;32m    391\u001b[0m \u001b[43m    \u001b[49m\u001b[43mcopy\u001b[49m\u001b[38;5;241;43m=\u001b[39;49m\u001b[43mcopy\u001b[49m\u001b[43m,\u001b[49m\n\u001b[1;32m    392\u001b[0m \u001b[43m    \u001b[49m\u001b[43msort\u001b[49m\u001b[38;5;241;43m=\u001b[39;49m\u001b[43msort\u001b[49m\u001b[43m,\u001b[49m\n\u001b[1;32m    393\u001b[0m \u001b[43m\u001b[49m\u001b[43m)\u001b[49m\n\u001b[1;32m    395\u001b[0m \u001b[38;5;28;01mreturn\u001b[39;00m op\u001b[38;5;241m.\u001b[39mget_result()\n",
      "File \u001b[0;32m/opt/conda/lib/python3.10/site-packages/pandas/core/reshape/concat.py:445\u001b[0m, in \u001b[0;36m_Concatenator.__init__\u001b[0;34m(self, objs, axis, join, keys, levels, names, ignore_index, verify_integrity, copy, sort)\u001b[0m\n\u001b[1;32m    442\u001b[0m \u001b[38;5;28mself\u001b[39m\u001b[38;5;241m.\u001b[39mverify_integrity \u001b[38;5;241m=\u001b[39m verify_integrity\n\u001b[1;32m    443\u001b[0m \u001b[38;5;28mself\u001b[39m\u001b[38;5;241m.\u001b[39mcopy \u001b[38;5;241m=\u001b[39m copy\n\u001b[0;32m--> 445\u001b[0m objs, keys \u001b[38;5;241m=\u001b[39m \u001b[38;5;28;43mself\u001b[39;49m\u001b[38;5;241;43m.\u001b[39;49m\u001b[43m_clean_keys_and_objs\u001b[49m\u001b[43m(\u001b[49m\u001b[43mobjs\u001b[49m\u001b[43m,\u001b[49m\u001b[43m \u001b[49m\u001b[43mkeys\u001b[49m\u001b[43m)\u001b[49m\n\u001b[1;32m    447\u001b[0m \u001b[38;5;66;03m# figure out what our result ndim is going to be\u001b[39;00m\n\u001b[1;32m    448\u001b[0m ndims \u001b[38;5;241m=\u001b[39m \u001b[38;5;28mself\u001b[39m\u001b[38;5;241m.\u001b[39m_get_ndims(objs)\n",
      "File \u001b[0;32m/opt/conda/lib/python3.10/site-packages/pandas/core/reshape/concat.py:507\u001b[0m, in \u001b[0;36m_Concatenator._clean_keys_and_objs\u001b[0;34m(self, objs, keys)\u001b[0m\n\u001b[1;32m    504\u001b[0m     objs_list \u001b[38;5;241m=\u001b[39m \u001b[38;5;28mlist\u001b[39m(objs)\n\u001b[1;32m    506\u001b[0m \u001b[38;5;28;01mif\u001b[39;00m \u001b[38;5;28mlen\u001b[39m(objs_list) \u001b[38;5;241m==\u001b[39m \u001b[38;5;241m0\u001b[39m:\n\u001b[0;32m--> 507\u001b[0m     \u001b[38;5;28;01mraise\u001b[39;00m \u001b[38;5;167;01mValueError\u001b[39;00m(\u001b[38;5;124m\"\u001b[39m\u001b[38;5;124mNo objects to concatenate\u001b[39m\u001b[38;5;124m\"\u001b[39m)\n\u001b[1;32m    509\u001b[0m \u001b[38;5;28;01mif\u001b[39;00m keys \u001b[38;5;129;01mis\u001b[39;00m \u001b[38;5;28;01mNone\u001b[39;00m:\n\u001b[1;32m    510\u001b[0m     objs_list \u001b[38;5;241m=\u001b[39m \u001b[38;5;28mlist\u001b[39m(com\u001b[38;5;241m.\u001b[39mnot_none(\u001b[38;5;241m*\u001b[39mobjs_list))\n",
      "\u001b[0;31mValueError\u001b[0m: No objects to concatenate"
     ]
    }
   ],
   "source": [
    "# --------------------------------------------\n",
    "# 3️⃣ Ejecutar en paralelo por bloques\n",
    "# --------------------------------------------\n",
    "from math import ceil\n",
    "\n",
    "series_list = list(df.groupby(['customer_id', 'product_id']))\n",
    "num_blocks = ceil(len(series_list) / BATCH_SIZE)\n",
    "\n",
    "for i in range(num_blocks):\n",
    "    block = series_list[i * BATCH_SIZE: (i + 1) * BATCH_SIZE]\n",
    "    print(f\"🌀 Procesando bloque {i+1}/{num_blocks} con {len(block)} series\")\n",
    "\n",
    "    resultados = Parallel(n_jobs=CORES)(\n",
    "        delayed(procesar_serie)(cid, pid, g) for (cid, pid), g in block\n",
    "    )\n",
    "\n",
    "    # Filtrar nulos y unir resultados\n",
    "    df_result = pd.concat([r for r in resultados if r is not None], ignore_index=True)\n",
    "\n",
    "    # Guardar CSV del batch\n",
    "    fecha_actual = datetime.today().strftime('%Y%m%d')\n",
    "    output_path = os.path.join(output_dir, f\"prophet_batch_{i+1:03d}_{fecha_actual}.csv\")\n",
    "    df_result.to_csv(output_path, index=False)\n",
    "\n",
    "    print(f\"✅ Guardado: {output_path} | {df_result.shape[0]} filas\")\n"
   ]
  },
  {
   "cell_type": "code",
   "execution_count": 23,
   "id": "974b6b68-96d5-46f8-be16-6fd3d14a3439",
   "metadata": {
    "tags": []
   },
   "outputs": [
    {
     "name": "stdout",
     "output_type": "stream",
     "text": [
      "🔍 Encontrados 89 archivos a consolidar.\n",
      "✅ Consolidación completa. Total filas: 7249573\n",
      "   customer_id  product_id       fecha         tn       trend  seasonal  \\\n",
      "0        10001       20001  2017-01-01   99.43861  110.691026         0   \n",
      "1        10001       20001  2017-02-01  198.84365  114.229187         0   \n",
      "2        10001       20001  2017-03-01   92.46537  117.424945         0   \n",
      "3        10001       20001  2017-04-01   13.29728  120.963106         0   \n",
      "4        10001       20001  2017-05-01  101.00563  124.387133         0   \n",
      "\n",
      "   additive_terms    residual  slope_trend_3  \n",
      "0      -46.415291   35.162876            NaN  \n",
      "1       92.249763   -7.635300            NaN  \n",
      "2       85.674158 -110.633733            NaN  \n",
      "3      -63.645006  -44.020820       3.424027  \n",
      "4      -23.848351    0.466848       3.385982  \n"
     ]
    }
   ],
   "source": [
    "# --------------------------------------------\n",
    "# 1️⃣ Consolidar todos los archivos Prophet en un único DataFrame\n",
    "# --------------------------------------------\n",
    "\n",
    "# Directorio donde guardamos los batches\n",
    "input_dir = \"prophet_temporal_features_batch\"\n",
    "\n",
    "# Buscar todos los .csv de output\n",
    "csv_files = sorted(glob.glob(os.path.join(input_dir, \"prophet_batch_*.csv\")))\n",
    "\n",
    "print(f\"🔍 Encontrados {len(csv_files)} archivos a consolidar.\")\n",
    "\n",
    "# Leer todos y concatenar\n",
    "df_prophet_final = pd.concat([pd.read_csv(f) for f in csv_files], ignore_index=True)\n",
    "\n",
    "\n",
    "# Verificación rápida\n",
    "print(f\"✅ Consolidación completa. Total filas: {df_prophet_final.shape[0]}\")\n",
    "print(df_prophet_final.head())\n"
   ]
  },
  {
   "cell_type": "code",
   "execution_count": 24,
   "id": "3e9e084c-f836-40b4-8210-a8175fecec3e",
   "metadata": {},
   "outputs": [],
   "source": [
    "df_prophet_final.to_csv('prophet_features_customer_product.csv', index=False)"
   ]
  },
  {
   "cell_type": "code",
   "execution_count": null,
   "id": "8abda140-91d1-4195-8e63-d21d7064141e",
   "metadata": {},
   "outputs": [],
   "source": []
  }
 ],
 "metadata": {
  "environment": {
   "kernel": "conda-base-py",
   "name": "workbench-notebooks.m131",
   "type": "gcloud",
   "uri": "us-docker.pkg.dev/deeplearning-platform-release/gcr.io/workbench-notebooks:m131"
  },
  "kernelspec": {
   "display_name": "Python 3 (ipykernel) (Local)",
   "language": "python",
   "name": "conda-base-py"
  },
  "language_info": {
   "codemirror_mode": {
    "name": "ipython",
    "version": 3
   },
   "file_extension": ".py",
   "mimetype": "text/x-python",
   "name": "python",
   "nbconvert_exporter": "python",
   "pygments_lexer": "ipython3",
   "version": "3.10.18"
  }
 },
 "nbformat": 4,
 "nbformat_minor": 5
}
