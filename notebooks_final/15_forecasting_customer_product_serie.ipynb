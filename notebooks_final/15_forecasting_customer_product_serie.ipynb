{
 "cells": [
  {
   "cell_type": "markdown",
   "id": "8dfd9ae5-edee-452b-929f-d13eecb983d2",
   "metadata": {},
   "source": [
    "# Modelado tabular con Autgluon"
   ]
  },
  {
   "cell_type": "code",
   "execution_count": 1,
   "id": "6ba6e856-5142-4c55-9453-e7cd9cb05c58",
   "metadata": {
    "tags": []
   },
   "outputs": [
    {
     "name": "stdout",
     "output_type": "stream",
     "text": [
      "Get:1 https://nvidia.github.io/libnvidia-container/stable/deb/amd64  InRelease [1477 B]\n",
      "Hit:2 https://deb.debian.org/debian bullseye InRelease                         \n",
      "Hit:3 https://download.docker.com/linux/debian bullseye InRelease   \n",
      "Hit:4 https://deb.debian.org/debian-security bullseye-security InRelease\n",
      "Hit:5 https://deb.debian.org/debian bullseye-updates InRelease\n",
      "Hit:6 https://deb.debian.org/debian bullseye-backports InRelease\n",
      "Hit:7 https://packages.cloud.google.com/apt gcsfuse-bullseye InRelease\n",
      "Hit:8 https://packages.cloud.google.com/apt google-compute-engine-bullseye-stable InRelease\n",
      "Hit:9 https://packages.cloud.google.com/apt cloud-sdk-bullseye InRelease\n",
      "Hit:10 https://packages.cloud.google.com/apt google-fast-socket InRelease\n",
      "Fetched 1477 B in 1s (1782 B/s)\n",
      "Reading package lists... Done\n",
      "Reading package lists... Done\n",
      "Building dependency tree... Done\n",
      "Reading state information... Done\n",
      "gcsfuse is already the newest version (3.1.0).\n",
      "0 upgraded, 0 newly installed, 0 to remove and 9 not upgraded.\n"
     ]
    }
   ],
   "source": [
    "!sudo apt-get update\n",
    "!sudo apt-get install gcsfuse"
   ]
  },
  {
   "cell_type": "code",
   "execution_count": 2,
   "id": "cafae9d5-f167-4844-a54d-837399e5957d",
   "metadata": {
    "tags": []
   },
   "outputs": [],
   "source": [
    "#!pip install autogluon.timeseries"
   ]
  },
  {
   "cell_type": "markdown",
   "id": "f714f161-c384-4582-9df4-b2e170562023",
   "metadata": {},
   "source": [
    "# Carga librerías"
   ]
  },
  {
   "cell_type": "code",
   "execution_count": 3,
   "id": "a34db802-71e7-4536-8484-73281601d474",
   "metadata": {
    "tags": []
   },
   "outputs": [],
   "source": [
    "import pandas as pd\n",
    "from autogluon.timeseries import TimeSeriesPredictor\n",
    "import numpy as np"
   ]
  },
  {
   "cell_type": "code",
   "execution_count": 4,
   "id": "a80944f5-a7ef-4f3f-a194-ca859daa6053",
   "metadata": {
    "tags": []
   },
   "outputs": [],
   "source": [
    "!mkdir -p /home/jupyter/franco_maestria/gcs_model_dir_fullpower_serie"
   ]
  },
  {
   "cell_type": "code",
   "execution_count": 5,
   "id": "8ddf2a47-869b-4059-ab6a-93745c17b19f",
   "metadata": {
    "tags": []
   },
   "outputs": [],
   "source": [
    "#!fusermount -u /home/jupyter/franco_maestria/gcs_model_dir_fullpower_serie"
   ]
  },
  {
   "cell_type": "code",
   "execution_count": 6,
   "id": "165665a4-ea68-48fa-ae69-2dc8e0cd0149",
   "metadata": {},
   "outputs": [
    {
     "name": "stdout",
     "output_type": "stream",
     "text": [
      "{\"timestamp\":{\"seconds\":1752405925,\"nanos\":203624749},\"severity\":\"INFO\",\"message\":\"Start gcsfuse/3.1.0 (Go version go1.24.0) for app \\\"\\\" using mount point: /home/jupyter/franco_maestria/gcs_model_dir_fullpower_serie\\n\"}\n",
      "{\"timestamp\":{\"seconds\":1752405925,\"nanos\":203667874},\"severity\":\"INFO\",\"message\":\"GCSFuse config\",\"config\":{\"AppName\":\"\",\"CacheDir\":\"\",\"Debug\":{\"ExitOnInvariantViolation\":false,\"Fuse\":false,\"Gcs\":false,\"LogMutex\":false},\"DisableAutoconfig\":false,\"EnableAtomicRenameObject\":true,\"EnableGoogleLibAuth\":false,\"EnableHns\":true,\"EnableNewReader\":false,\"FileCache\":{\"CacheFileForRangeRead\":false,\"DownloadChunkSizeMb\":200,\"EnableCrc\":false,\"EnableODirect\":false,\"EnableParallelDownloads\":false,\"ExperimentalExcludeRegex\":\"\",\"ExperimentalParallelDownloadsDefaultOn\":true,\"MaxParallelDownloads\":96,\"MaxSizeMb\":-1,\"ParallelDownloadsPerFile\":16,\"WriteBufferSize\":4194304},\"FileSystem\":{\"DirMode\":\"755\",\"DisableParallelDirops\":false,\"ExperimentalEnableDentryCache\":false,\"ExperimentalEnableReaddirplus\":false,\"FileMode\":\"644\",\"FuseOptions\":[],\"Gid\":-1,\"IgnoreInterrupts\":true,\"KernelListCacheTtlSecs\":0,\"PreconditionErrors\":true,\"RenameDirLimit\":0,\"TempDir\":\"\",\"Uid\":-1},\"Foreground\":false,\"GcsAuth\":{\"AnonymousAccess\":false,\"KeyFile\":\"\",\"ReuseTokenFromUrl\":true,\"TokenUrl\":\"\"},\"GcsConnection\":{\"BillingProject\":\"\",\"ClientProtocol\":\"http1\",\"CustomEndpoint\":\"\",\"ExperimentalEnableJsonRead\":false,\"GrpcConnPoolSize\":1,\"HttpClientTimeout\":0,\"LimitBytesPerSec\":-1,\"LimitOpsPerSec\":-1,\"MaxConnsPerHost\":0,\"MaxIdleConnsPerHost\":100,\"SequentialReadSizeMb\":200},\"GcsRetries\":{\"ChunkTransferTimeoutSecs\":10,\"MaxRetryAttempts\":0,\"MaxRetrySleep\":30000000000,\"Multiplier\":2,\"ReadStall\":{\"Enable\":true,\"InitialReqTimeout\":20000000000,\"MaxReqTimeout\":1200000000000,\"MinReqTimeout\":1500000000,\"ReqIncreaseRate\":15,\"ReqTargetPercentile\":0.99}},\"ImplicitDirs\":false,\"List\":{\"EnableEmptyManagedFolders\":false},\"Logging\":{\"FilePath\":\"\",\"Format\":\"json\",\"LogRotate\":{\"BackupFileCount\":10,\"Compress\":true,\"MaxFileSizeMb\":512},\"Severity\":\"INFO\"},\"MachineType\":\"\",\"MetadataCache\":{\"DeprecatedStatCacheCapacity\":20460,\"DeprecatedStatCacheTtl\":60000000000,\"DeprecatedTypeCacheTtl\":60000000000,\"EnableNonexistentTypeCache\":false,\"ExperimentalMetadataPrefetchOnMount\":\"disabled\",\"NegativeTtlSecs\":5,\"StatCacheMaxSizeMb\":33,\"TtlSecs\":60,\"TypeCacheMaxSizeMb\":4},\"Metrics\":{\"CloudMetricsExportIntervalSecs\":0,\"PrometheusPort\":0,\"StackdriverExportInterval\":0,\"UseNewNames\":false},\"Monitoring\":{\"ExperimentalTracingMode\":\"\",\"ExperimentalTracingSamplingRatio\":0},\"OnlyDir\":\"\",\"Profiling\":{\"AllocatedHeap\":true,\"Cpu\":true,\"Enabled\":false,\"Goroutines\":false,\"Heap\":true,\"Label\":\"gcsfuse-0.0.0\",\"Mutex\":false},\"Read\":{\"InactiveStreamTimeout\":10000000000},\"Write\":{\"BlockSizeMb\":33554432,\"CreateEmptyFile\":false,\"EnableStreamingWrites\":true,\"ExperimentalEnableRapidAppends\":false,\"GlobalMaxBlocks\":4,\"MaxBlocksPerFile\":1}}}\n",
      "{\"timestamp\":{\"seconds\":1752405925,\"nanos\":339093061},\"severity\":\"INFO\",\"message\":\"File system has been successfully mounted.\"}\n"
     ]
    }
   ],
   "source": [
    "!gcsfuse forecasting_customer_product /home/jupyter/franco_maestria/gcs_model_dir_fullpower_serie"
   ]
  },
  {
   "cell_type": "markdown",
   "id": "a833d61d-d76f-430c-b52d-6a4ba7c05224",
   "metadata": {},
   "source": [
    "# ✅ 1) Cálculo y aplicación de la estandarización\n",
    "\n",
    "### 👉 Idea clave:\n",
    "\n",
    "- Calculas media y desvío por product_id usando solo los registros de entrenamiento (train_set).\n",
    "- Creas un scaler_dict para mapear cada product_id a su (mean, std).\n",
    "- Normalizas tn y clase solo en training.\n",
    "- En test, aplicas el mismo scaler_dict para transformar los features antes de predecir y reviertes la predicción después."
   ]
  },
  {
   "cell_type": "code",
   "execution_count": 8,
   "id": "670c745a-acfb-4d86-9e9b-163ced318b6b",
   "metadata": {
    "tags": []
   },
   "outputs": [
    {
     "name": "stdout",
     "output_type": "stream",
     "text": [
      "✅ Parquet cargado. Shape: (12138186, 194)\n"
     ]
    }
   ],
   "source": [
    "# ------------------------\n",
    "# 1) Cargar parquet con FE\n",
    "# ------------------------\n",
    "\n",
    "parquet_path = \"panel_cliente_producto_fe.parquet\"\n",
    "df = pd.read_parquet(parquet_path)\n",
    "\n",
    "print(f\"✅ Parquet cargado. Shape: {df.shape}\")"
   ]
  },
  {
   "cell_type": "code",
   "execution_count": null,
   "id": "7b1b5eb9-c2c2-48e9-9c0d-60b8815f4319",
   "metadata": {
    "tags": []
   },
   "outputs": [
    {
     "name": "stderr",
     "output_type": "stream",
     "text": [
      "/opt/conda/lib/python3.10/site-packages/autogluon/timeseries/predictor.py:198: FutureWarning: 'M' is deprecated and will be removed in a future version, please use 'ME' instead.\n",
      "  offset = pd.tseries.frequencies.to_offset(self.freq)\n",
      "Frequency 'M' stored as 'ME'\n",
      "Beginning AutoGluon training... Time limit = 18000s\n",
      "AutoGluon will save models to '/home/jupyter/franco_maestria/AutogluonModels/ag-20250713_125601'\n",
      "=================== System Info ===================\n",
      "AutoGluon Version:  1.3.1\n",
      "Python Version:     3.10.18\n",
      "Operating System:   Linux\n",
      "Platform Machine:   x86_64\n",
      "Platform Version:   #1 SMP Debian 5.10.237-1 (2025-05-19)\n",
      "CPU Count:          48\n",
      "GPU Count:          0\n",
      "Memory Avail:       329.59 GB / 377.89 GB (87.2%)\n",
      "Disk Space Avail:   65.11 GB / 97.87 GB (66.5%)\n",
      "===================================================\n",
      "\n",
      "Fitting with arguments:\n",
      "{'enable_ensemble': True,\n",
      " 'eval_metric': MAE,\n",
      " 'freq': 'ME',\n",
      " 'hyperparameters': 'default',\n",
      " 'known_covariates_names': [],\n",
      " 'num_val_windows': 2,\n",
      " 'prediction_length': 1,\n",
      " 'quantile_levels': [0.1, 0.2, 0.3, 0.4, 0.5, 0.6, 0.7, 0.8, 0.9],\n",
      " 'random_seed': 123,\n",
      " 'refit_every_n_windows': 1,\n",
      " 'refit_full': False,\n",
      " 'skip_model_selection': False,\n",
      " 'target': 'tn',\n",
      " 'time_limit': 18000,\n",
      " 'verbosity': 2}\n",
      "\n"
     ]
    },
    {
     "name": "stdout",
     "output_type": "stream",
     "text": [
      "       item_id  timestamp         tn\n",
      "0  10001_20001 2017-01-01   99.43861\n",
      "1  10001_20001 2017-02-01  198.84365\n",
      "2  10001_20001 2017-03-01   92.46537\n",
      "3  10001_20001 2017-04-01   13.29728\n",
      "4  10001_20001 2017-05-01  101.00563\n"
     ]
    },
    {
     "name": "stderr",
     "output_type": "stream",
     "text": [
      "train_data with frequency 'IRREG' has been resampled to frequency 'ME'.\n",
      "Provided train_data has 12138186 rows (NaN fraction=9.1%), 450311 time series. Median time series length is 35 (min=1, max=36). \n",
      "\tRemoving 35117 short time series from train_data. Only series with length >= 7 will be used for training.\n",
      "\tAfter filtering, train_data has 11981042 rows (NaN fraction=9.2%), 415194 time series. Median time series length is 36 (min=7, max=36). \n",
      "\n",
      "Provided data contains following columns:\n",
      "\ttarget: 'tn'\n",
      "\n",
      "AutoGluon will gauge predictive performance using evaluation metric: 'MAE'\n",
      "\tThis metric's sign has been flipped to adhere to being higher_is_better. The metric score can be multiplied by -1 to get the metric value.\n",
      "===================================================\n",
      "\n",
      "Starting training. Start time is 2025-07-13 13:18:52\n",
      "Models that will be trained: ['SeasonalNaive', 'RecursiveTabular', 'DirectTabular', 'NPTS', 'DynamicOptimizedTheta', 'AutoETS', 'ChronosZeroShot[bolt_base]', 'ChronosFineTuned[bolt_small]', 'TemporalFusionTransformer', 'DeepAR', 'PatchTST', 'TiDE']\n",
      "Training timeseries model SeasonalNaive. Training for up to 1335.7s of the 16628.7s of remaining time.\n",
      "\t-0.0743       = Validation score (-MAE)\n",
      "\t209.06  s     = Training runtime\n",
      "\t180.00  s     = Validation (prediction) runtime\n",
      "Training timeseries model RecursiveTabular. Training for up to 1421.8s of the 16239.3s of remaining time.\n",
      "\tTime series in the dataset are too short for chosen differences [12]. Setting differences to [1].\n",
      "\tTime series in the dataset are too short for chosen differences [12]. Setting differences to [1].\n",
      "\t-0.0638       = Validation score (-MAE)\n",
      "\t75.64   s     = Training runtime\n",
      "\t29.63   s     = Validation (prediction) runtime\n",
      "Training timeseries model DirectTabular. Training for up to 1553.4s of the 16133.5s of remaining time.\n",
      "\t-0.0610       = Validation score (-MAE)\n",
      "\t82.73   s     = Training runtime\n",
      "\t44.75   s     = Validation (prediction) runtime\n",
      "Training timeseries model NPTS. Training for up to 1711.7s of the 16005.4s of remaining time.\n",
      "\t-0.0759       = Validation score (-MAE)\n",
      "\t215.60  s     = Training runtime\n",
      "\t181.22  s     = Validation (prediction) runtime\n",
      "Training timeseries model DynamicOptimizedTheta. Training for up to 1876.0s of the 15608.2s of remaining time.\n",
      "\t-0.0682       = Validation score (-MAE)\n",
      "\t234.11  s     = Training runtime\n",
      "\t205.91  s     = Validation (prediction) runtime\n",
      "Training timeseries model AutoETS. Training for up to 2081.1s of the 15167.9s of remaining time.\n",
      "\tWarning: AutoETS/W0 failed for 7355 time series (1.8%). Fallback model SeasonalNaive was used for these time series.\n",
      "\tWarning: AutoETS/W1 failed for 3945 time series (1.0%). Fallback model SeasonalNaive was used for these time series.\n",
      "\t-0.0678       = Validation score (-MAE)\n",
      "\t237.61  s     = Training runtime\n",
      "\t202.33  s     = Validation (prediction) runtime\n",
      "Training timeseries model ChronosZeroShot[bolt_base]. Training for up to 2354.6s of the 14727.7s of remaining time.\n",
      "\t-0.0605       = Validation score (-MAE)\n",
      "\t400.53  s     = Training runtime\n",
      "\t363.48  s     = Validation (prediction) runtime\n",
      "Training timeseries model ChronosFineTuned[bolt_small]. Training for up to 2672.7s of the 13963.3s of remaining time.\n",
      "\tSkipping covariate_regressor since the dataset contains no covariates or static features.\n",
      "\tSaving fine-tuned model to /home/jupyter/franco_maestria/AutogluonModels/ag-20250713_125601/models/ChronosFineTuned[bolt_small]/W0/fine-tuned-ckpt\n",
      "\tSkipping covariate_regressor since the dataset contains no covariates or static features.\n",
      "\tSaving fine-tuned model to /home/jupyter/franco_maestria/AutogluonModels/ag-20250713_125601/models/ChronosFineTuned[bolt_small]/W1/fine-tuned-ckpt\n",
      "\t-0.0571       = Validation score (-MAE)\n",
      "\t592.40  s     = Training runtime\n",
      "\t132.45  s     = Validation (prediction) runtime\n",
      "Training timeseries model TemporalFusionTransformer. Training for up to 3159.5s of the 13237.9s of remaining time.\n",
      "\t-0.0565       = Validation score (-MAE)\n",
      "\t648.34  s     = Training runtime\n",
      "\t289.83  s     = Validation (prediction) runtime\n",
      "Training timeseries model PatchTST. Training for up to 5436.2s of the 11472.5s of remaining time.\n",
      "\t-0.0577       = Validation score (-MAE)\n",
      "\t310.28  s     = Training runtime\n",
      "\t186.08  s     = Validation (prediction) runtime\n",
      "Training timeseries model TiDE. Training for up to 10375.8s of the 10975.8s of remaining time.\n",
      "\t-0.0584       = Validation score (-MAE)\n",
      "\t1690.61 s     = Training runtime\n",
      "\t500.04  s     = Validation (prediction) runtime\n",
      "Fitting simple weighted ensemble.\n",
      "\tEnsemble weights: {'ChronosFineTuned[bolt_small]': 0.06, 'ChronosZeroShot[bolt_base]': 0.25, 'DeepAR': 0.66, 'SeasonalNaive': 0.03}\n",
      "\t-0.0556       = Validation score (-MAE)\n",
      "\t136.52  s     = Training runtime\n",
      "\t965.77  s     = Validation (prediction) runtime\n",
      "Training complete. Models trained: ['SeasonalNaive', 'RecursiveTabular', 'DirectTabular', 'NPTS', 'DynamicOptimizedTheta', 'AutoETS', 'ChronosZeroShot[bolt_base]', 'ChronosFineTuned[bolt_small]', 'TemporalFusionTransformer', 'DeepAR', 'PatchTST', 'TiDE', 'WeightedEnsemble']\n",
      "Total runtime: 7999.62 s\n",
      "Best model: WeightedEnsemble\n",
      "Best model score: -0.0556\n"
     ]
    },
    {
     "name": "stdout",
     "output_type": "stream",
     "text": [
      "Última fecha: 2019-12-01 → Fecha objetivo: 2020-02-01\n"
     ]
    },
    {
     "name": "stderr",
     "output_type": "stream",
     "text": [
      "data with frequency 'IRREG' has been resampled to frequency 'ME'.\n",
      "Model not specified in predict, will default to the model with the best validation score: WeightedEnsemble\n"
     ]
    },
    {
     "name": "stdout",
     "output_type": "stream",
     "text": [
      "       item_id  timestamp        mean        0.1        0.2         0.3  \\\n",
      "0  10001_20001 2020-01-31  158.124273 -12.723517  49.539174   86.166681   \n",
      "1  10001_20002 2020-01-31  214.488485  30.852084  93.652966  137.073882   \n",
      "2  10001_20003 2020-01-31   73.952669  -8.141188  19.989356   42.915080   \n",
      "3  10001_20004 2020-01-31   15.677887  -3.278758   3.188757    7.894541   \n",
      "4  10001_20005 2020-01-31    4.193111  -0.167670   1.632387    2.463391   \n",
      "\n",
      "          0.4         0.5         0.6         0.7         0.8         0.9  \n",
      "0  124.609566  158.124273  188.906034  224.023255  270.600919  343.839415  \n",
      "1  177.747329  214.488485  249.180038  292.254952  349.569661  457.365709  \n",
      "2   58.900472   73.952669   88.942018  110.484680  138.778123  181.103612  \n",
      "3   12.674014   15.677887   19.898588   24.930783   29.651709   36.153114  \n",
      "4    3.300738    4.193111    4.970698    5.834702    7.041490    9.012295  \n",
      "   product_id           tn\n",
      "0       20001  1030.672333\n",
      "1       20002   769.951558\n",
      "2       20003   483.738762\n",
      "3       20004   358.209652\n",
      "4       20005   379.043024\n",
      "✅ Archivo guardado: forecast_customer_producto_serie.csv | Productos: 780\n"
     ]
    }
   ],
   "source": [
    "# ================================================\n",
    "# ✅ BLOQUE — Forecasting con AutoGluon TimeSeries\n",
    "# ================================================\n",
    "\n",
    "# ------------------------\n",
    "# 2) Preparar dataset para AutoGluon\n",
    "# ------------------------\n",
    "\n",
    "# Crear columna item_id combinando customer_id y product_id\n",
    "df['item_id'] = df['customer_id'].astype(str) + '_' + df['product_id'].astype(str)\n",
    "\n",
    "# Asegurarse que 'fecha' es datetime y se llama 'timestamp'\n",
    "df['timestamp'] = pd.to_datetime(df['fecha'])\n",
    "\n",
    "# Mantener solo columnas necesarias\n",
    "df_ts = df[['item_id', 'timestamp', 'tn']].copy()\n",
    "\n",
    "print(df_ts.head())\n",
    "\n",
    "# ------------------------\n",
    "# 3) Configurar predictor\n",
    "# ------------------------\n",
    "\n",
    "predictor = TimeSeriesPredictor(\n",
    "    target='tn',\n",
    "    eval_metric='MAE',\n",
    "     freq='M', \n",
    "    prediction_length=1,  # Porque queremos solo un punto, el mes +2\n",
    ")\n",
    "\n",
    "# ------------------------\n",
    "# 4) Entrenar predictor\n",
    "# ------------------------\n",
    "\n",
    "# ⚙️ Entrenar predictor con time_limit dentro de .fit()\n",
    "predictor.fit(\n",
    "    train_data=df_ts,\n",
    "    time_limit=18000,          # ⏰ límite de tiempo acá, NO en __init__\n",
    "    num_val_windows=2\n",
    ")\n",
    "\n",
    "# ------------------------\n",
    "# 5) Preparar datos de predicción\n",
    "# ------------------------\n",
    "\n",
    "# Identificar última fecha\n",
    "last_date = df_ts['timestamp'].max()\n",
    "future_date = last_date + pd.DateOffset(months=2)\n",
    "print(f\"Última fecha: {last_date.date()} → Fecha objetivo: {future_date.date()}\")\n",
    "\n",
    "# Crear DataFrame para forecast: item_id + timestamps futuros\n",
    "# AutoGluon genera internamente los steps, solo pasamos series base\n",
    "forecast = predictor.predict(df_ts)\n",
    "\n",
    "# ------------------------\n",
    "# 6) Procesar salida final\n",
    "# ------------------------\n",
    "\n",
    "# 🗂️ forecast es un TimeSeriesDataFrame con MultiIndex (item_id, timestamp)\n",
    "forecast_df = forecast.reset_index()\n",
    "\n",
    "# 👀 Verifica cómo queda\n",
    "print(forecast_df.head())\n",
    "\n",
    "# Si tu item_id es 'customerId_productId', sepáralo:\n",
    "forecast_df[['customer_id', 'product_id']] = forecast_df['item_id'].str.split('_', expand=True)\n",
    "\n",
    "# Renombra columna de salida\n",
    "forecast_df = forecast_df.rename(columns={'mean': 'tn_pred'})\n",
    "\n",
    "# Asegúrate de convertir product_id a int si es necesario\n",
    "forecast_df['product_id'] = forecast_df['product_id'].astype(int)\n",
    "\n",
    "# Suma por producto\n",
    "df_final = (\n",
    "    forecast_df.groupby('product_id')['tn_pred']\n",
    "    .sum()\n",
    "    .reset_index()\n",
    "    .rename(columns={'tn_pred': 'tn'})\n",
    ")\n",
    "\n",
    "print(df_final.head())\n",
    "\n",
    "# ------------------------\n",
    "# 7) Exportar CSV final\n",
    "# ------------------------\n",
    "\n",
    "output_file = 'forecast_customer_producto_serie.csv'\n",
    "df_final.to_csv(output_file, index=False)\n",
    "print(f\"✅ Archivo guardado: {output_file} | Productos: {df_final.shape[0]}\")\n"
   ]
  },
  {
   "cell_type": "code",
   "execution_count": null,
   "id": "393ade4f-4930-476e-b4f8-cfaade2aa35a",
   "metadata": {},
   "outputs": [],
   "source": []
  }
 ],
 "metadata": {
  "environment": {
   "kernel": "conda-base-py",
   "name": "workbench-notebooks.m130",
   "type": "gcloud",
   "uri": "us-docker.pkg.dev/deeplearning-platform-release/gcr.io/workbench-notebooks:m130"
  },
  "kernelspec": {
   "display_name": "Python 3 (ipykernel) (Local)",
   "language": "python",
   "name": "conda-base-py"
  },
  "language_info": {
   "codemirror_mode": {
    "name": "ipython",
    "version": 3
   },
   "file_extension": ".py",
   "mimetype": "text/x-python",
   "name": "python",
   "nbconvert_exporter": "python",
   "pygments_lexer": "ipython3",
   "version": "3.10.18"
  }
 },
 "nbformat": 4,
 "nbformat_minor": 5
}
