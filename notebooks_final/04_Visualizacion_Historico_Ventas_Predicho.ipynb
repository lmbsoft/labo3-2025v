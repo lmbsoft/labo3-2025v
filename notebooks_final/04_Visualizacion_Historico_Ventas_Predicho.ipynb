{
 "cells": [
  {
   "cell_type": "markdown",
   "id": "27526d4f",
   "metadata": {},
   "source": [
    "# Visualización dinámica del histórico de ventas por producto + Predicción\n",
    "\n",
    "Este notebook permite:\n",
    "\n",
    "- Cargar el archivo `sell-in.txt` y `forecast_product_phase1_con_real.csv`,\n",
    "- Ver el histórico de toneladas (`tn`) por producto y período,\n",
    "- Superponer en el gráfico los valores **predichos** por modelo (`tn_predicho`).\n"
   ]
  },
  {
   "cell_type": "code",
   "execution_count": 17,
   "id": "ce84ab5e",
   "metadata": {},
   "outputs": [],
   "source": [
    "\n",
    "import pandas as pd\n",
    "import matplotlib.pyplot as plt\n",
    "from ipywidgets import interact\n"
   ]
  },
  {
   "cell_type": "markdown",
   "id": "03f16265",
   "metadata": {},
   "source": [
    "## Carga de archivos y join con predicción"
   ]
  },
  {
   "cell_type": "code",
   "execution_count": 20,
   "id": "cde97d8e",
   "metadata": {},
   "outputs": [],
   "source": [
    "# Cargar archivo de ventas\n",
    "df_sellin = pd.read_csv(\"C:\\\\Developer\\\\Laboratorio_III\\\\data\\\\sell-in.txt\", sep='\\t')\n",
    "df_sellin['periodo'] = df_sellin['periodo'].astype(str)\n",
    "\n",
    "# Agregar toneladas por período y producto (histórico real)\n",
    "df_hist = df_sellin.groupby(['periodo', 'product_id'])['tn'].sum().reset_index()\n",
    "\n",
    "# Cargar predicciones con real incluido\n",
    "df_forecast = pd.read_csv(\"C:\\\\Developer\\\\Laboratorio_III\\\\notebooks\\\\forecast_product_phase1_con_real.csv\")\n",
    "df_forecast = df_forecast.rename(columns={'tn': 'tn_predicho'})\n",
    "\n",
    "# Merge SOLO por product_id (tn_predicho es fijo por producto)\n",
    "df_merged = df_hist.merge(df_forecast[['product_id', 'tn_predicho']], on='product_id', how='left')\n",
    "\n"
   ]
  },
  {
   "cell_type": "markdown",
   "id": "8fc53d81",
   "metadata": {},
   "source": [
    "## Visualización interactiva de ventas reales y predicción"
   ]
  },
  {
   "cell_type": "code",
   "execution_count": 23,
   "id": "01951735",
   "metadata": {},
   "outputs": [
    {
     "data": {
      "application/vnd.jupyter.widget-view+json": {
       "model_id": "136534af595c49cbac799979f4bdcc18",
       "version_major": 2,
       "version_minor": 0
      },
      "text/plain": [
       "interactive(children=(Dropdown(description='producto_id', options=(20001, 20002, 20003, 20004, 20005, 20006, 2…"
      ]
     },
     "metadata": {},
     "output_type": "display_data"
    }
   ],
   "source": [
    "@interact(producto_id=sorted(df_merged['product_id'].unique()))\n",
    "def plot_producto_con_pred(producto_id):\n",
    "    datos = df_merged[df_merged['product_id'] == producto_id].sort_values('periodo')\n",
    "    pred = datos['tn_predicho'].iloc[0]\n",
    "\n",
    "    plt.figure(figsize=(10, 4))\n",
    "    plt.plot(datos['periodo'], datos['tn'], marker='o', color='steelblue', label='Ventas reales')\n",
    "\n",
    "    if not pd.isna(pred):\n",
    "        plt.axhline(y=pred, color='darkorange', linestyle='--', label=f'Predicción ARIMA: {pred:.2f}')\n",
    "\n",
    "    plt.title(f\"Evolución histórica de ventas - Producto {producto_id}\")\n",
    "    plt.xlabel(\"Periodo\")\n",
    "    plt.ylabel(\"Toneladas\")\n",
    "    plt.xticks(rotation=45)\n",
    "    plt.grid(True)\n",
    "    plt.legend()\n",
    "    plt.tight_layout()\n",
    "    plt.show()\n",
    "\n",
    "\n"
   ]
  },
  {
   "cell_type": "code",
   "execution_count": null,
   "id": "3d2ac53a",
   "metadata": {},
   "outputs": [
    {
     "data": {
      "application/vnd.jupyter.widget-view+json": {
       "model_id": "4621b7fd40c4482ea8db415e45703378",
       "version_major": 2,
       "version_minor": 0
      },
      "text/plain": [
       "interactive(children=(Dropdown(description='producto_id', options=(20001, 20002, 20003, 20004, 20005, 20006, 2…"
      ]
     },
     "metadata": {},
     "output_type": "display_data"
    }
   ],
   "source": [
    "@interact(producto_id=sorted(df_merged['product_id'].unique()))\n",
    "def plot_producto_con_pred(producto_id):\n",
    "    # Filtrar la serie completa del producto\n",
    "    datos = df_merged[df_merged['product_id'] == producto_id].sort_values('periodo')\n",
    "\n",
    "    # Extraer el valor predicho y confirmar si existe\n",
    "    pred_row = datos[datos['periodo'] == '201912']\n",
    "    valor_predicho = pred_row['tn_predicho'].iloc[0] if not pred_row.empty else None\n",
    "\n",
    "    plt.figure(figsize=(10, 4))\n",
    "\n",
    "    # Línea con la evolución histórica de ventas\n",
    "    plt.plot(datos['periodo'], datos['tn'], marker='o', color='steelblue', label='Ventas reales')\n",
    "\n",
    "    # Agregar punto rojo en 201912 si existe predicción\n",
    "    if valor_predicho is not None and not pd.isna(valor_predicho):\n",
    "        plt.scatter('201912', valor_predicho, color='red', s=100, zorder=5, label=f'Predicción ARIMA (201912): {valor_predicho:.2f}')\n",
    "\n",
    "    plt.title(f\"Evolución de ventas - Producto {producto_id}\")\n",
    "    plt.xlabel(\"Periodo\")\n",
    "    plt.ylabel(\"Toneladas\")\n",
    "    plt.xticks(rotation=45)\n",
    "    plt.grid(True)\n",
    "    plt.legend()\n",
    "    plt.tight_layout()\n",
    "    plt.show()\n"
   ]
  }
 ],
 "metadata": {
  "kernelspec": {
   "display_name": "labo_III",
   "language": "python",
   "name": "python3"
  },
  "language_info": {
   "codemirror_mode": {
    "name": "ipython",
    "version": 3
   },
   "file_extension": ".py",
   "mimetype": "text/x-python",
   "name": "python",
   "nbconvert_exporter": "python",
   "pygments_lexer": "ipython3",
   "version": "3.9.21"
  }
 },
 "nbformat": 4,
 "nbformat_minor": 5
}
