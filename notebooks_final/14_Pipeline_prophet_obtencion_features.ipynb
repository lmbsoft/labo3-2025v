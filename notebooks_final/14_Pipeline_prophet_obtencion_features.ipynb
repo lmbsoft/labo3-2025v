{
 "cells": [
  {
   "cell_type": "code",
   "execution_count": 1,
   "id": "1cd664e0",
   "metadata": {},
   "outputs": [],
   "source": [
    "# --------------------------------------------\n",
    "# 1️⃣ Configuración e importación de librerías\n",
    "# --------------------------------------------\n",
    "import pandas as pd\n",
    "import numpy as np\n",
    "from prophet import Prophet\n",
    "from tqdm import tqdm  # Para barra de progreso\n",
    "import os\n",
    "from prophet import Prophet\n",
    "import cmdstanpy\n",
    "\n",
    "\n",
    "# Opcional: para visualizar más columnas\n",
    "pd.set_option('display.max_columns', None)\n"
   ]
  },
  {
   "cell_type": "code",
   "execution_count": 2,
   "id": "80afac18",
   "metadata": {},
   "outputs": [
    {
     "name": "stdout",
     "output_type": "stream",
     "text": [
      "✅ Dataset cargado con forma: (31522, 13)\n"
     ]
    },
    {
     "data": {
      "text/html": [
       "<div>\n",
       "<style scoped>\n",
       "    .dataframe tbody tr th:only-of-type {\n",
       "        vertical-align: middle;\n",
       "    }\n",
       "\n",
       "    .dataframe tbody tr th {\n",
       "        vertical-align: top;\n",
       "    }\n",
       "\n",
       "    .dataframe thead th {\n",
       "        text-align: right;\n",
       "    }\n",
       "</style>\n",
       "<table border=\"1\" class=\"dataframe\">\n",
       "  <thead>\n",
       "    <tr style=\"text-align: right;\">\n",
       "      <th></th>\n",
       "      <th>product_id</th>\n",
       "      <th>periodo</th>\n",
       "      <th>tn_total</th>\n",
       "      <th>clientes_positivos</th>\n",
       "      <th>cat1</th>\n",
       "      <th>cat2</th>\n",
       "      <th>cat3</th>\n",
       "      <th>brand</th>\n",
       "      <th>sku_size</th>\n",
       "      <th>descripcion</th>\n",
       "      <th>fecha</th>\n",
       "      <th>mm-yyyy</th>\n",
       "      <th>quarter</th>\n",
       "    </tr>\n",
       "  </thead>\n",
       "  <tbody>\n",
       "    <tr>\n",
       "      <th>0</th>\n",
       "      <td>20001</td>\n",
       "      <td>201701</td>\n",
       "      <td>934.77222</td>\n",
       "      <td>186</td>\n",
       "      <td>HC</td>\n",
       "      <td>ROPA LAVADO</td>\n",
       "      <td>Liquido</td>\n",
       "      <td>ARIEL</td>\n",
       "      <td>3000.0</td>\n",
       "      <td>genoma</td>\n",
       "      <td>2017-01-01</td>\n",
       "      <td>01-2017</td>\n",
       "      <td>2017Q1</td>\n",
       "    </tr>\n",
       "    <tr>\n",
       "      <th>1</th>\n",
       "      <td>20001</td>\n",
       "      <td>201702</td>\n",
       "      <td>798.01620</td>\n",
       "      <td>185</td>\n",
       "      <td>HC</td>\n",
       "      <td>ROPA LAVADO</td>\n",
       "      <td>Liquido</td>\n",
       "      <td>ARIEL</td>\n",
       "      <td>3000.0</td>\n",
       "      <td>genoma</td>\n",
       "      <td>2017-02-01</td>\n",
       "      <td>02-2017</td>\n",
       "      <td>2017Q1</td>\n",
       "    </tr>\n",
       "    <tr>\n",
       "      <th>2</th>\n",
       "      <td>20001</td>\n",
       "      <td>201703</td>\n",
       "      <td>1303.35771</td>\n",
       "      <td>188</td>\n",
       "      <td>HC</td>\n",
       "      <td>ROPA LAVADO</td>\n",
       "      <td>Liquido</td>\n",
       "      <td>ARIEL</td>\n",
       "      <td>3000.0</td>\n",
       "      <td>genoma</td>\n",
       "      <td>2017-03-01</td>\n",
       "      <td>03-2017</td>\n",
       "      <td>2017Q1</td>\n",
       "    </tr>\n",
       "    <tr>\n",
       "      <th>3</th>\n",
       "      <td>20001</td>\n",
       "      <td>201704</td>\n",
       "      <td>1069.96130</td>\n",
       "      <td>104</td>\n",
       "      <td>HC</td>\n",
       "      <td>ROPA LAVADO</td>\n",
       "      <td>Liquido</td>\n",
       "      <td>ARIEL</td>\n",
       "      <td>3000.0</td>\n",
       "      <td>genoma</td>\n",
       "      <td>2017-04-01</td>\n",
       "      <td>04-2017</td>\n",
       "      <td>2017Q2</td>\n",
       "    </tr>\n",
       "    <tr>\n",
       "      <th>4</th>\n",
       "      <td>20001</td>\n",
       "      <td>201705</td>\n",
       "      <td>1502.20132</td>\n",
       "      <td>238</td>\n",
       "      <td>HC</td>\n",
       "      <td>ROPA LAVADO</td>\n",
       "      <td>Liquido</td>\n",
       "      <td>ARIEL</td>\n",
       "      <td>3000.0</td>\n",
       "      <td>genoma</td>\n",
       "      <td>2017-05-01</td>\n",
       "      <td>05-2017</td>\n",
       "      <td>2017Q2</td>\n",
       "    </tr>\n",
       "  </tbody>\n",
       "</table>\n",
       "</div>"
      ],
      "text/plain": [
       "   product_id periodo    tn_total  clientes_positivos cat1         cat2  \\\n",
       "0       20001  201701   934.77222                 186   HC  ROPA LAVADO   \n",
       "1       20001  201702   798.01620                 185   HC  ROPA LAVADO   \n",
       "2       20001  201703  1303.35771                 188   HC  ROPA LAVADO   \n",
       "3       20001  201704  1069.96130                 104   HC  ROPA LAVADO   \n",
       "4       20001  201705  1502.20132                 238   HC  ROPA LAVADO   \n",
       "\n",
       "      cat3  brand  sku_size descripcion      fecha  mm-yyyy quarter  \n",
       "0  Liquido  ARIEL    3000.0      genoma 2017-01-01  01-2017  2017Q1  \n",
       "1  Liquido  ARIEL    3000.0      genoma 2017-02-01  02-2017  2017Q1  \n",
       "2  Liquido  ARIEL    3000.0      genoma 2017-03-01  03-2017  2017Q1  \n",
       "3  Liquido  ARIEL    3000.0      genoma 2017-04-01  04-2017  2017Q2  \n",
       "4  Liquido  ARIEL    3000.0      genoma 2017-05-01  05-2017  2017Q2  "
      ]
     },
     "execution_count": 2,
     "metadata": {},
     "output_type": "execute_result"
    }
   ],
   "source": [
    "# --------------------------------------------\n",
    "# 2️⃣ Cargar dataset parquet\n",
    "# --------------------------------------------\n",
    "\n",
    "# Ruta local (ajusta si hace falta)\n",
    "file_path = r\"C:\\Developer\\Laboratorio_III\\data\\dataset_product_periodo.parquet\"\n",
    "\n",
    "df = pd.read_parquet(file_path)\n",
    "\n",
    "print(f\"✅ Dataset cargado con forma: {df.shape}\")\n",
    "df.head()\n"
   ]
  },
  {
   "cell_type": "code",
   "execution_count": 3,
   "id": "26ec2110",
   "metadata": {},
   "outputs": [
    {
     "name": "stdout",
     "output_type": "stream",
     "text": [
      "Index(['product_id', 'periodo', 'tn_total', 'clientes_positivos', 'cat1',\n",
      "       'cat2', 'cat3', 'brand', 'sku_size', 'descripcion', 'fecha', 'mm-yyyy',\n",
      "       'quarter'],\n",
      "      dtype='object')\n"
     ]
    },
    {
     "data": {
      "text/html": [
       "<div>\n",
       "<style scoped>\n",
       "    .dataframe tbody tr th:only-of-type {\n",
       "        vertical-align: middle;\n",
       "    }\n",
       "\n",
       "    .dataframe tbody tr th {\n",
       "        vertical-align: top;\n",
       "    }\n",
       "\n",
       "    .dataframe thead th {\n",
       "        text-align: right;\n",
       "    }\n",
       "</style>\n",
       "<table border=\"1\" class=\"dataframe\">\n",
       "  <thead>\n",
       "    <tr style=\"text-align: right;\">\n",
       "      <th></th>\n",
       "      <th>product_id</th>\n",
       "      <th>fecha</th>\n",
       "      <th>tn_total</th>\n",
       "    </tr>\n",
       "  </thead>\n",
       "  <tbody>\n",
       "    <tr>\n",
       "      <th>0</th>\n",
       "      <td>20001</td>\n",
       "      <td>2017-01-01</td>\n",
       "      <td>934.77222</td>\n",
       "    </tr>\n",
       "    <tr>\n",
       "      <th>1</th>\n",
       "      <td>20001</td>\n",
       "      <td>2017-02-01</td>\n",
       "      <td>798.01620</td>\n",
       "    </tr>\n",
       "    <tr>\n",
       "      <th>2</th>\n",
       "      <td>20001</td>\n",
       "      <td>2017-03-01</td>\n",
       "      <td>1303.35771</td>\n",
       "    </tr>\n",
       "    <tr>\n",
       "      <th>3</th>\n",
       "      <td>20001</td>\n",
       "      <td>2017-04-01</td>\n",
       "      <td>1069.96130</td>\n",
       "    </tr>\n",
       "    <tr>\n",
       "      <th>4</th>\n",
       "      <td>20001</td>\n",
       "      <td>2017-05-01</td>\n",
       "      <td>1502.20132</td>\n",
       "    </tr>\n",
       "  </tbody>\n",
       "</table>\n",
       "</div>"
      ],
      "text/plain": [
       "   product_id      fecha    tn_total\n",
       "0       20001 2017-01-01   934.77222\n",
       "1       20001 2017-02-01   798.01620\n",
       "2       20001 2017-03-01  1303.35771\n",
       "3       20001 2017-04-01  1069.96130\n",
       "4       20001 2017-05-01  1502.20132"
      ]
     },
     "execution_count": 3,
     "metadata": {},
     "output_type": "execute_result"
    }
   ],
   "source": [
    "# --------------------------------------------\n",
    "# 3️⃣ Verificar columnas clave\n",
    "# --------------------------------------------\n",
    "print(df.columns)\n",
    "\n",
    "# Nos aseguramos de tener: product_id, fecha, tn_total\n",
    "df[['product_id', 'fecha', 'tn_total']].head()\n"
   ]
  },
  {
   "cell_type": "code",
   "execution_count": 4,
   "id": "6a4799bf",
   "metadata": {},
   "outputs": [],
   "source": [
    "# --------------------------------------------\n",
    "# 4️⃣ Inicializar lista para guardar resultados\n",
    "# --------------------------------------------\n",
    "results = []\n"
   ]
  },
  {
   "cell_type": "code",
   "execution_count": 5,
   "id": "fa522e94",
   "metadata": {},
   "outputs": [
    {
     "name": "stderr",
     "output_type": "stream",
     "text": [
      "Procesando productos:   0%|          | 0/1233 [00:00<?, ?it/s]"
     ]
    },
    {
     "name": "stderr",
     "output_type": "stream",
     "text": [
      "Procesando productos:   0%|          | 3/1233 [00:00<00:54, 22.49it/s]"
     ]
    },
    {
     "name": "stdout",
     "output_type": "stream",
     "text": [
      "❌ Error en producto 20001: 'Prophet' object has no attribute 'stan_backend'\n",
      "❌ Error en producto 20002: 'Prophet' object has no attribute 'stan_backend'\n",
      "❌ Error en producto 20003: 'Prophet' object has no attribute 'stan_backend'\n",
      "❌ Error en producto 20004: 'Prophet' object has no attribute 'stan_backend'\n",
      "❌ Error en producto 20005: 'Prophet' object has no attribute 'stan_backend'\n",
      "❌ Error en producto 20006: 'Prophet' object has no attribute 'stan_backend'\n"
     ]
    },
    {
     "name": "stderr",
     "output_type": "stream",
     "text": [
      "Procesando productos:   1%|          | 9/1233 [00:00<00:49, 24.57it/s]"
     ]
    },
    {
     "name": "stdout",
     "output_type": "stream",
     "text": [
      "❌ Error en producto 20007: 'Prophet' object has no attribute 'stan_backend'\n",
      "❌ Error en producto 20008: 'Prophet' object has no attribute 'stan_backend'\n",
      "❌ Error en producto 20009: 'Prophet' object has no attribute 'stan_backend'\n",
      "❌ Error en producto 20010: 'Prophet' object has no attribute 'stan_backend'\n",
      "❌ Error en producto 20011: 'Prophet' object has no attribute 'stan_backend'\n",
      "❌ Error en producto 20012: 'Prophet' object has no attribute 'stan_backend'\n"
     ]
    },
    {
     "name": "stderr",
     "output_type": "stream",
     "text": [
      "Procesando productos:   1%|          | 15/1233 [00:00<00:47, 25.38it/s]"
     ]
    },
    {
     "name": "stdout",
     "output_type": "stream",
     "text": [
      "❌ Error en producto 20013: 'Prophet' object has no attribute 'stan_backend'\n",
      "❌ Error en producto 20014: 'Prophet' object has no attribute 'stan_backend'\n",
      "❌ Error en producto 20015: 'Prophet' object has no attribute 'stan_backend'\n",
      "❌ Error en producto 20016: 'Prophet' object has no attribute 'stan_backend'\n",
      "❌ Error en producto 20017: 'Prophet' object has no attribute 'stan_backend'\n"
     ]
    },
    {
     "name": "stderr",
     "output_type": "stream",
     "text": [
      "Procesando productos:   2%|▏         | 21/1233 [00:00<00:47, 25.77it/s]"
     ]
    },
    {
     "name": "stdout",
     "output_type": "stream",
     "text": [
      "❌ Error en producto 20018: 'Prophet' object has no attribute 'stan_backend'\n",
      "❌ Error en producto 20019: 'Prophet' object has no attribute 'stan_backend'\n",
      "❌ Error en producto 20020: 'Prophet' object has no attribute 'stan_backend'\n",
      "❌ Error en producto 20021: 'Prophet' object has no attribute 'stan_backend'\n",
      "❌ Error en producto 20022: 'Prophet' object has no attribute 'stan_backend'\n",
      "❌ Error en producto 20023: 'Prophet' object has no attribute 'stan_backend'\n"
     ]
    },
    {
     "name": "stderr",
     "output_type": "stream",
     "text": [
      "Procesando productos:   2%|▏         | 27/1233 [00:01<00:46, 26.01it/s]"
     ]
    },
    {
     "name": "stdout",
     "output_type": "stream",
     "text": [
      "❌ Error en producto 20024: 'Prophet' object has no attribute 'stan_backend'\n",
      "❌ Error en producto 20025: 'Prophet' object has no attribute 'stan_backend'\n",
      "❌ Error en producto 20026: 'Prophet' object has no attribute 'stan_backend'\n",
      "❌ Error en producto 20027: 'Prophet' object has no attribute 'stan_backend'\n",
      "❌ Error en producto 20028: 'Prophet' object has no attribute 'stan_backend'\n",
      "❌ Error en producto 20029: 'Prophet' object has no attribute 'stan_backend'\n"
     ]
    },
    {
     "name": "stderr",
     "output_type": "stream",
     "text": [
      "Procesando productos:   3%|▎         | 33/1233 [00:01<00:47, 25.42it/s]"
     ]
    },
    {
     "name": "stdout",
     "output_type": "stream",
     "text": [
      "❌ Error en producto 20030: 'Prophet' object has no attribute 'stan_backend'\n",
      "❌ Error en producto 20031: 'Prophet' object has no attribute 'stan_backend'\n",
      "❌ Error en producto 20032: 'Prophet' object has no attribute 'stan_backend'\n",
      "❌ Error en producto 20033: 'Prophet' object has no attribute 'stan_backend'\n",
      "❌ Error en producto 20034: 'Prophet' object has no attribute 'stan_backend'\n",
      "❌ Error en producto 20035: 'Prophet' object has no attribute 'stan_backend'\n"
     ]
    },
    {
     "name": "stderr",
     "output_type": "stream",
     "text": [
      "Procesando productos:   3%|▎         | 39/1233 [00:01<00:45, 26.34it/s]"
     ]
    },
    {
     "name": "stdout",
     "output_type": "stream",
     "text": [
      "❌ Error en producto 20036: 'Prophet' object has no attribute 'stan_backend'\n",
      "❌ Error en producto 20037: 'Prophet' object has no attribute 'stan_backend'\n",
      "❌ Error en producto 20038: 'Prophet' object has no attribute 'stan_backend'\n",
      "❌ Error en producto 20039: 'Prophet' object has no attribute 'stan_backend'\n",
      "❌ Error en producto 20040: 'Prophet' object has no attribute 'stan_backend'\n",
      "❌ Error en producto 20041: 'Prophet' object has no attribute 'stan_backend'\n"
     ]
    },
    {
     "name": "stderr",
     "output_type": "stream",
     "text": [
      "Procesando productos:   4%|▎         | 45/1233 [00:01<00:44, 26.87it/s]"
     ]
    },
    {
     "name": "stdout",
     "output_type": "stream",
     "text": [
      "❌ Error en producto 20042: 'Prophet' object has no attribute 'stan_backend'\n",
      "❌ Error en producto 20043: 'Prophet' object has no attribute 'stan_backend'\n",
      "❌ Error en producto 20044: 'Prophet' object has no attribute 'stan_backend'\n",
      "❌ Error en producto 20045: 'Prophet' object has no attribute 'stan_backend'\n",
      "❌ Error en producto 20046: 'Prophet' object has no attribute 'stan_backend'\n",
      "❌ Error en producto 20047: 'Prophet' object has no attribute 'stan_backend'\n"
     ]
    },
    {
     "name": "stderr",
     "output_type": "stream",
     "text": [
      "Procesando productos:   4%|▍         | 51/1233 [00:01<00:45, 25.86it/s]"
     ]
    },
    {
     "name": "stdout",
     "output_type": "stream",
     "text": [
      "❌ Error en producto 20048: 'Prophet' object has no attribute 'stan_backend'\n",
      "❌ Error en producto 20049: 'Prophet' object has no attribute 'stan_backend'\n",
      "❌ Error en producto 20050: 'Prophet' object has no attribute 'stan_backend'\n",
      "❌ Error en producto 20051: 'Prophet' object has no attribute 'stan_backend'\n",
      "❌ Error en producto 20052: 'Prophet' object has no attribute 'stan_backend'\n",
      "❌ Error en producto 20053: 'Prophet' object has no attribute 'stan_backend'\n"
     ]
    },
    {
     "name": "stderr",
     "output_type": "stream",
     "text": [
      "Procesando productos:   5%|▍         | 57/1233 [00:02<00:45, 25.74it/s]"
     ]
    },
    {
     "name": "stdout",
     "output_type": "stream",
     "text": [
      "❌ Error en producto 20054: 'Prophet' object has no attribute 'stan_backend'\n",
      "❌ Error en producto 20055: 'Prophet' object has no attribute 'stan_backend'\n",
      "❌ Error en producto 20056: 'Prophet' object has no attribute 'stan_backend'\n",
      "❌ Error en producto 20057: 'Prophet' object has no attribute 'stan_backend'\n",
      "❌ Error en producto 20058: 'Prophet' object has no attribute 'stan_backend'\n",
      "❌ Error en producto 20059: 'Prophet' object has no attribute 'stan_backend'\n"
     ]
    },
    {
     "name": "stderr",
     "output_type": "stream",
     "text": [
      "Procesando productos:   5%|▌         | 63/1233 [00:02<00:45, 25.76it/s]"
     ]
    },
    {
     "name": "stdout",
     "output_type": "stream",
     "text": [
      "❌ Error en producto 20060: 'Prophet' object has no attribute 'stan_backend'\n",
      "❌ Error en producto 20061: 'Prophet' object has no attribute 'stan_backend'\n",
      "❌ Error en producto 20062: 'Prophet' object has no attribute 'stan_backend'\n",
      "❌ Error en producto 20063: 'Prophet' object has no attribute 'stan_backend'\n",
      "❌ Error en producto 20064: 'Prophet' object has no attribute 'stan_backend'\n",
      "❌ Error en producto 20065: 'Prophet' object has no attribute 'stan_backend'\n"
     ]
    },
    {
     "name": "stderr",
     "output_type": "stream",
     "text": [
      "Procesando productos:   6%|▌         | 69/1233 [00:02<00:46, 25.24it/s]"
     ]
    },
    {
     "name": "stdout",
     "output_type": "stream",
     "text": [
      "❌ Error en producto 20066: 'Prophet' object has no attribute 'stan_backend'\n",
      "❌ Error en producto 20067: 'Prophet' object has no attribute 'stan_backend'\n",
      "❌ Error en producto 20068: 'Prophet' object has no attribute 'stan_backend'\n",
      "❌ Error en producto 20069: 'Prophet' object has no attribute 'stan_backend'\n",
      "❌ Error en producto 20070: 'Prophet' object has no attribute 'stan_backend'\n",
      "❌ Error en producto 20071: 'Prophet' object has no attribute 'stan_backend'\n"
     ]
    },
    {
     "name": "stderr",
     "output_type": "stream",
     "text": [
      "Procesando productos:   6%|▌         | 75/1233 [00:02<00:44, 25.76it/s]"
     ]
    },
    {
     "name": "stdout",
     "output_type": "stream",
     "text": [
      "❌ Error en producto 20072: 'Prophet' object has no attribute 'stan_backend'\n",
      "❌ Error en producto 20073: 'Prophet' object has no attribute 'stan_backend'\n",
      "❌ Error en producto 20074: 'Prophet' object has no attribute 'stan_backend'\n",
      "❌ Error en producto 20075: 'Prophet' object has no attribute 'stan_backend'\n",
      "❌ Error en producto 20076: 'Prophet' object has no attribute 'stan_backend'\n",
      "❌ Error en producto 20077: 'Prophet' object has no attribute 'stan_backend'\n"
     ]
    },
    {
     "name": "stderr",
     "output_type": "stream",
     "text": [
      "Procesando productos:   7%|▋         | 81/1233 [00:03<00:43, 26.43it/s]"
     ]
    },
    {
     "name": "stdout",
     "output_type": "stream",
     "text": [
      "❌ Error en producto 20078: 'Prophet' object has no attribute 'stan_backend'\n",
      "❌ Error en producto 20079: 'Prophet' object has no attribute 'stan_backend'\n",
      "❌ Error en producto 20080: 'Prophet' object has no attribute 'stan_backend'\n",
      "❌ Error en producto 20081: 'Prophet' object has no attribute 'stan_backend'\n",
      "❌ Error en producto 20082: 'Prophet' object has no attribute 'stan_backend'\n",
      "❌ Error en producto 20083: 'Prophet' object has no attribute 'stan_backend'\n"
     ]
    },
    {
     "name": "stderr",
     "output_type": "stream",
     "text": [
      "Procesando productos:   7%|▋         | 87/1233 [00:03<00:43, 26.33it/s]"
     ]
    },
    {
     "name": "stdout",
     "output_type": "stream",
     "text": [
      "❌ Error en producto 20084: 'Prophet' object has no attribute 'stan_backend'\n",
      "❌ Error en producto 20085: 'Prophet' object has no attribute 'stan_backend'\n",
      "❌ Error en producto 20086: 'Prophet' object has no attribute 'stan_backend'\n",
      "❌ Error en producto 20087: 'Prophet' object has no attribute 'stan_backend'\n",
      "❌ Error en producto 20088: 'Prophet' object has no attribute 'stan_backend'\n",
      "❌ Error en producto 20089: 'Prophet' object has no attribute 'stan_backend'\n"
     ]
    },
    {
     "name": "stderr",
     "output_type": "stream",
     "text": [
      "Procesando productos:   8%|▊         | 93/1233 [00:03<00:43, 26.22it/s]"
     ]
    },
    {
     "name": "stdout",
     "output_type": "stream",
     "text": [
      "❌ Error en producto 20090: 'Prophet' object has no attribute 'stan_backend'\n",
      "❌ Error en producto 20091: 'Prophet' object has no attribute 'stan_backend'\n",
      "❌ Error en producto 20092: 'Prophet' object has no attribute 'stan_backend'\n",
      "❌ Error en producto 20093: 'Prophet' object has no attribute 'stan_backend'\n",
      "❌ Error en producto 20094: 'Prophet' object has no attribute 'stan_backend'\n",
      "❌ Error en producto 20095: 'Prophet' object has no attribute 'stan_backend'\n"
     ]
    },
    {
     "name": "stderr",
     "output_type": "stream",
     "text": [
      "Procesando productos:   8%|▊         | 99/1233 [00:03<00:43, 26.28it/s]"
     ]
    },
    {
     "name": "stdout",
     "output_type": "stream",
     "text": [
      "❌ Error en producto 20096: 'Prophet' object has no attribute 'stan_backend'\n",
      "❌ Error en producto 20097: 'Prophet' object has no attribute 'stan_backend'\n",
      "❌ Error en producto 20098: 'Prophet' object has no attribute 'stan_backend'\n",
      "❌ Error en producto 20099: 'Prophet' object has no attribute 'stan_backend'\n",
      "❌ Error en producto 20100: 'Prophet' object has no attribute 'stan_backend'\n",
      "❌ Error en producto 20101: 'Prophet' object has no attribute 'stan_backend'\n"
     ]
    },
    {
     "name": "stderr",
     "output_type": "stream",
     "text": [
      "Procesando productos:   9%|▊         | 105/1233 [00:04<00:44, 25.53it/s]"
     ]
    },
    {
     "name": "stdout",
     "output_type": "stream",
     "text": [
      "❌ Error en producto 20102: 'Prophet' object has no attribute 'stan_backend'\n",
      "❌ Error en producto 20103: 'Prophet' object has no attribute 'stan_backend'\n",
      "❌ Error en producto 20104: 'Prophet' object has no attribute 'stan_backend'\n",
      "❌ Error en producto 20105: 'Prophet' object has no attribute 'stan_backend'\n",
      "❌ Error en producto 20106: 'Prophet' object has no attribute 'stan_backend'\n",
      "❌ Error en producto 20107: 'Prophet' object has no attribute 'stan_backend'\n"
     ]
    },
    {
     "name": "stderr",
     "output_type": "stream",
     "text": [
      "Procesando productos:   9%|▉         | 111/1233 [00:04<00:42, 26.25it/s]"
     ]
    },
    {
     "name": "stdout",
     "output_type": "stream",
     "text": [
      "❌ Error en producto 20108: 'Prophet' object has no attribute 'stan_backend'\n",
      "❌ Error en producto 20109: 'Prophet' object has no attribute 'stan_backend'\n",
      "❌ Error en producto 20110: 'Prophet' object has no attribute 'stan_backend'\n",
      "❌ Error en producto 20111: 'Prophet' object has no attribute 'stan_backend'\n",
      "❌ Error en producto 20112: 'Prophet' object has no attribute 'stan_backend'\n",
      "❌ Error en producto 20113: 'Prophet' object has no attribute 'stan_backend'\n"
     ]
    },
    {
     "name": "stderr",
     "output_type": "stream",
     "text": [
      "Procesando productos:   9%|▉         | 117/1233 [00:04<00:42, 26.37it/s]"
     ]
    },
    {
     "name": "stdout",
     "output_type": "stream",
     "text": [
      "❌ Error en producto 20114: 'Prophet' object has no attribute 'stan_backend'\n",
      "❌ Error en producto 20115: 'Prophet' object has no attribute 'stan_backend'\n",
      "❌ Error en producto 20116: 'Prophet' object has no attribute 'stan_backend'\n",
      "❌ Error en producto 20117: 'Prophet' object has no attribute 'stan_backend'\n",
      "❌ Error en producto 20118: 'Prophet' object has no attribute 'stan_backend'\n",
      "❌ Error en producto 20119: 'Prophet' object has no attribute 'stan_backend'\n"
     ]
    },
    {
     "name": "stderr",
     "output_type": "stream",
     "text": [
      "Procesando productos:  10%|▉         | 123/1233 [00:04<00:41, 26.69it/s]"
     ]
    },
    {
     "name": "stdout",
     "output_type": "stream",
     "text": [
      "❌ Error en producto 20120: 'Prophet' object has no attribute 'stan_backend'\n",
      "❌ Error en producto 20121: 'Prophet' object has no attribute 'stan_backend'\n",
      "❌ Error en producto 20122: 'Prophet' object has no attribute 'stan_backend'\n",
      "❌ Error en producto 20123: 'Prophet' object has no attribute 'stan_backend'\n",
      "❌ Error en producto 20124: 'Prophet' object has no attribute 'stan_backend'\n",
      "❌ Error en producto 20125: 'Prophet' object has no attribute 'stan_backend'\n"
     ]
    },
    {
     "name": "stderr",
     "output_type": "stream",
     "text": [
      "Procesando productos:  11%|█         | 130/1233 [00:04<00:38, 28.67it/s]"
     ]
    },
    {
     "name": "stdout",
     "output_type": "stream",
     "text": [
      "❌ Error en producto 20126: 'Prophet' object has no attribute 'stan_backend'\n",
      "❌ Error en producto 20128: 'Prophet' object has no attribute 'stan_backend'\n",
      "❌ Error en producto 20129: 'Prophet' object has no attribute 'stan_backend'\n",
      "❌ Error en producto 20130: 'Prophet' object has no attribute 'stan_backend'\n",
      "❌ Error en producto 20131: 'Prophet' object has no attribute 'stan_backend'\n",
      "❌ Error en producto 20132: 'Prophet' object has no attribute 'stan_backend'\n"
     ]
    },
    {
     "name": "stderr",
     "output_type": "stream",
     "text": [
      "Procesando productos:  11%|█         | 136/1233 [00:05<00:39, 27.46it/s]"
     ]
    },
    {
     "name": "stdout",
     "output_type": "stream",
     "text": [
      "❌ Error en producto 20133: 'Prophet' object has no attribute 'stan_backend'\n",
      "❌ Error en producto 20134: 'Prophet' object has no attribute 'stan_backend'\n",
      "❌ Error en producto 20135: 'Prophet' object has no attribute 'stan_backend'\n",
      "❌ Error en producto 20136: 'Prophet' object has no attribute 'stan_backend'\n",
      "❌ Error en producto 20137: 'Prophet' object has no attribute 'stan_backend'\n",
      "❌ Error en producto 20138: 'Prophet' object has no attribute 'stan_backend'\n"
     ]
    },
    {
     "name": "stderr",
     "output_type": "stream",
     "text": [
      "Procesando productos:  12%|█▏        | 142/1233 [00:05<00:41, 26.34it/s]"
     ]
    },
    {
     "name": "stdout",
     "output_type": "stream",
     "text": [
      "❌ Error en producto 20139: 'Prophet' object has no attribute 'stan_backend'\n",
      "❌ Error en producto 20140: 'Prophet' object has no attribute 'stan_backend'\n",
      "❌ Error en producto 20141: 'Prophet' object has no attribute 'stan_backend'\n",
      "❌ Error en producto 20142: 'Prophet' object has no attribute 'stan_backend'\n",
      "❌ Error en producto 20143: 'Prophet' object has no attribute 'stan_backend'\n",
      "❌ Error en producto 20144: 'Prophet' object has no attribute 'stan_backend'\n"
     ]
    },
    {
     "name": "stderr",
     "output_type": "stream",
     "text": [
      "Procesando productos:  12%|█▏        | 148/1233 [00:05<00:41, 26.39it/s]"
     ]
    },
    {
     "name": "stdout",
     "output_type": "stream",
     "text": [
      "❌ Error en producto 20145: 'Prophet' object has no attribute 'stan_backend'\n",
      "❌ Error en producto 20146: 'Prophet' object has no attribute 'stan_backend'\n",
      "❌ Error en producto 20147: 'Prophet' object has no attribute 'stan_backend'\n",
      "❌ Error en producto 20148: 'Prophet' object has no attribute 'stan_backend'\n",
      "❌ Error en producto 20149: 'Prophet' object has no attribute 'stan_backend'\n",
      "❌ Error en producto 20150: 'Prophet' object has no attribute 'stan_backend'\n"
     ]
    },
    {
     "name": "stderr",
     "output_type": "stream",
     "text": [
      "Procesando productos:  12%|█▏        | 154/1233 [00:05<00:41, 26.04it/s]"
     ]
    },
    {
     "name": "stdout",
     "output_type": "stream",
     "text": [
      "❌ Error en producto 20151: 'Prophet' object has no attribute 'stan_backend'\n",
      "❌ Error en producto 20152: 'Prophet' object has no attribute 'stan_backend'\n",
      "❌ Error en producto 20153: 'Prophet' object has no attribute 'stan_backend'\n",
      "❌ Error en producto 20154: 'Prophet' object has no attribute 'stan_backend'\n",
      "❌ Error en producto 20155: 'Prophet' object has no attribute 'stan_backend'\n",
      "❌ Error en producto 20156: 'Prophet' object has no attribute 'stan_backend'\n"
     ]
    },
    {
     "name": "stderr",
     "output_type": "stream",
     "text": [
      "Procesando productos:  13%|█▎        | 160/1233 [00:06<00:40, 26.39it/s]"
     ]
    },
    {
     "name": "stdout",
     "output_type": "stream",
     "text": [
      "❌ Error en producto 20157: 'Prophet' object has no attribute 'stan_backend'\n",
      "❌ Error en producto 20158: 'Prophet' object has no attribute 'stan_backend'\n",
      "❌ Error en producto 20159: 'Prophet' object has no attribute 'stan_backend'\n",
      "❌ Error en producto 20160: 'Prophet' object has no attribute 'stan_backend'\n",
      "❌ Error en producto 20161: 'Prophet' object has no attribute 'stan_backend'\n",
      "❌ Error en producto 20162: 'Prophet' object has no attribute 'stan_backend'\n"
     ]
    },
    {
     "name": "stderr",
     "output_type": "stream",
     "text": [
      "Procesando productos:  13%|█▎        | 166/1233 [00:06<00:39, 26.88it/s]"
     ]
    },
    {
     "name": "stdout",
     "output_type": "stream",
     "text": [
      "❌ Error en producto 20163: 'Prophet' object has no attribute 'stan_backend'\n",
      "❌ Error en producto 20164: 'Prophet' object has no attribute 'stan_backend'\n",
      "❌ Error en producto 20165: 'Prophet' object has no attribute 'stan_backend'\n",
      "❌ Error en producto 20166: 'Prophet' object has no attribute 'stan_backend'\n",
      "❌ Error en producto 20167: 'Prophet' object has no attribute 'stan_backend'\n",
      "❌ Error en producto 20168: 'Prophet' object has no attribute 'stan_backend'\n"
     ]
    },
    {
     "name": "stderr",
     "output_type": "stream",
     "text": [
      "Procesando productos:  14%|█▍        | 172/1233 [00:06<00:39, 26.95it/s]"
     ]
    },
    {
     "name": "stdout",
     "output_type": "stream",
     "text": [
      "❌ Error en producto 20169: 'Prophet' object has no attribute 'stan_backend'\n",
      "❌ Error en producto 20170: 'Prophet' object has no attribute 'stan_backend'\n",
      "❌ Error en producto 20171: 'Prophet' object has no attribute 'stan_backend'\n",
      "❌ Error en producto 20172: 'Prophet' object has no attribute 'stan_backend'\n",
      "❌ Error en producto 20173: 'Prophet' object has no attribute 'stan_backend'\n",
      "❌ Error en producto 20174: 'Prophet' object has no attribute 'stan_backend'\n"
     ]
    },
    {
     "name": "stderr",
     "output_type": "stream",
     "text": [
      "Procesando productos:  14%|█▍        | 178/1233 [00:06<00:39, 26.72it/s]"
     ]
    },
    {
     "name": "stdout",
     "output_type": "stream",
     "text": [
      "❌ Error en producto 20175: 'Prophet' object has no attribute 'stan_backend'\n",
      "❌ Error en producto 20176: 'Prophet' object has no attribute 'stan_backend'\n",
      "❌ Error en producto 20177: 'Prophet' object has no attribute 'stan_backend'\n",
      "❌ Error en producto 20178: 'Prophet' object has no attribute 'stan_backend'\n",
      "❌ Error en producto 20179: 'Prophet' object has no attribute 'stan_backend'\n",
      "❌ Error en producto 20180: 'Prophet' object has no attribute 'stan_backend'\n"
     ]
    },
    {
     "name": "stderr",
     "output_type": "stream",
     "text": [
      "Procesando productos:  15%|█▍        | 184/1233 [00:07<00:41, 25.37it/s]"
     ]
    },
    {
     "name": "stdout",
     "output_type": "stream",
     "text": [
      "❌ Error en producto 20181: 'Prophet' object has no attribute 'stan_backend'\n",
      "❌ Error en producto 20182: 'Prophet' object has no attribute 'stan_backend'\n",
      "❌ Error en producto 20183: 'Prophet' object has no attribute 'stan_backend'\n",
      "❌ Error en producto 20184: 'Prophet' object has no attribute 'stan_backend'\n",
      "❌ Error en producto 20185: 'Prophet' object has no attribute 'stan_backend'\n",
      "❌ Error en producto 20186: 'Prophet' object has no attribute 'stan_backend'\n"
     ]
    },
    {
     "name": "stderr",
     "output_type": "stream",
     "text": [
      "Procesando productos:  15%|█▌        | 190/1233 [00:07<00:40, 25.71it/s]"
     ]
    },
    {
     "name": "stdout",
     "output_type": "stream",
     "text": [
      "❌ Error en producto 20187: 'Prophet' object has no attribute 'stan_backend'\n",
      "❌ Error en producto 20188: 'Prophet' object has no attribute 'stan_backend'\n",
      "❌ Error en producto 20189: 'Prophet' object has no attribute 'stan_backend'\n",
      "❌ Error en producto 20190: 'Prophet' object has no attribute 'stan_backend'\n",
      "❌ Error en producto 20191: 'Prophet' object has no attribute 'stan_backend'\n",
      "❌ Error en producto 20192: 'Prophet' object has no attribute 'stan_backend'\n"
     ]
    },
    {
     "name": "stderr",
     "output_type": "stream",
     "text": [
      "Procesando productos:  16%|█▌        | 196/1233 [00:07<00:39, 26.51it/s]"
     ]
    },
    {
     "name": "stdout",
     "output_type": "stream",
     "text": [
      "❌ Error en producto 20193: 'Prophet' object has no attribute 'stan_backend'\n",
      "❌ Error en producto 20194: 'Prophet' object has no attribute 'stan_backend'\n",
      "❌ Error en producto 20195: 'Prophet' object has no attribute 'stan_backend'\n",
      "❌ Error en producto 20196: 'Prophet' object has no attribute 'stan_backend'\n",
      "❌ Error en producto 20197: 'Prophet' object has no attribute 'stan_backend'\n",
      "❌ Error en producto 20198: 'Prophet' object has no attribute 'stan_backend'\n"
     ]
    },
    {
     "name": "stderr",
     "output_type": "stream",
     "text": [
      "Procesando productos:  16%|█▋        | 202/1233 [00:07<00:39, 26.34it/s]"
     ]
    },
    {
     "name": "stdout",
     "output_type": "stream",
     "text": [
      "❌ Error en producto 20199: 'Prophet' object has no attribute 'stan_backend'\n",
      "❌ Error en producto 20200: 'Prophet' object has no attribute 'stan_backend'\n",
      "❌ Error en producto 20201: 'Prophet' object has no attribute 'stan_backend'\n",
      "❌ Error en producto 20202: 'Prophet' object has no attribute 'stan_backend'\n",
      "❌ Error en producto 20203: 'Prophet' object has no attribute 'stan_backend'\n",
      "❌ Error en producto 20205: 'Prophet' object has no attribute 'stan_backend'\n"
     ]
    },
    {
     "name": "stderr",
     "output_type": "stream",
     "text": [
      "Procesando productos:  17%|█▋        | 208/1233 [00:07<00:39, 26.03it/s]"
     ]
    },
    {
     "name": "stdout",
     "output_type": "stream",
     "text": [
      "❌ Error en producto 20206: 'Prophet' object has no attribute 'stan_backend'\n",
      "❌ Error en producto 20207: 'Prophet' object has no attribute 'stan_backend'\n",
      "❌ Error en producto 20208: 'Prophet' object has no attribute 'stan_backend'\n",
      "❌ Error en producto 20209: 'Prophet' object has no attribute 'stan_backend'\n",
      "❌ Error en producto 20211: 'Prophet' object has no attribute 'stan_backend'\n",
      "❌ Error en producto 20212: 'Prophet' object has no attribute 'stan_backend'\n"
     ]
    },
    {
     "name": "stderr",
     "output_type": "stream",
     "text": [
      "Procesando productos:  17%|█▋        | 215/1233 [00:08<00:36, 27.64it/s]"
     ]
    },
    {
     "name": "stdout",
     "output_type": "stream",
     "text": [
      "❌ Error en producto 20213: 'Prophet' object has no attribute 'stan_backend'\n",
      "❌ Error en producto 20214: 'Prophet' object has no attribute 'stan_backend'\n",
      "❌ Error en producto 20215: 'Prophet' object has no attribute 'stan_backend'\n",
      "❌ Error en producto 20216: 'Prophet' object has no attribute 'stan_backend'\n",
      "❌ Error en producto 20217: 'Prophet' object has no attribute 'stan_backend'\n"
     ]
    },
    {
     "name": "stderr",
     "output_type": "stream",
     "text": [
      "Procesando productos:  18%|█▊        | 221/1233 [00:08<00:39, 25.85it/s]"
     ]
    },
    {
     "name": "stdout",
     "output_type": "stream",
     "text": [
      "❌ Error en producto 20218: 'Prophet' object has no attribute 'stan_backend'\n",
      "❌ Error en producto 20219: 'Prophet' object has no attribute 'stan_backend'\n",
      "❌ Error en producto 20220: 'Prophet' object has no attribute 'stan_backend'\n",
      "❌ Error en producto 20221: 'Prophet' object has no attribute 'stan_backend'\n",
      "❌ Error en producto 20222: 'Prophet' object has no attribute 'stan_backend'\n"
     ]
    },
    {
     "name": "stderr",
     "output_type": "stream",
     "text": [
      "Procesando productos:  18%|█▊        | 224/1233 [00:08<00:38, 25.90it/s]"
     ]
    },
    {
     "name": "stdout",
     "output_type": "stream",
     "text": [
      "❌ Error en producto 20223: 'Prophet' object has no attribute 'stan_backend'\n",
      "❌ Error en producto 20224: 'Prophet' object has no attribute 'stan_backend'\n",
      "❌ Error en producto 20225: 'Prophet' object has no attribute 'stan_backend'\n",
      "❌ Error en producto 20226: 'Prophet' object has no attribute 'stan_backend'\n",
      "❌ Error en producto 20227: 'Prophet' object has no attribute 'stan_backend'\n"
     ]
    },
    {
     "name": "stderr",
     "output_type": "stream",
     "text": [
      "Procesando productos:  19%|█▊        | 230/1233 [00:08<00:38, 26.09it/s]"
     ]
    },
    {
     "name": "stdout",
     "output_type": "stream",
     "text": [
      "❌ Error en producto 20228: 'Prophet' object has no attribute 'stan_backend'\n",
      "❌ Error en producto 20229: 'Prophet' object has no attribute 'stan_backend'\n",
      "❌ Error en producto 20230: 'Prophet' object has no attribute 'stan_backend'\n",
      "❌ Error en producto 20231: 'Prophet' object has no attribute 'stan_backend'\n",
      "❌ Error en producto 20232: 'Prophet' object has no attribute 'stan_backend'\n",
      "❌ Error en producto 20233: 'Prophet' object has no attribute 'stan_backend'\n"
     ]
    },
    {
     "name": "stderr",
     "output_type": "stream",
     "text": [
      "Procesando productos:  19%|█▉        | 236/1233 [00:08<00:37, 26.44it/s]"
     ]
    },
    {
     "name": "stdout",
     "output_type": "stream",
     "text": [
      "❌ Error en producto 20234: 'Prophet' object has no attribute 'stan_backend'\n",
      "❌ Error en producto 20235: 'Prophet' object has no attribute 'stan_backend'\n",
      "❌ Error en producto 20236: 'Prophet' object has no attribute 'stan_backend'\n",
      "❌ Error en producto 20237: 'Prophet' object has no attribute 'stan_backend'\n",
      "❌ Error en producto 20238: 'Prophet' object has no attribute 'stan_backend'\n",
      "❌ Error en producto 20239: 'Prophet' object has no attribute 'stan_backend'\n"
     ]
    },
    {
     "name": "stderr",
     "output_type": "stream",
     "text": [
      "Procesando productos:  20%|█▉        | 242/1233 [00:09<00:36, 26.90it/s]"
     ]
    },
    {
     "name": "stdout",
     "output_type": "stream",
     "text": [
      "❌ Error en producto 20240: 'Prophet' object has no attribute 'stan_backend'\n",
      "❌ Error en producto 20241: 'Prophet' object has no attribute 'stan_backend'\n",
      "❌ Error en producto 20242: 'Prophet' object has no attribute 'stan_backend'\n",
      "❌ Error en producto 20243: 'Prophet' object has no attribute 'stan_backend'\n",
      "❌ Error en producto 20244: 'Prophet' object has no attribute 'stan_backend'\n",
      "❌ Error en producto 20245: 'Prophet' object has no attribute 'stan_backend'\n"
     ]
    },
    {
     "name": "stderr",
     "output_type": "stream",
     "text": [
      "Procesando productos:  20%|██        | 248/1233 [00:09<00:37, 26.44it/s]"
     ]
    },
    {
     "name": "stdout",
     "output_type": "stream",
     "text": [
      "❌ Error en producto 20246: 'Prophet' object has no attribute 'stan_backend'\n",
      "❌ Error en producto 20247: 'Prophet' object has no attribute 'stan_backend'\n",
      "❌ Error en producto 20248: 'Prophet' object has no attribute 'stan_backend'\n",
      "❌ Error en producto 20249: 'Prophet' object has no attribute 'stan_backend'\n",
      "❌ Error en producto 20250: 'Prophet' object has no attribute 'stan_backend'\n",
      "❌ Error en producto 20251: 'Prophet' object has no attribute 'stan_backend'\n"
     ]
    },
    {
     "name": "stderr",
     "output_type": "stream",
     "text": [
      "Procesando productos:  21%|██        | 254/1233 [00:09<00:36, 27.11it/s]"
     ]
    },
    {
     "name": "stdout",
     "output_type": "stream",
     "text": [
      "❌ Error en producto 20252: 'Prophet' object has no attribute 'stan_backend'\n",
      "❌ Error en producto 20253: 'Prophet' object has no attribute 'stan_backend'\n",
      "❌ Error en producto 20254: 'Prophet' object has no attribute 'stan_backend'\n",
      "❌ Error en producto 20255: 'Prophet' object has no attribute 'stan_backend'\n",
      "❌ Error en producto 20256: 'Prophet' object has no attribute 'stan_backend'\n",
      "❌ Error en producto 20257: 'Prophet' object has no attribute 'stan_backend'\n"
     ]
    },
    {
     "name": "stderr",
     "output_type": "stream",
     "text": [
      "Procesando productos:  21%|██        | 260/1233 [00:09<00:36, 26.55it/s]"
     ]
    },
    {
     "name": "stdout",
     "output_type": "stream",
     "text": [
      "❌ Error en producto 20258: 'Prophet' object has no attribute 'stan_backend'\n",
      "❌ Error en producto 20259: 'Prophet' object has no attribute 'stan_backend'\n",
      "❌ Error en producto 20260: 'Prophet' object has no attribute 'stan_backend'\n",
      "❌ Error en producto 20261: 'Prophet' object has no attribute 'stan_backend'\n",
      "❌ Error en producto 20262: 'Prophet' object has no attribute 'stan_backend'\n",
      "❌ Error en producto 20263: 'Prophet' object has no attribute 'stan_backend'\n"
     ]
    },
    {
     "name": "stderr",
     "output_type": "stream",
     "text": [
      "Procesando productos:  22%|██▏       | 266/1233 [00:10<00:36, 26.77it/s]"
     ]
    },
    {
     "name": "stdout",
     "output_type": "stream",
     "text": [
      "❌ Error en producto 20264: 'Prophet' object has no attribute 'stan_backend'\n",
      "❌ Error en producto 20265: 'Prophet' object has no attribute 'stan_backend'\n",
      "❌ Error en producto 20266: 'Prophet' object has no attribute 'stan_backend'\n",
      "❌ Error en producto 20267: 'Prophet' object has no attribute 'stan_backend'\n",
      "❌ Error en producto 20268: 'Prophet' object has no attribute 'stan_backend'\n",
      "❌ Error en producto 20269: 'Prophet' object has no attribute 'stan_backend'\n"
     ]
    },
    {
     "name": "stderr",
     "output_type": "stream",
     "text": [
      "Procesando productos:  22%|██▏       | 272/1233 [00:10<00:36, 26.49it/s]"
     ]
    },
    {
     "name": "stdout",
     "output_type": "stream",
     "text": [
      "❌ Error en producto 20270: 'Prophet' object has no attribute 'stan_backend'\n",
      "❌ Error en producto 20271: 'Prophet' object has no attribute 'stan_backend'\n",
      "❌ Error en producto 20272: 'Prophet' object has no attribute 'stan_backend'\n",
      "❌ Error en producto 20273: 'Prophet' object has no attribute 'stan_backend'\n",
      "❌ Error en producto 20274: 'Prophet' object has no attribute 'stan_backend'\n",
      "❌ Error en producto 20275: 'Prophet' object has no attribute 'stan_backend'\n"
     ]
    },
    {
     "name": "stderr",
     "output_type": "stream",
     "text": [
      "Procesando productos:  23%|██▎       | 278/1233 [00:10<00:35, 26.74it/s]"
     ]
    },
    {
     "name": "stdout",
     "output_type": "stream",
     "text": [
      "❌ Error en producto 20276: 'Prophet' object has no attribute 'stan_backend'\n",
      "❌ Error en producto 20277: 'Prophet' object has no attribute 'stan_backend'\n",
      "❌ Error en producto 20278: 'Prophet' object has no attribute 'stan_backend'\n",
      "❌ Error en producto 20280: 'Prophet' object has no attribute 'stan_backend'\n",
      "❌ Error en producto 20281: 'Prophet' object has no attribute 'stan_backend'\n",
      "❌ Error en producto 20282: 'Prophet' object has no attribute 'stan_backend'\n"
     ]
    },
    {
     "name": "stderr",
     "output_type": "stream",
     "text": [
      "Procesando productos:  23%|██▎       | 284/1233 [00:10<00:35, 26.92it/s]"
     ]
    },
    {
     "name": "stdout",
     "output_type": "stream",
     "text": [
      "❌ Error en producto 20283: 'Prophet' object has no attribute 'stan_backend'\n",
      "❌ Error en producto 20284: 'Prophet' object has no attribute 'stan_backend'\n",
      "❌ Error en producto 20285: 'Prophet' object has no attribute 'stan_backend'\n",
      "❌ Error en producto 20286: 'Prophet' object has no attribute 'stan_backend'\n",
      "❌ Error en producto 20287: 'Prophet' object has no attribute 'stan_backend'\n",
      "❌ Error en producto 20288: 'Prophet' object has no attribute 'stan_backend'\n"
     ]
    },
    {
     "name": "stderr",
     "output_type": "stream",
     "text": [
      "Procesando productos:  24%|██▎       | 290/1233 [00:10<00:34, 27.08it/s]"
     ]
    },
    {
     "name": "stdout",
     "output_type": "stream",
     "text": [
      "❌ Error en producto 20289: 'Prophet' object has no attribute 'stan_backend'\n",
      "❌ Error en producto 20290: 'Prophet' object has no attribute 'stan_backend'\n",
      "❌ Error en producto 20291: 'Prophet' object has no attribute 'stan_backend'\n",
      "❌ Error en producto 20292: 'Prophet' object has no attribute 'stan_backend'\n",
      "❌ Error en producto 20293: 'Prophet' object has no attribute 'stan_backend'\n",
      "❌ Error en producto 20294: 'Prophet' object has no attribute 'stan_backend'\n"
     ]
    },
    {
     "name": "stderr",
     "output_type": "stream",
     "text": [
      "Procesando productos:  24%|██▍       | 296/1233 [00:11<00:35, 26.18it/s]"
     ]
    },
    {
     "name": "stdout",
     "output_type": "stream",
     "text": [
      "❌ Error en producto 20295: 'Prophet' object has no attribute 'stan_backend'\n",
      "❌ Error en producto 20296: 'Prophet' object has no attribute 'stan_backend'\n",
      "❌ Error en producto 20297: 'Prophet' object has no attribute 'stan_backend'\n",
      "❌ Error en producto 20298: 'Prophet' object has no attribute 'stan_backend'\n",
      "❌ Error en producto 20299: 'Prophet' object has no attribute 'stan_backend'\n"
     ]
    },
    {
     "name": "stderr",
     "output_type": "stream",
     "text": [
      "Procesando productos:  24%|██▍       | 302/1233 [00:11<00:34, 27.05it/s]"
     ]
    },
    {
     "name": "stdout",
     "output_type": "stream",
     "text": [
      "❌ Error en producto 20300: 'Prophet' object has no attribute 'stan_backend'\n",
      "❌ Error en producto 20301: 'Prophet' object has no attribute 'stan_backend'\n",
      "❌ Error en producto 20302: 'Prophet' object has no attribute 'stan_backend'\n",
      "❌ Error en producto 20303: 'Prophet' object has no attribute 'stan_backend'\n",
      "❌ Error en producto 20304: 'Prophet' object has no attribute 'stan_backend'\n",
      "❌ Error en producto 20305: 'Prophet' object has no attribute 'stan_backend'\n",
      "❌ Error en producto 20306: 'Prophet' object has no attribute 'stan_backend'\n"
     ]
    },
    {
     "name": "stderr",
     "output_type": "stream",
     "text": [
      "Procesando productos:  25%|██▍       | 308/1233 [00:11<00:33, 27.30it/s]"
     ]
    },
    {
     "name": "stdout",
     "output_type": "stream",
     "text": [
      "❌ Error en producto 20307: 'Prophet' object has no attribute 'stan_backend'\n",
      "❌ Error en producto 20308: 'Prophet' object has no attribute 'stan_backend'\n",
      "❌ Error en producto 20309: 'Prophet' object has no attribute 'stan_backend'\n",
      "❌ Error en producto 20310: 'Prophet' object has no attribute 'stan_backend'\n",
      "❌ Error en producto 20311: 'Prophet' object has no attribute 'stan_backend'\n",
      "❌ Error en producto 20312: 'Prophet' object has no attribute 'stan_backend'\n",
      "❌ Error en producto 20313: 'Prophet' object has no attribute 'stan_backend'\n"
     ]
    },
    {
     "name": "stderr",
     "output_type": "stream",
     "text": [
      "Procesando productos:  25%|██▌       | 314/1233 [00:11<00:32, 27.86it/s]"
     ]
    },
    {
     "name": "stdout",
     "output_type": "stream",
     "text": [
      "❌ Error en producto 20314: 'Prophet' object has no attribute 'stan_backend'\n",
      "❌ Error en producto 20315: 'Prophet' object has no attribute 'stan_backend'\n",
      "❌ Error en producto 20316: 'Prophet' object has no attribute 'stan_backend'\n",
      "❌ Error en producto 20317: 'Prophet' object has no attribute 'stan_backend'\n",
      "❌ Error en producto 20318: 'Prophet' object has no attribute 'stan_backend'\n",
      "❌ Error en producto 20319: 'Prophet' object has no attribute 'stan_backend'\n"
     ]
    },
    {
     "name": "stderr",
     "output_type": "stream",
     "text": [
      "Procesando productos:  26%|██▌       | 323/1233 [00:12<00:33, 27.38it/s]"
     ]
    },
    {
     "name": "stdout",
     "output_type": "stream",
     "text": [
      "❌ Error en producto 20320: 'Prophet' object has no attribute 'stan_backend'\n",
      "❌ Error en producto 20321: 'Prophet' object has no attribute 'stan_backend'\n",
      "❌ Error en producto 20322: 'Prophet' object has no attribute 'stan_backend'\n",
      "❌ Error en producto 20323: 'Prophet' object has no attribute 'stan_backend'\n",
      "❌ Error en producto 20324: 'Prophet' object has no attribute 'stan_backend'\n",
      "❌ Error en producto 20325: 'Prophet' object has no attribute 'stan_backend'\n",
      "❌ Error en producto 20326: 'Prophet' object has no attribute 'stan_backend'\n"
     ]
    },
    {
     "name": "stderr",
     "output_type": "stream",
     "text": [
      "Procesando productos:  27%|██▋       | 329/1233 [00:12<00:32, 27.42it/s]"
     ]
    },
    {
     "name": "stdout",
     "output_type": "stream",
     "text": [
      "❌ Error en producto 20327: 'Prophet' object has no attribute 'stan_backend'\n",
      "❌ Error en producto 20328: 'Prophet' object has no attribute 'stan_backend'\n",
      "❌ Error en producto 20329: 'Prophet' object has no attribute 'stan_backend'\n",
      "❌ Error en producto 20330: 'Prophet' object has no attribute 'stan_backend'\n",
      "❌ Error en producto 20331: 'Prophet' object has no attribute 'stan_backend'\n",
      "❌ Error en producto 20332: 'Prophet' object has no attribute 'stan_backend'\n"
     ]
    },
    {
     "name": "stderr",
     "output_type": "stream",
     "text": [
      "Procesando productos:  27%|██▋       | 335/1233 [00:12<00:33, 26.67it/s]"
     ]
    },
    {
     "name": "stdout",
     "output_type": "stream",
     "text": [
      "❌ Error en producto 20333: 'Prophet' object has no attribute 'stan_backend'\n",
      "❌ Error en producto 20334: 'Prophet' object has no attribute 'stan_backend'\n",
      "❌ Error en producto 20335: 'Prophet' object has no attribute 'stan_backend'\n",
      "❌ Error en producto 20336: 'Prophet' object has no attribute 'stan_backend'\n",
      "❌ Error en producto 20337: 'Prophet' object has no attribute 'stan_backend'\n",
      "❌ Error en producto 20338: 'Prophet' object has no attribute 'stan_backend'\n"
     ]
    },
    {
     "name": "stderr",
     "output_type": "stream",
     "text": [
      "Procesando productos:  28%|██▊       | 341/1233 [00:12<00:32, 27.35it/s]"
     ]
    },
    {
     "name": "stdout",
     "output_type": "stream",
     "text": [
      "❌ Error en producto 20339: 'Prophet' object has no attribute 'stan_backend'\n",
      "❌ Error en producto 20340: 'Prophet' object has no attribute 'stan_backend'\n",
      "❌ Error en producto 20341: 'Prophet' object has no attribute 'stan_backend'\n",
      "❌ Error en producto 20342: 'Prophet' object has no attribute 'stan_backend'\n",
      "❌ Error en producto 20343: 'Prophet' object has no attribute 'stan_backend'\n",
      "❌ Error en producto 20344: 'Prophet' object has no attribute 'stan_backend'\n"
     ]
    },
    {
     "name": "stderr",
     "output_type": "stream",
     "text": [
      "Procesando productos:  28%|██▊       | 347/1233 [00:13<00:32, 27.22it/s]"
     ]
    },
    {
     "name": "stdout",
     "output_type": "stream",
     "text": [
      "❌ Error en producto 20345: 'Prophet' object has no attribute 'stan_backend'\n",
      "❌ Error en producto 20346: 'Prophet' object has no attribute 'stan_backend'\n",
      "❌ Error en producto 20347: 'Prophet' object has no attribute 'stan_backend'\n",
      "❌ Error en producto 20348: 'Prophet' object has no attribute 'stan_backend'\n",
      "❌ Error en producto 20349: 'Prophet' object has no attribute 'stan_backend'\n",
      "❌ Error en producto 20350: 'Prophet' object has no attribute 'stan_backend'\n"
     ]
    },
    {
     "name": "stderr",
     "output_type": "stream",
     "text": [
      "Procesando productos:  29%|██▊       | 353/1233 [00:13<00:32, 26.88it/s]"
     ]
    },
    {
     "name": "stdout",
     "output_type": "stream",
     "text": [
      "❌ Error en producto 20351: 'Prophet' object has no attribute 'stan_backend'\n",
      "❌ Error en producto 20352: 'Prophet' object has no attribute 'stan_backend'\n",
      "❌ Error en producto 20353: 'Prophet' object has no attribute 'stan_backend'\n",
      "❌ Error en producto 20354: 'Prophet' object has no attribute 'stan_backend'\n",
      "❌ Error en producto 20355: 'Prophet' object has no attribute 'stan_backend'\n",
      "❌ Error en producto 20356: 'Prophet' object has no attribute 'stan_backend'\n"
     ]
    },
    {
     "name": "stderr",
     "output_type": "stream",
     "text": [
      "Procesando productos:  29%|██▉       | 359/1233 [00:13<00:32, 26.61it/s]"
     ]
    },
    {
     "name": "stdout",
     "output_type": "stream",
     "text": [
      "❌ Error en producto 20357: 'Prophet' object has no attribute 'stan_backend'\n",
      "❌ Error en producto 20358: 'Prophet' object has no attribute 'stan_backend'\n",
      "❌ Error en producto 20359: 'Prophet' object has no attribute 'stan_backend'\n",
      "❌ Error en producto 20360: 'Prophet' object has no attribute 'stan_backend'\n",
      "❌ Error en producto 20361: 'Prophet' object has no attribute 'stan_backend'\n",
      "❌ Error en producto 20362: 'Prophet' object has no attribute 'stan_backend'\n"
     ]
    },
    {
     "name": "stderr",
     "output_type": "stream",
     "text": [
      "Procesando productos:  30%|██▉       | 365/1233 [00:13<00:31, 27.34it/s]"
     ]
    },
    {
     "name": "stdout",
     "output_type": "stream",
     "text": [
      "❌ Error en producto 20363: 'Prophet' object has no attribute 'stan_backend'\n",
      "❌ Error en producto 20364: 'Prophet' object has no attribute 'stan_backend'\n",
      "❌ Error en producto 20365: 'Prophet' object has no attribute 'stan_backend'\n",
      "❌ Error en producto 20366: 'Prophet' object has no attribute 'stan_backend'\n",
      "❌ Error en producto 20367: 'Prophet' object has no attribute 'stan_backend'\n",
      "❌ Error en producto 20368: 'Prophet' object has no attribute 'stan_backend'\n"
     ]
    },
    {
     "name": "stderr",
     "output_type": "stream",
     "text": [
      "Procesando productos:  30%|███       | 371/1233 [00:13<00:33, 26.03it/s]"
     ]
    },
    {
     "name": "stdout",
     "output_type": "stream",
     "text": [
      "❌ Error en producto 20369: 'Prophet' object has no attribute 'stan_backend'\n",
      "❌ Error en producto 20370: 'Prophet' object has no attribute 'stan_backend'\n",
      "❌ Error en producto 20371: 'Prophet' object has no attribute 'stan_backend'\n",
      "❌ Error en producto 20372: 'Prophet' object has no attribute 'stan_backend'\n",
      "❌ Error en producto 20373: 'Prophet' object has no attribute 'stan_backend'\n",
      "❌ Error en producto 20374: 'Prophet' object has no attribute 'stan_backend'\n"
     ]
    },
    {
     "name": "stderr",
     "output_type": "stream",
     "text": [
      "Procesando productos:  31%|███       | 377/1233 [00:14<00:31, 26.88it/s]"
     ]
    },
    {
     "name": "stdout",
     "output_type": "stream",
     "text": [
      "❌ Error en producto 20375: 'Prophet' object has no attribute 'stan_backend'\n",
      "❌ Error en producto 20376: 'Prophet' object has no attribute 'stan_backend'\n",
      "❌ Error en producto 20377: 'Prophet' object has no attribute 'stan_backend'\n",
      "❌ Error en producto 20378: 'Prophet' object has no attribute 'stan_backend'\n",
      "❌ Error en producto 20379: 'Prophet' object has no attribute 'stan_backend'\n",
      "❌ Error en producto 20380: 'Prophet' object has no attribute 'stan_backend'\n",
      "❌ Error en producto 20381: 'Prophet' object has no attribute 'stan_backend'\n"
     ]
    },
    {
     "name": "stderr",
     "output_type": "stream",
     "text": [
      "Procesando productos:  31%|███       | 383/1233 [00:14<00:31, 27.38it/s]"
     ]
    },
    {
     "name": "stdout",
     "output_type": "stream",
     "text": [
      "❌ Error en producto 20382: 'Prophet' object has no attribute 'stan_backend'\n",
      "❌ Error en producto 20383: 'Prophet' object has no attribute 'stan_backend'\n",
      "❌ Error en producto 20384: 'Prophet' object has no attribute 'stan_backend'\n",
      "❌ Error en producto 20385: 'Prophet' object has no attribute 'stan_backend'\n",
      "❌ Error en producto 20386: 'Prophet' object has no attribute 'stan_backend'\n",
      "❌ Error en producto 20387: 'Prophet' object has no attribute 'stan_backend'\n"
     ]
    },
    {
     "name": "stderr",
     "output_type": "stream",
     "text": [
      "Procesando productos:  32%|███▏      | 389/1233 [00:14<00:31, 27.10it/s]"
     ]
    },
    {
     "name": "stdout",
     "output_type": "stream",
     "text": [
      "❌ Error en producto 20388: 'Prophet' object has no attribute 'stan_backend'\n",
      "❌ Error en producto 20389: 'Prophet' object has no attribute 'stan_backend'\n",
      "❌ Error en producto 20390: 'Prophet' object has no attribute 'stan_backend'\n",
      "❌ Error en producto 20391: 'Prophet' object has no attribute 'stan_backend'\n",
      "❌ Error en producto 20392: 'Prophet' object has no attribute 'stan_backend'\n",
      "❌ Error en producto 20393: 'Prophet' object has no attribute 'stan_backend'\n"
     ]
    },
    {
     "name": "stderr",
     "output_type": "stream",
     "text": [
      "Procesando productos:  32%|███▏      | 395/1233 [00:14<00:30, 27.18it/s]"
     ]
    },
    {
     "name": "stdout",
     "output_type": "stream",
     "text": [
      "❌ Error en producto 20394: 'Prophet' object has no attribute 'stan_backend'\n",
      "❌ Error en producto 20395: 'Prophet' object has no attribute 'stan_backend'\n",
      "❌ Error en producto 20396: 'Prophet' object has no attribute 'stan_backend'\n",
      "❌ Error en producto 20397: 'Prophet' object has no attribute 'stan_backend'\n",
      "❌ Error en producto 20398: 'Prophet' object has no attribute 'stan_backend'\n",
      "❌ Error en producto 20399: 'Prophet' object has no attribute 'stan_backend'\n"
     ]
    },
    {
     "name": "stderr",
     "output_type": "stream",
     "text": [
      "Procesando productos:  33%|███▎      | 401/1233 [00:15<00:31, 26.26it/s]"
     ]
    },
    {
     "name": "stdout",
     "output_type": "stream",
     "text": [
      "❌ Error en producto 20400: 'Prophet' object has no attribute 'stan_backend'\n",
      "❌ Error en producto 20401: 'Prophet' object has no attribute 'stan_backend'\n",
      "❌ Error en producto 20402: 'Prophet' object has no attribute 'stan_backend'\n",
      "❌ Error en producto 20403: 'Prophet' object has no attribute 'stan_backend'\n",
      "❌ Error en producto 20404: 'Prophet' object has no attribute 'stan_backend'\n",
      "❌ Error en producto 20405: 'Prophet' object has no attribute 'stan_backend'\n"
     ]
    },
    {
     "name": "stderr",
     "output_type": "stream",
     "text": [
      "Procesando productos:  33%|███▎      | 407/1233 [00:15<00:31, 26.05it/s]"
     ]
    },
    {
     "name": "stdout",
     "output_type": "stream",
     "text": [
      "❌ Error en producto 20406: 'Prophet' object has no attribute 'stan_backend'\n",
      "❌ Error en producto 20407: 'Prophet' object has no attribute 'stan_backend'\n",
      "❌ Error en producto 20408: 'Prophet' object has no attribute 'stan_backend'\n",
      "❌ Error en producto 20409: 'Prophet' object has no attribute 'stan_backend'\n",
      "❌ Error en producto 20410: 'Prophet' object has no attribute 'stan_backend'\n",
      "❌ Error en producto 20411: 'Prophet' object has no attribute 'stan_backend'\n"
     ]
    },
    {
     "name": "stderr",
     "output_type": "stream",
     "text": [
      "Procesando productos:  34%|███▎      | 416/1233 [00:15<00:29, 27.60it/s]"
     ]
    },
    {
     "name": "stdout",
     "output_type": "stream",
     "text": [
      "❌ Error en producto 20412: 'Prophet' object has no attribute 'stan_backend'\n",
      "❌ Error en producto 20413: 'Prophet' object has no attribute 'stan_backend'\n",
      "❌ Error en producto 20414: 'Prophet' object has no attribute 'stan_backend'\n",
      "❌ Error en producto 20415: 'Prophet' object has no attribute 'stan_backend'\n",
      "❌ Error en producto 20416: 'Prophet' object has no attribute 'stan_backend'\n",
      "❌ Error en producto 20417: 'Prophet' object has no attribute 'stan_backend'\n",
      "❌ Error en producto 20418: 'Prophet' object has no attribute 'stan_backend'\n"
     ]
    },
    {
     "name": "stderr",
     "output_type": "stream",
     "text": [
      "Procesando productos:  34%|███▍      | 419/1233 [00:15<00:29, 27.33it/s]"
     ]
    },
    {
     "name": "stdout",
     "output_type": "stream",
     "text": [
      "❌ Error en producto 20419: 'Prophet' object has no attribute 'stan_backend'\n",
      "❌ Error en producto 20420: 'Prophet' object has no attribute 'stan_backend'\n",
      "❌ Error en producto 20421: 'Prophet' object has no attribute 'stan_backend'\n",
      "❌ Error en producto 20422: 'Prophet' object has no attribute 'stan_backend'\n",
      "❌ Error en producto 20423: 'Prophet' object has no attribute 'stan_backend'\n",
      "❌ Error en producto 20424: 'Prophet' object has no attribute 'stan_backend'\n"
     ]
    },
    {
     "name": "stderr",
     "output_type": "stream",
     "text": [
      "Procesando productos:  34%|███▍      | 425/1233 [00:15<00:29, 27.30it/s]"
     ]
    },
    {
     "name": "stdout",
     "output_type": "stream",
     "text": [
      "❌ Error en producto 20425: 'Prophet' object has no attribute 'stan_backend'\n",
      "❌ Error en producto 20426: 'Prophet' object has no attribute 'stan_backend'\n",
      "❌ Error en producto 20427: 'Prophet' object has no attribute 'stan_backend'\n",
      "❌ Error en producto 20428: 'Prophet' object has no attribute 'stan_backend'\n",
      "❌ Error en producto 20429: 'Prophet' object has no attribute 'stan_backend'\n",
      "❌ Error en producto 20430: 'Prophet' object has no attribute 'stan_backend'\n"
     ]
    },
    {
     "name": "stderr",
     "output_type": "stream",
     "text": [
      "Procesando productos:  35%|███▌      | 436/1233 [00:16<00:24, 32.97it/s]"
     ]
    },
    {
     "name": "stdout",
     "output_type": "stream",
     "text": [
      "❌ Error en producto 20431: 'Prophet' object has no attribute 'stan_backend'\n",
      "❌ Error en producto 20432: 'Prophet' object has no attribute 'stan_backend'\n",
      "❌ Error en producto 20433: 'Prophet' object has no attribute 'stan_backend'\n",
      "❌ Error en producto 20434: 'Prophet' object has no attribute 'stan_backend'\n",
      "❌ Error en producto 20435: 'Prophet' object has no attribute 'stan_backend'\n",
      "❌ Error en producto 20438: 'Prophet' object has no attribute 'stan_backend'\n",
      "❌ Error en producto 20439: 'Prophet' object has no attribute 'stan_backend'\n"
     ]
    },
    {
     "name": "stderr",
     "output_type": "stream",
     "text": [
      "Procesando productos:  36%|███▌      | 440/1233 [00:16<00:25, 30.93it/s]"
     ]
    },
    {
     "name": "stdout",
     "output_type": "stream",
     "text": [
      "❌ Error en producto 20440: 'Prophet' object has no attribute 'stan_backend'\n",
      "❌ Error en producto 20441: 'Prophet' object has no attribute 'stan_backend'\n",
      "❌ Error en producto 20442: 'Prophet' object has no attribute 'stan_backend'\n",
      "❌ Error en producto 20443: 'Prophet' object has no attribute 'stan_backend'\n",
      "❌ Error en producto 20444: 'Prophet' object has no attribute 'stan_backend'\n",
      "❌ Error en producto 20445: 'Prophet' object has no attribute 'stan_backend'\n"
     ]
    },
    {
     "name": "stderr",
     "output_type": "stream",
     "text": [
      "Procesando productos:  36%|███▋      | 448/1233 [00:16<00:27, 28.89it/s]"
     ]
    },
    {
     "name": "stdout",
     "output_type": "stream",
     "text": [
      "❌ Error en producto 20446: 'Prophet' object has no attribute 'stan_backend'\n",
      "❌ Error en producto 20447: 'Prophet' object has no attribute 'stan_backend'\n",
      "❌ Error en producto 20448: 'Prophet' object has no attribute 'stan_backend'\n",
      "❌ Error en producto 20449: 'Prophet' object has no attribute 'stan_backend'\n",
      "❌ Error en producto 20450: 'Prophet' object has no attribute 'stan_backend'\n",
      "❌ Error en producto 20451: 'Prophet' object has no attribute 'stan_backend'\n",
      "❌ Error en producto 20452: 'Prophet' object has no attribute 'stan_backend'\n"
     ]
    },
    {
     "name": "stderr",
     "output_type": "stream",
     "text": [
      "Procesando productos:  37%|███▋      | 454/1233 [00:16<00:28, 27.48it/s]"
     ]
    },
    {
     "name": "stdout",
     "output_type": "stream",
     "text": [
      "❌ Error en producto 20453: 'Prophet' object has no attribute 'stan_backend'\n",
      "❌ Error en producto 20454: 'Prophet' object has no attribute 'stan_backend'\n",
      "❌ Error en producto 20455: 'Prophet' object has no attribute 'stan_backend'\n",
      "❌ Error en producto 20456: 'Prophet' object has no attribute 'stan_backend'\n",
      "❌ Error en producto 20457: 'Prophet' object has no attribute 'stan_backend'\n",
      "❌ Error en producto 20458: 'Prophet' object has no attribute 'stan_backend'\n"
     ]
    },
    {
     "name": "stderr",
     "output_type": "stream",
     "text": [
      "Procesando productos:  37%|███▋      | 460/1233 [00:17<00:28, 27.23it/s]"
     ]
    },
    {
     "name": "stdout",
     "output_type": "stream",
     "text": [
      "❌ Error en producto 20459: 'Prophet' object has no attribute 'stan_backend'\n",
      "❌ Error en producto 20460: 'Prophet' object has no attribute 'stan_backend'\n",
      "❌ Error en producto 20461: 'Prophet' object has no attribute 'stan_backend'\n",
      "❌ Error en producto 20462: 'Prophet' object has no attribute 'stan_backend'\n",
      "❌ Error en producto 20463: 'Prophet' object has no attribute 'stan_backend'\n",
      "❌ Error en producto 20464: 'Prophet' object has no attribute 'stan_backend'\n"
     ]
    },
    {
     "name": "stderr",
     "output_type": "stream",
     "text": [
      "Procesando productos:  38%|███▊      | 466/1233 [00:17<00:28, 27.02it/s]"
     ]
    },
    {
     "name": "stdout",
     "output_type": "stream",
     "text": [
      "❌ Error en producto 20465: 'Prophet' object has no attribute 'stan_backend'\n",
      "❌ Error en producto 20466: 'Prophet' object has no attribute 'stan_backend'\n",
      "❌ Error en producto 20467: 'Prophet' object has no attribute 'stan_backend'\n",
      "❌ Error en producto 20468: 'Prophet' object has no attribute 'stan_backend'\n",
      "❌ Error en producto 20469: 'Prophet' object has no attribute 'stan_backend'\n",
      "❌ Error en producto 20470: 'Prophet' object has no attribute 'stan_backend'\n"
     ]
    },
    {
     "name": "stderr",
     "output_type": "stream",
     "text": [
      "Procesando productos:  38%|███▊      | 472/1233 [00:17<00:28, 27.07it/s]"
     ]
    },
    {
     "name": "stdout",
     "output_type": "stream",
     "text": [
      "❌ Error en producto 20471: 'Prophet' object has no attribute 'stan_backend'\n",
      "❌ Error en producto 20472: 'Prophet' object has no attribute 'stan_backend'\n",
      "❌ Error en producto 20473: 'Prophet' object has no attribute 'stan_backend'\n",
      "❌ Error en producto 20474: 'Prophet' object has no attribute 'stan_backend'\n",
      "❌ Error en producto 20475: 'Prophet' object has no attribute 'stan_backend'\n",
      "❌ Error en producto 20476: 'Prophet' object has no attribute 'stan_backend'\n"
     ]
    },
    {
     "name": "stderr",
     "output_type": "stream",
     "text": [
      "Procesando productos:  39%|███▉      | 478/1233 [00:17<00:28, 26.52it/s]"
     ]
    },
    {
     "name": "stdout",
     "output_type": "stream",
     "text": [
      "❌ Error en producto 20477: 'Prophet' object has no attribute 'stan_backend'\n",
      "❌ Error en producto 20478: 'Prophet' object has no attribute 'stan_backend'\n",
      "❌ Error en producto 20479: 'Prophet' object has no attribute 'stan_backend'\n",
      "❌ Error en producto 20480: 'Prophet' object has no attribute 'stan_backend'\n",
      "❌ Error en producto 20481: 'Prophet' object has no attribute 'stan_backend'\n",
      "❌ Error en producto 20482: 'Prophet' object has no attribute 'stan_backend'\n"
     ]
    },
    {
     "name": "stderr",
     "output_type": "stream",
     "text": [
      "Procesando productos:  39%|███▉      | 484/1233 [00:18<00:29, 25.74it/s]"
     ]
    },
    {
     "name": "stdout",
     "output_type": "stream",
     "text": [
      "❌ Error en producto 20483: 'Prophet' object has no attribute 'stan_backend'\n",
      "❌ Error en producto 20484: 'Prophet' object has no attribute 'stan_backend'\n",
      "❌ Error en producto 20485: 'Prophet' object has no attribute 'stan_backend'\n",
      "❌ Error en producto 20486: 'Prophet' object has no attribute 'stan_backend'\n",
      "❌ Error en producto 20488: 'Prophet' object has no attribute 'stan_backend'\n",
      "❌ Error en producto 20489: 'Prophet' object has no attribute 'stan_backend'\n"
     ]
    },
    {
     "name": "stderr",
     "output_type": "stream",
     "text": [
      "Procesando productos:  40%|███▉      | 491/1233 [00:18<00:27, 27.03it/s]"
     ]
    },
    {
     "name": "stdout",
     "output_type": "stream",
     "text": [
      "❌ Error en producto 20490: 'Prophet' object has no attribute 'stan_backend'\n",
      "❌ Error en producto 20491: 'Prophet' object has no attribute 'stan_backend'\n",
      "❌ Error en producto 20492: 'Prophet' object has no attribute 'stan_backend'\n",
      "❌ Error en producto 20493: 'Prophet' object has no attribute 'stan_backend'\n",
      "❌ Error en producto 20494: 'Prophet' object has no attribute 'stan_backend'\n",
      "❌ Error en producto 20495: 'Prophet' object has no attribute 'stan_backend'\n"
     ]
    },
    {
     "name": "stderr",
     "output_type": "stream",
     "text": [
      "Procesando productos:  40%|████      | 497/1233 [00:18<00:27, 26.92it/s]"
     ]
    },
    {
     "name": "stdout",
     "output_type": "stream",
     "text": [
      "❌ Error en producto 20496: 'Prophet' object has no attribute 'stan_backend'\n",
      "❌ Error en producto 20497: 'Prophet' object has no attribute 'stan_backend'\n",
      "❌ Error en producto 20498: 'Prophet' object has no attribute 'stan_backend'\n",
      "❌ Error en producto 20499: 'Prophet' object has no attribute 'stan_backend'\n",
      "❌ Error en producto 20500: 'Prophet' object has no attribute 'stan_backend'\n",
      "❌ Error en producto 20501: 'Prophet' object has no attribute 'stan_backend'\n"
     ]
    },
    {
     "name": "stderr",
     "output_type": "stream",
     "text": [
      "Procesando productos:  41%|████      | 503/1233 [00:18<00:27, 26.81it/s]"
     ]
    },
    {
     "name": "stdout",
     "output_type": "stream",
     "text": [
      "❌ Error en producto 20502: 'Prophet' object has no attribute 'stan_backend'\n",
      "❌ Error en producto 20503: 'Prophet' object has no attribute 'stan_backend'\n",
      "❌ Error en producto 20504: 'Prophet' object has no attribute 'stan_backend'\n",
      "❌ Error en producto 20505: 'Prophet' object has no attribute 'stan_backend'\n",
      "❌ Error en producto 20506: 'Prophet' object has no attribute 'stan_backend'\n",
      "❌ Error en producto 20507: 'Prophet' object has no attribute 'stan_backend'\n"
     ]
    },
    {
     "name": "stderr",
     "output_type": "stream",
     "text": [
      "Procesando productos:  41%|████▏     | 509/1233 [00:19<00:27, 25.97it/s]"
     ]
    },
    {
     "name": "stdout",
     "output_type": "stream",
     "text": [
      "❌ Error en producto 20508: 'Prophet' object has no attribute 'stan_backend'\n",
      "❌ Error en producto 20509: 'Prophet' object has no attribute 'stan_backend'\n",
      "❌ Error en producto 20510: 'Prophet' object has no attribute 'stan_backend'\n",
      "❌ Error en producto 20511: 'Prophet' object has no attribute 'stan_backend'\n",
      "❌ Error en producto 20512: 'Prophet' object has no attribute 'stan_backend'\n",
      "❌ Error en producto 20513: 'Prophet' object has no attribute 'stan_backend'\n"
     ]
    },
    {
     "name": "stderr",
     "output_type": "stream",
     "text": [
      "Procesando productos:  42%|████▏     | 516/1233 [00:19<00:25, 28.48it/s]"
     ]
    },
    {
     "name": "stdout",
     "output_type": "stream",
     "text": [
      "❌ Error en producto 20514: 'Prophet' object has no attribute 'stan_backend'\n",
      "❌ Error en producto 20516: 'Prophet' object has no attribute 'stan_backend'\n",
      "❌ Error en producto 20517: 'Prophet' object has no attribute 'stan_backend'\n",
      "❌ Error en producto 20520: 'Prophet' object has no attribute 'stan_backend'\n",
      "❌ Error en producto 20521: 'Prophet' object has no attribute 'stan_backend'\n",
      "❌ Error en producto 20522: 'Prophet' object has no attribute 'stan_backend'\n"
     ]
    },
    {
     "name": "stderr",
     "output_type": "stream",
     "text": [
      "Procesando productos:  42%|████▏     | 522/1233 [00:19<00:26, 26.82it/s]"
     ]
    },
    {
     "name": "stdout",
     "output_type": "stream",
     "text": [
      "❌ Error en producto 20523: 'Prophet' object has no attribute 'stan_backend'\n",
      "❌ Error en producto 20524: 'Prophet' object has no attribute 'stan_backend'\n",
      "❌ Error en producto 20525: 'Prophet' object has no attribute 'stan_backend'\n",
      "❌ Error en producto 20526: 'Prophet' object has no attribute 'stan_backend'\n",
      "❌ Error en producto 20527: 'Prophet' object has no attribute 'stan_backend'\n",
      "❌ Error en producto 20528: 'Prophet' object has no attribute 'stan_backend'\n"
     ]
    },
    {
     "name": "stderr",
     "output_type": "stream",
     "text": [
      "Procesando productos:  43%|████▎     | 528/1233 [00:19<00:27, 25.20it/s]"
     ]
    },
    {
     "name": "stdout",
     "output_type": "stream",
     "text": [
      "❌ Error en producto 20529: 'Prophet' object has no attribute 'stan_backend'\n",
      "❌ Error en producto 20530: 'Prophet' object has no attribute 'stan_backend'\n",
      "❌ Error en producto 20531: 'Prophet' object has no attribute 'stan_backend'\n",
      "❌ Error en producto 20532: 'Prophet' object has no attribute 'stan_backend'\n",
      "❌ Error en producto 20533: 'Prophet' object has no attribute 'stan_backend'\n"
     ]
    },
    {
     "name": "stderr",
     "output_type": "stream",
     "text": [
      "Procesando productos:  43%|████▎     | 534/1233 [00:19<00:26, 26.22it/s]"
     ]
    },
    {
     "name": "stdout",
     "output_type": "stream",
     "text": [
      "❌ Error en producto 20534: 'Prophet' object has no attribute 'stan_backend'\n",
      "❌ Error en producto 20535: 'Prophet' object has no attribute 'stan_backend'\n",
      "❌ Error en producto 20536: 'Prophet' object has no attribute 'stan_backend'\n",
      "❌ Error en producto 20537: 'Prophet' object has no attribute 'stan_backend'\n",
      "❌ Error en producto 20538: 'Prophet' object has no attribute 'stan_backend'\n",
      "❌ Error en producto 20539: 'Prophet' object has no attribute 'stan_backend'\n"
     ]
    },
    {
     "name": "stderr",
     "output_type": "stream",
     "text": [
      "Procesando productos:  44%|████▍     | 540/1233 [00:20<00:25, 27.08it/s]"
     ]
    },
    {
     "name": "stdout",
     "output_type": "stream",
     "text": [
      "❌ Error en producto 20540: 'Prophet' object has no attribute 'stan_backend'\n",
      "❌ Error en producto 20541: 'Prophet' object has no attribute 'stan_backend'\n",
      "❌ Error en producto 20542: 'Prophet' object has no attribute 'stan_backend'\n",
      "❌ Error en producto 20543: 'Prophet' object has no attribute 'stan_backend'\n",
      "❌ Error en producto 20544: 'Prophet' object has no attribute 'stan_backend'\n",
      "❌ Error en producto 20545: 'Prophet' object has no attribute 'stan_backend'\n"
     ]
    },
    {
     "name": "stderr",
     "output_type": "stream",
     "text": [
      "Procesando productos:  44%|████▍     | 546/1233 [00:20<00:25, 26.66it/s]"
     ]
    },
    {
     "name": "stdout",
     "output_type": "stream",
     "text": [
      "❌ Error en producto 20546: 'Prophet' object has no attribute 'stan_backend'\n",
      "❌ Error en producto 20547: 'Prophet' object has no attribute 'stan_backend'\n",
      "❌ Error en producto 20548: 'Prophet' object has no attribute 'stan_backend'\n",
      "❌ Error en producto 20549: 'Prophet' object has no attribute 'stan_backend'\n",
      "❌ Error en producto 20550: 'Prophet' object has no attribute 'stan_backend'\n",
      "❌ Error en producto 20551: 'Prophet' object has no attribute 'stan_backend'\n"
     ]
    },
    {
     "name": "stderr",
     "output_type": "stream",
     "text": [
      "Procesando productos:  45%|████▍     | 552/1233 [00:20<00:25, 26.51it/s]"
     ]
    },
    {
     "name": "stdout",
     "output_type": "stream",
     "text": [
      "❌ Error en producto 20552: 'Prophet' object has no attribute 'stan_backend'\n",
      "❌ Error en producto 20553: 'Prophet' object has no attribute 'stan_backend'\n",
      "❌ Error en producto 20554: 'Prophet' object has no attribute 'stan_backend'\n",
      "❌ Error en producto 20555: 'Prophet' object has no attribute 'stan_backend'\n",
      "❌ Error en producto 20556: 'Prophet' object has no attribute 'stan_backend'\n",
      "❌ Error en producto 20557: 'Prophet' object has no attribute 'stan_backend'\n"
     ]
    },
    {
     "name": "stderr",
     "output_type": "stream",
     "text": [
      "Procesando productos:  45%|████▌     | 558/1233 [00:20<00:25, 25.99it/s]"
     ]
    },
    {
     "name": "stdout",
     "output_type": "stream",
     "text": [
      "❌ Error en producto 20558: 'Prophet' object has no attribute 'stan_backend'\n",
      "❌ Error en producto 20559: 'Prophet' object has no attribute 'stan_backend'\n",
      "❌ Error en producto 20560: 'Prophet' object has no attribute 'stan_backend'\n",
      "❌ Error en producto 20561: 'Prophet' object has no attribute 'stan_backend'\n",
      "❌ Error en producto 20562: 'Prophet' object has no attribute 'stan_backend'\n",
      "❌ Error en producto 20563: 'Prophet' object has no attribute 'stan_backend'\n"
     ]
    },
    {
     "name": "stderr",
     "output_type": "stream",
     "text": [
      "Procesando productos:  46%|████▌     | 564/1233 [00:21<00:26, 25.68it/s]"
     ]
    },
    {
     "name": "stdout",
     "output_type": "stream",
     "text": [
      "❌ Error en producto 20564: 'Prophet' object has no attribute 'stan_backend'\n",
      "❌ Error en producto 20565: 'Prophet' object has no attribute 'stan_backend'\n",
      "❌ Error en producto 20566: 'Prophet' object has no attribute 'stan_backend'\n",
      "❌ Error en producto 20567: 'Prophet' object has no attribute 'stan_backend'\n",
      "❌ Error en producto 20568: 'Prophet' object has no attribute 'stan_backend'\n",
      "❌ Error en producto 20569: 'Prophet' object has no attribute 'stan_backend'\n"
     ]
    },
    {
     "name": "stderr",
     "output_type": "stream",
     "text": [
      "Procesando productos:  46%|████▌     | 570/1233 [00:21<00:25, 26.40it/s]"
     ]
    },
    {
     "name": "stdout",
     "output_type": "stream",
     "text": [
      "❌ Error en producto 20570: 'Prophet' object has no attribute 'stan_backend'\n",
      "❌ Error en producto 20571: 'Prophet' object has no attribute 'stan_backend'\n",
      "❌ Error en producto 20572: 'Prophet' object has no attribute 'stan_backend'\n",
      "❌ Error en producto 20573: 'Prophet' object has no attribute 'stan_backend'\n",
      "❌ Error en producto 20574: 'Prophet' object has no attribute 'stan_backend'\n",
      "❌ Error en producto 20575: 'Prophet' object has no attribute 'stan_backend'\n",
      "❌ Error en producto 20576: 'Prophet' object has no attribute 'stan_backend'\n"
     ]
    },
    {
     "name": "stderr",
     "output_type": "stream",
     "text": [
      "Procesando productos:  47%|████▋     | 576/1233 [00:21<00:24, 27.20it/s]"
     ]
    },
    {
     "name": "stdout",
     "output_type": "stream",
     "text": [
      "❌ Error en producto 20577: 'Prophet' object has no attribute 'stan_backend'\n",
      "❌ Error en producto 20578: 'Prophet' object has no attribute 'stan_backend'\n",
      "❌ Error en producto 20579: 'Prophet' object has no attribute 'stan_backend'\n",
      "❌ Error en producto 20580: 'Prophet' object has no attribute 'stan_backend'\n",
      "❌ Error en producto 20581: 'Prophet' object has no attribute 'stan_backend'\n",
      "❌ Error en producto 20582: 'Prophet' object has no attribute 'stan_backend'\n"
     ]
    },
    {
     "name": "stderr",
     "output_type": "stream",
     "text": [
      "Procesando productos:  47%|████▋     | 582/1233 [00:21<00:24, 27.03it/s]"
     ]
    },
    {
     "name": "stdout",
     "output_type": "stream",
     "text": [
      "❌ Error en producto 20583: 'Prophet' object has no attribute 'stan_backend'\n",
      "❌ Error en producto 20584: 'Prophet' object has no attribute 'stan_backend'\n",
      "❌ Error en producto 20585: 'Prophet' object has no attribute 'stan_backend'\n",
      "❌ Error en producto 20586: 'Prophet' object has no attribute 'stan_backend'\n",
      "❌ Error en producto 20587: 'Prophet' object has no attribute 'stan_backend'\n",
      "❌ Error en producto 20588: 'Prophet' object has no attribute 'stan_backend'\n"
     ]
    },
    {
     "name": "stderr",
     "output_type": "stream",
     "text": [
      "Procesando productos:  48%|████▊     | 588/1233 [00:22<00:24, 26.53it/s]"
     ]
    },
    {
     "name": "stdout",
     "output_type": "stream",
     "text": [
      "❌ Error en producto 20589: 'Prophet' object has no attribute 'stan_backend'\n",
      "❌ Error en producto 20590: 'Prophet' object has no attribute 'stan_backend'\n",
      "❌ Error en producto 20591: 'Prophet' object has no attribute 'stan_backend'\n",
      "❌ Error en producto 20592: 'Prophet' object has no attribute 'stan_backend'\n",
      "❌ Error en producto 20593: 'Prophet' object has no attribute 'stan_backend'\n",
      "❌ Error en producto 20594: 'Prophet' object has no attribute 'stan_backend'\n"
     ]
    },
    {
     "name": "stderr",
     "output_type": "stream",
     "text": [
      "Procesando productos:  48%|████▊     | 594/1233 [00:22<00:24, 26.52it/s]"
     ]
    },
    {
     "name": "stdout",
     "output_type": "stream",
     "text": [
      "❌ Error en producto 20595: 'Prophet' object has no attribute 'stan_backend'\n",
      "❌ Error en producto 20596: 'Prophet' object has no attribute 'stan_backend'\n",
      "❌ Error en producto 20597: 'Prophet' object has no attribute 'stan_backend'\n",
      "❌ Error en producto 20598: 'Prophet' object has no attribute 'stan_backend'\n",
      "❌ Error en producto 20599: 'Prophet' object has no attribute 'stan_backend'\n",
      "❌ Error en producto 20600: 'Prophet' object has no attribute 'stan_backend'\n"
     ]
    },
    {
     "name": "stderr",
     "output_type": "stream",
     "text": [
      "Procesando productos:  49%|████▊     | 600/1233 [00:22<00:24, 26.24it/s]"
     ]
    },
    {
     "name": "stdout",
     "output_type": "stream",
     "text": [
      "❌ Error en producto 20601: 'Prophet' object has no attribute 'stan_backend'\n",
      "❌ Error en producto 20602: 'Prophet' object has no attribute 'stan_backend'\n",
      "❌ Error en producto 20603: 'Prophet' object has no attribute 'stan_backend'\n",
      "❌ Error en producto 20604: 'Prophet' object has no attribute 'stan_backend'\n",
      "❌ Error en producto 20605: 'Prophet' object has no attribute 'stan_backend'\n",
      "❌ Error en producto 20606: 'Prophet' object has no attribute 'stan_backend'\n"
     ]
    },
    {
     "name": "stderr",
     "output_type": "stream",
     "text": [
      "Procesando productos:  49%|████▉     | 606/1233 [00:22<00:23, 26.61it/s]"
     ]
    },
    {
     "name": "stdout",
     "output_type": "stream",
     "text": [
      "❌ Error en producto 20607: 'Prophet' object has no attribute 'stan_backend'\n",
      "❌ Error en producto 20608: 'Prophet' object has no attribute 'stan_backend'\n",
      "❌ Error en producto 20609: 'Prophet' object has no attribute 'stan_backend'\n",
      "❌ Error en producto 20610: 'Prophet' object has no attribute 'stan_backend'\n",
      "❌ Error en producto 20611: 'Prophet' object has no attribute 'stan_backend'\n",
      "❌ Error en producto 20612: 'Prophet' object has no attribute 'stan_backend'\n"
     ]
    },
    {
     "name": "stderr",
     "output_type": "stream",
     "text": [
      "Procesando productos:  50%|████▉     | 612/1233 [00:22<00:23, 26.86it/s]"
     ]
    },
    {
     "name": "stdout",
     "output_type": "stream",
     "text": [
      "❌ Error en producto 20613: 'Prophet' object has no attribute 'stan_backend'\n",
      "❌ Error en producto 20614: 'Prophet' object has no attribute 'stan_backend'\n",
      "❌ Error en producto 20615: 'Prophet' object has no attribute 'stan_backend'\n",
      "❌ Error en producto 20616: 'Prophet' object has no attribute 'stan_backend'\n",
      "❌ Error en producto 20617: 'Prophet' object has no attribute 'stan_backend'\n",
      "❌ Error en producto 20618: 'Prophet' object has no attribute 'stan_backend'\n"
     ]
    },
    {
     "name": "stderr",
     "output_type": "stream",
     "text": [
      "Procesando productos:  50%|█████     | 618/1233 [00:23<00:23, 26.23it/s]"
     ]
    },
    {
     "name": "stdout",
     "output_type": "stream",
     "text": [
      "❌ Error en producto 20619: 'Prophet' object has no attribute 'stan_backend'\n",
      "❌ Error en producto 20620: 'Prophet' object has no attribute 'stan_backend'\n",
      "❌ Error en producto 20621: 'Prophet' object has no attribute 'stan_backend'\n",
      "❌ Error en producto 20622: 'Prophet' object has no attribute 'stan_backend'\n",
      "❌ Error en producto 20623: 'Prophet' object has no attribute 'stan_backend'\n",
      "❌ Error en producto 20624: 'Prophet' object has no attribute 'stan_backend'\n"
     ]
    },
    {
     "name": "stderr",
     "output_type": "stream",
     "text": [
      "Procesando productos:  51%|█████     | 624/1233 [00:23<00:23, 26.38it/s]"
     ]
    },
    {
     "name": "stdout",
     "output_type": "stream",
     "text": [
      "❌ Error en producto 20625: 'Prophet' object has no attribute 'stan_backend'\n",
      "❌ Error en producto 20626: 'Prophet' object has no attribute 'stan_backend'\n",
      "❌ Error en producto 20627: 'Prophet' object has no attribute 'stan_backend'\n",
      "❌ Error en producto 20628: 'Prophet' object has no attribute 'stan_backend'\n",
      "❌ Error en producto 20629: 'Prophet' object has no attribute 'stan_backend'\n",
      "❌ Error en producto 20630: 'Prophet' object has no attribute 'stan_backend'\n"
     ]
    },
    {
     "name": "stderr",
     "output_type": "stream",
     "text": [
      "Procesando productos:  51%|█████     | 631/1233 [00:23<00:21, 27.68it/s]"
     ]
    },
    {
     "name": "stdout",
     "output_type": "stream",
     "text": [
      "❌ Error en producto 20632: 'Prophet' object has no attribute 'stan_backend'\n",
      "❌ Error en producto 20633: 'Prophet' object has no attribute 'stan_backend'\n",
      "❌ Error en producto 20634: 'Prophet' object has no attribute 'stan_backend'\n",
      "❌ Error en producto 20635: 'Prophet' object has no attribute 'stan_backend'\n",
      "❌ Error en producto 20636: 'Prophet' object has no attribute 'stan_backend'\n",
      "❌ Error en producto 20637: 'Prophet' object has no attribute 'stan_backend'\n"
     ]
    },
    {
     "name": "stderr",
     "output_type": "stream",
     "text": [
      "Procesando productos:  52%|█████▏    | 637/1233 [00:23<00:22, 27.08it/s]"
     ]
    },
    {
     "name": "stdout",
     "output_type": "stream",
     "text": [
      "❌ Error en producto 20638: 'Prophet' object has no attribute 'stan_backend'\n",
      "❌ Error en producto 20639: 'Prophet' object has no attribute 'stan_backend'\n",
      "❌ Error en producto 20640: 'Prophet' object has no attribute 'stan_backend'\n",
      "❌ Error en producto 20641: 'Prophet' object has no attribute 'stan_backend'\n",
      "❌ Error en producto 20642: 'Prophet' object has no attribute 'stan_backend'\n",
      "❌ Error en producto 20643: 'Prophet' object has no attribute 'stan_backend'\n"
     ]
    },
    {
     "name": "stderr",
     "output_type": "stream",
     "text": [
      "Procesando productos:  52%|█████▏    | 643/1233 [00:24<00:21, 27.62it/s]"
     ]
    },
    {
     "name": "stdout",
     "output_type": "stream",
     "text": [
      "❌ Error en producto 20644: 'Prophet' object has no attribute 'stan_backend'\n",
      "❌ Error en producto 20645: 'Prophet' object has no attribute 'stan_backend'\n",
      "❌ Error en producto 20646: 'Prophet' object has no attribute 'stan_backend'\n",
      "❌ Error en producto 20647: 'Prophet' object has no attribute 'stan_backend'\n",
      "❌ Error en producto 20648: 'Prophet' object has no attribute 'stan_backend'\n",
      "❌ Error en producto 20649: 'Prophet' object has no attribute 'stan_backend'\n"
     ]
    },
    {
     "name": "stderr",
     "output_type": "stream",
     "text": [
      "Procesando productos:  53%|█████▎    | 649/1233 [00:24<00:21, 27.64it/s]"
     ]
    },
    {
     "name": "stdout",
     "output_type": "stream",
     "text": [
      "❌ Error en producto 20650: 'Prophet' object has no attribute 'stan_backend'\n",
      "❌ Error en producto 20651: 'Prophet' object has no attribute 'stan_backend'\n",
      "❌ Error en producto 20652: 'Prophet' object has no attribute 'stan_backend'\n",
      "❌ Error en producto 20653: 'Prophet' object has no attribute 'stan_backend'\n",
      "❌ Error en producto 20654: 'Prophet' object has no attribute 'stan_backend'\n",
      "❌ Error en producto 20655: 'Prophet' object has no attribute 'stan_backend'\n"
     ]
    },
    {
     "name": "stderr",
     "output_type": "stream",
     "text": [
      "Procesando productos:  53%|█████▎    | 655/1233 [00:24<00:21, 27.16it/s]"
     ]
    },
    {
     "name": "stdout",
     "output_type": "stream",
     "text": [
      "❌ Error en producto 20656: 'Prophet' object has no attribute 'stan_backend'\n",
      "❌ Error en producto 20657: 'Prophet' object has no attribute 'stan_backend'\n",
      "❌ Error en producto 20658: 'Prophet' object has no attribute 'stan_backend'\n",
      "❌ Error en producto 20659: 'Prophet' object has no attribute 'stan_backend'\n",
      "❌ Error en producto 20660: 'Prophet' object has no attribute 'stan_backend'\n",
      "❌ Error en producto 20661: 'Prophet' object has no attribute 'stan_backend'\n"
     ]
    },
    {
     "name": "stderr",
     "output_type": "stream",
     "text": [
      "Procesando productos:  54%|█████▎    | 661/1233 [00:24<00:21, 27.22it/s]"
     ]
    },
    {
     "name": "stdout",
     "output_type": "stream",
     "text": [
      "❌ Error en producto 20662: 'Prophet' object has no attribute 'stan_backend'\n",
      "❌ Error en producto 20663: 'Prophet' object has no attribute 'stan_backend'\n",
      "❌ Error en producto 20664: 'Prophet' object has no attribute 'stan_backend'\n",
      "❌ Error en producto 20665: 'Prophet' object has no attribute 'stan_backend'\n",
      "❌ Error en producto 20666: 'Prophet' object has no attribute 'stan_backend'\n",
      "❌ Error en producto 20667: 'Prophet' object has no attribute 'stan_backend'\n"
     ]
    },
    {
     "name": "stderr",
     "output_type": "stream",
     "text": [
      "Procesando productos:  54%|█████▍    | 668/1233 [00:24<00:18, 29.93it/s]"
     ]
    },
    {
     "name": "stdout",
     "output_type": "stream",
     "text": [
      "❌ Error en producto 20668: 'Prophet' object has no attribute 'stan_backend'\n",
      "❌ Error en producto 20669: 'Prophet' object has no attribute 'stan_backend'\n",
      "❌ Error en producto 20670: 'Prophet' object has no attribute 'stan_backend'\n",
      "❌ Error en producto 20672: 'Prophet' object has no attribute 'stan_backend'\n",
      "❌ Error en producto 20673: 'Prophet' object has no attribute 'stan_backend'\n",
      "❌ Error en producto 20674: 'Prophet' object has no attribute 'stan_backend'\n"
     ]
    },
    {
     "name": "stderr",
     "output_type": "stream",
     "text": [
      "Procesando productos:  55%|█████▍    | 674/1233 [00:25<00:20, 26.90it/s]"
     ]
    },
    {
     "name": "stdout",
     "output_type": "stream",
     "text": [
      "❌ Error en producto 20675: 'Prophet' object has no attribute 'stan_backend'\n",
      "❌ Error en producto 20676: 'Prophet' object has no attribute 'stan_backend'\n",
      "❌ Error en producto 20677: 'Prophet' object has no attribute 'stan_backend'\n",
      "❌ Error en producto 20678: 'Prophet' object has no attribute 'stan_backend'\n",
      "❌ Error en producto 20679: 'Prophet' object has no attribute 'stan_backend'\n",
      "❌ Error en producto 20680: 'Prophet' object has no attribute 'stan_backend'\n"
     ]
    },
    {
     "name": "stderr",
     "output_type": "stream",
     "text": [
      "Procesando productos:  55%|█████▌    | 680/1233 [00:25<00:20, 26.99it/s]"
     ]
    },
    {
     "name": "stdout",
     "output_type": "stream",
     "text": [
      "❌ Error en producto 20681: 'Prophet' object has no attribute 'stan_backend'\n",
      "❌ Error en producto 20682: 'Prophet' object has no attribute 'stan_backend'\n",
      "❌ Error en producto 20683: 'Prophet' object has no attribute 'stan_backend'\n",
      "❌ Error en producto 20684: 'Prophet' object has no attribute 'stan_backend'\n",
      "❌ Error en producto 20685: 'Prophet' object has no attribute 'stan_backend'\n",
      "❌ Error en producto 20687: 'Prophet' object has no attribute 'stan_backend'\n"
     ]
    },
    {
     "name": "stderr",
     "output_type": "stream",
     "text": [
      "Procesando productos:  56%|█████▌    | 687/1233 [00:25<00:18, 29.00it/s]"
     ]
    },
    {
     "name": "stdout",
     "output_type": "stream",
     "text": [
      "❌ Error en producto 20689: 'Prophet' object has no attribute 'stan_backend'\n",
      "❌ Error en producto 20690: 'Prophet' object has no attribute 'stan_backend'\n",
      "❌ Error en producto 20691: 'Prophet' object has no attribute 'stan_backend'\n",
      "❌ Error en producto 20692: 'Prophet' object has no attribute 'stan_backend'\n",
      "❌ Error en producto 20693: 'Prophet' object has no attribute 'stan_backend'\n",
      "❌ Error en producto 20694: 'Prophet' object has no attribute 'stan_backend'\n"
     ]
    },
    {
     "name": "stderr",
     "output_type": "stream",
     "text": [
      "Procesando productos:  56%|█████▌    | 693/1233 [00:25<00:19, 28.38it/s]"
     ]
    },
    {
     "name": "stdout",
     "output_type": "stream",
     "text": [
      "❌ Error en producto 20696: 'Prophet' object has no attribute 'stan_backend'\n",
      "❌ Error en producto 20697: 'Prophet' object has no attribute 'stan_backend'\n",
      "❌ Error en producto 20698: 'Prophet' object has no attribute 'stan_backend'\n",
      "❌ Error en producto 20699: 'Prophet' object has no attribute 'stan_backend'\n",
      "❌ Error en producto 20700: 'Prophet' object has no attribute 'stan_backend'\n",
      "❌ Error en producto 20701: 'Prophet' object has no attribute 'stan_backend'\n"
     ]
    },
    {
     "name": "stderr",
     "output_type": "stream",
     "text": [
      "Procesando productos:  57%|█████▋    | 700/1233 [00:26<00:17, 30.51it/s]"
     ]
    },
    {
     "name": "stdout",
     "output_type": "stream",
     "text": [
      "❌ Error en producto 20702: 'Prophet' object has no attribute 'stan_backend'\n",
      "❌ Error en producto 20704: 'Prophet' object has no attribute 'stan_backend'\n",
      "❌ Error en producto 20705: 'Prophet' object has no attribute 'stan_backend'\n",
      "❌ Error en producto 20706: 'Prophet' object has no attribute 'stan_backend'\n",
      "❌ Error en producto 20707: 'Prophet' object has no attribute 'stan_backend'\n",
      "❌ Error en producto 20708: 'Prophet' object has no attribute 'stan_backend'\n"
     ]
    },
    {
     "name": "stderr",
     "output_type": "stream",
     "text": [
      "Procesando productos:  57%|█████▋    | 707/1233 [00:26<00:18, 28.99it/s]"
     ]
    },
    {
     "name": "stdout",
     "output_type": "stream",
     "text": [
      "❌ Error en producto 20709: 'Prophet' object has no attribute 'stan_backend'\n",
      "❌ Error en producto 20710: 'Prophet' object has no attribute 'stan_backend'\n",
      "❌ Error en producto 20711: 'Prophet' object has no attribute 'stan_backend'\n",
      "❌ Error en producto 20712: 'Prophet' object has no attribute 'stan_backend'\n",
      "❌ Error en producto 20713: 'Prophet' object has no attribute 'stan_backend'\n",
      "❌ Error en producto 20714: 'Prophet' object has no attribute 'stan_backend'\n",
      "❌ Error en producto 20715: 'Prophet' object has no attribute 'stan_backend'\n"
     ]
    },
    {
     "name": "stderr",
     "output_type": "stream",
     "text": [
      "Procesando productos:  58%|█████▊    | 713/1233 [00:26<00:19, 26.68it/s]"
     ]
    },
    {
     "name": "stdout",
     "output_type": "stream",
     "text": [
      "❌ Error en producto 20716: 'Prophet' object has no attribute 'stan_backend'\n",
      "❌ Error en producto 20717: 'Prophet' object has no attribute 'stan_backend'\n",
      "❌ Error en producto 20718: 'Prophet' object has no attribute 'stan_backend'\n",
      "❌ Error en producto 20719: 'Prophet' object has no attribute 'stan_backend'\n",
      "❌ Error en producto 20720: 'Prophet' object has no attribute 'stan_backend'\n",
      "❌ Error en producto 20721: 'Prophet' object has no attribute 'stan_backend'\n"
     ]
    },
    {
     "name": "stderr",
     "output_type": "stream",
     "text": [
      "Procesando productos:  58%|█████▊    | 719/1233 [00:26<00:19, 26.79it/s]"
     ]
    },
    {
     "name": "stdout",
     "output_type": "stream",
     "text": [
      "❌ Error en producto 20722: 'Prophet' object has no attribute 'stan_backend'\n",
      "❌ Error en producto 20723: 'Prophet' object has no attribute 'stan_backend'\n",
      "❌ Error en producto 20724: 'Prophet' object has no attribute 'stan_backend'\n",
      "❌ Error en producto 20725: 'Prophet' object has no attribute 'stan_backend'\n",
      "❌ Error en producto 20726: 'Prophet' object has no attribute 'stan_backend'\n",
      "❌ Error en producto 20727: 'Prophet' object has no attribute 'stan_backend'\n"
     ]
    },
    {
     "name": "stderr",
     "output_type": "stream",
     "text": [
      "Procesando productos:  59%|█████▉    | 726/1233 [00:26<00:17, 28.76it/s]"
     ]
    },
    {
     "name": "stdout",
     "output_type": "stream",
     "text": [
      "❌ Error en producto 20729: 'Prophet' object has no attribute 'stan_backend'\n",
      "❌ Error en producto 20730: 'Prophet' object has no attribute 'stan_backend'\n",
      "❌ Error en producto 20731: 'Prophet' object has no attribute 'stan_backend'\n",
      "❌ Error en producto 20732: 'Prophet' object has no attribute 'stan_backend'\n",
      "❌ Error en producto 20733: 'Prophet' object has no attribute 'stan_backend'\n",
      "❌ Error en producto 20735: 'Prophet' object has no attribute 'stan_backend'\n"
     ]
    },
    {
     "name": "stderr",
     "output_type": "stream",
     "text": [
      "Procesando productos:  59%|█████▉    | 732/1233 [00:27<00:18, 27.47it/s]"
     ]
    },
    {
     "name": "stdout",
     "output_type": "stream",
     "text": [
      "❌ Error en producto 20736: 'Prophet' object has no attribute 'stan_backend'\n",
      "❌ Error en producto 20737: 'Prophet' object has no attribute 'stan_backend'\n",
      "❌ Error en producto 20738: 'Prophet' object has no attribute 'stan_backend'\n",
      "❌ Error en producto 20739: 'Prophet' object has no attribute 'stan_backend'\n",
      "❌ Error en producto 20741: 'Prophet' object has no attribute 'stan_backend'\n",
      "❌ Error en producto 20742: 'Prophet' object has no attribute 'stan_backend'\n"
     ]
    },
    {
     "name": "stderr",
     "output_type": "stream",
     "text": [
      "Procesando productos:  60%|█████▉    | 738/1233 [00:27<00:18, 27.23it/s]"
     ]
    },
    {
     "name": "stdout",
     "output_type": "stream",
     "text": [
      "❌ Error en producto 20743: 'Prophet' object has no attribute 'stan_backend'\n",
      "❌ Error en producto 20744: 'Prophet' object has no attribute 'stan_backend'\n",
      "❌ Error en producto 20745: 'Prophet' object has no attribute 'stan_backend'\n",
      "❌ Error en producto 20746: 'Prophet' object has no attribute 'stan_backend'\n",
      "❌ Error en producto 20747: 'Prophet' object has no attribute 'stan_backend'\n",
      "❌ Error en producto 20748: 'Prophet' object has no attribute 'stan_backend'\n"
     ]
    },
    {
     "name": "stderr",
     "output_type": "stream",
     "text": [
      "Procesando productos:  60%|██████    | 744/1233 [00:27<00:18, 27.00it/s]"
     ]
    },
    {
     "name": "stdout",
     "output_type": "stream",
     "text": [
      "❌ Error en producto 20749: 'Prophet' object has no attribute 'stan_backend'\n",
      "❌ Error en producto 20750: 'Prophet' object has no attribute 'stan_backend'\n",
      "❌ Error en producto 20751: 'Prophet' object has no attribute 'stan_backend'\n",
      "❌ Error en producto 20752: 'Prophet' object has no attribute 'stan_backend'\n",
      "❌ Error en producto 20754: 'Prophet' object has no attribute 'stan_backend'\n",
      "❌ Error en producto 20755: 'Prophet' object has no attribute 'stan_backend'\n"
     ]
    },
    {
     "name": "stderr",
     "output_type": "stream",
     "text": [
      "Procesando productos:  61%|██████    | 750/1233 [00:27<00:18, 25.94it/s]"
     ]
    },
    {
     "name": "stdout",
     "output_type": "stream",
     "text": [
      "❌ Error en producto 20756: 'Prophet' object has no attribute 'stan_backend'\n",
      "❌ Error en producto 20757: 'Prophet' object has no attribute 'stan_backend'\n",
      "❌ Error en producto 20758: 'Prophet' object has no attribute 'stan_backend'\n",
      "❌ Error en producto 20759: 'Prophet' object has no attribute 'stan_backend'\n",
      "❌ Error en producto 20760: 'Prophet' object has no attribute 'stan_backend'\n",
      "❌ Error en producto 20761: 'Prophet' object has no attribute 'stan_backend'\n"
     ]
    },
    {
     "name": "stderr",
     "output_type": "stream",
     "text": [
      "Procesando productos:  61%|██████▏   | 757/1233 [00:28<00:16, 29.21it/s]"
     ]
    },
    {
     "name": "stdout",
     "output_type": "stream",
     "text": [
      "❌ Error en producto 20762: 'Prophet' object has no attribute 'stan_backend'\n",
      "❌ Error en producto 20763: 'Prophet' object has no attribute 'stan_backend'\n",
      "❌ Error en producto 20765: 'Prophet' object has no attribute 'stan_backend'\n",
      "❌ Error en producto 20766: 'Prophet' object has no attribute 'stan_backend'\n",
      "❌ Error en producto 20767: 'Prophet' object has no attribute 'stan_backend'\n",
      "❌ Error en producto 20768: 'Prophet' object has no attribute 'stan_backend'\n"
     ]
    },
    {
     "name": "stderr",
     "output_type": "stream",
     "text": [
      "Procesando productos:  62%|██████▏   | 764/1233 [00:28<00:15, 31.23it/s]"
     ]
    },
    {
     "name": "stdout",
     "output_type": "stream",
     "text": [
      "❌ Error en producto 20769: 'Prophet' object has no attribute 'stan_backend'\n",
      "❌ Error en producto 20771: 'Prophet' object has no attribute 'stan_backend'\n",
      "❌ Error en producto 20772: 'Prophet' object has no attribute 'stan_backend'\n",
      "❌ Error en producto 20773: 'Prophet' object has no attribute 'stan_backend'\n",
      "❌ Error en producto 20774: 'Prophet' object has no attribute 'stan_backend'\n",
      "❌ Error en producto 20775: 'Prophet' object has no attribute 'stan_backend'\n",
      "❌ Error en producto 20776: 'Prophet' object has no attribute 'stan_backend'\n"
     ]
    },
    {
     "name": "stderr",
     "output_type": "stream",
     "text": [
      "Procesando productos:  63%|██████▎   | 772/1233 [00:28<00:14, 32.25it/s]"
     ]
    },
    {
     "name": "stdout",
     "output_type": "stream",
     "text": [
      "❌ Error en producto 20777: 'Prophet' object has no attribute 'stan_backend'\n",
      "❌ Error en producto 20778: 'Prophet' object has no attribute 'stan_backend'\n",
      "❌ Error en producto 20780: 'Prophet' object has no attribute 'stan_backend'\n",
      "❌ Error en producto 20781: 'Prophet' object has no attribute 'stan_backend'\n",
      "❌ Error en producto 20782: 'Prophet' object has no attribute 'stan_backend'\n",
      "❌ Error en producto 20783: 'Prophet' object has no attribute 'stan_backend'\n",
      "❌ Error en producto 20784: 'Prophet' object has no attribute 'stan_backend'\n"
     ]
    },
    {
     "name": "stderr",
     "output_type": "stream",
     "text": [
      "Procesando productos:  63%|██████▎   | 780/1233 [00:28<00:15, 29.63it/s]"
     ]
    },
    {
     "name": "stdout",
     "output_type": "stream",
     "text": [
      "❌ Error en producto 20785: 'Prophet' object has no attribute 'stan_backend'\n",
      "❌ Error en producto 20786: 'Prophet' object has no attribute 'stan_backend'\n",
      "❌ Error en producto 20787: 'Prophet' object has no attribute 'stan_backend'\n",
      "❌ Error en producto 20788: 'Prophet' object has no attribute 'stan_backend'\n",
      "❌ Error en producto 20789: 'Prophet' object has no attribute 'stan_backend'\n",
      "❌ Error en producto 20790: 'Prophet' object has no attribute 'stan_backend'\n"
     ]
    },
    {
     "name": "stderr",
     "output_type": "stream",
     "text": [
      "Procesando productos:  64%|██████▎   | 784/1233 [00:28<00:14, 31.36it/s]"
     ]
    },
    {
     "name": "stdout",
     "output_type": "stream",
     "text": [
      "❌ Error en producto 20791: 'Prophet' object has no attribute 'stan_backend'\n",
      "❌ Error en producto 20793: 'Prophet' object has no attribute 'stan_backend'\n",
      "❌ Error en producto 20794: 'Prophet' object has no attribute 'stan_backend'\n",
      "❌ Error en producto 20795: 'Prophet' object has no attribute 'stan_backend'\n",
      "❌ Error en producto 20796: 'Prophet' object has no attribute 'stan_backend'\n",
      "❌ Error en producto 20797: 'Prophet' object has no attribute 'stan_backend'\n"
     ]
    },
    {
     "name": "stderr",
     "output_type": "stream",
     "text": [
      "Procesando productos:  64%|██████▍   | 792/1233 [00:29<00:14, 30.41it/s]"
     ]
    },
    {
     "name": "stdout",
     "output_type": "stream",
     "text": [
      "❌ Error en producto 20798: 'Prophet' object has no attribute 'stan_backend'\n",
      "❌ Error en producto 20800: 'Prophet' object has no attribute 'stan_backend'\n",
      "❌ Error en producto 20801: 'Prophet' object has no attribute 'stan_backend'\n",
      "❌ Error en producto 20802: 'Prophet' object has no attribute 'stan_backend'\n",
      "❌ Error en producto 20803: 'Prophet' object has no attribute 'stan_backend'\n",
      "❌ Error en producto 20804: 'Prophet' object has no attribute 'stan_backend'\n"
     ]
    },
    {
     "name": "stderr",
     "output_type": "stream",
     "text": [
      "Procesando productos:  65%|██████▍   | 800/1233 [00:29<00:14, 28.92it/s]"
     ]
    },
    {
     "name": "stdout",
     "output_type": "stream",
     "text": [
      "❌ Error en producto 20805: 'Prophet' object has no attribute 'stan_backend'\n",
      "❌ Error en producto 20806: 'Prophet' object has no attribute 'stan_backend'\n",
      "❌ Error en producto 20807: 'Prophet' object has no attribute 'stan_backend'\n",
      "❌ Error en producto 20808: 'Prophet' object has no attribute 'stan_backend'\n",
      "❌ Error en producto 20809: 'Prophet' object has no attribute 'stan_backend'\n",
      "❌ Error en producto 20810: 'Prophet' object has no attribute 'stan_backend'\n"
     ]
    },
    {
     "name": "stderr",
     "output_type": "stream",
     "text": [
      "Procesando productos:  65%|██████▌   | 806/1233 [00:29<00:15, 28.23it/s]"
     ]
    },
    {
     "name": "stdout",
     "output_type": "stream",
     "text": [
      "❌ Error en producto 20811: 'Prophet' object has no attribute 'stan_backend'\n",
      "❌ Error en producto 20812: 'Prophet' object has no attribute 'stan_backend'\n",
      "❌ Error en producto 20813: 'Prophet' object has no attribute 'stan_backend'\n",
      "❌ Error en producto 20814: 'Prophet' object has no attribute 'stan_backend'\n",
      "❌ Error en producto 20815: 'Prophet' object has no attribute 'stan_backend'\n",
      "❌ Error en producto 20816: 'Prophet' object has no attribute 'stan_backend'\n"
     ]
    },
    {
     "name": "stderr",
     "output_type": "stream",
     "text": [
      "Procesando productos:  66%|██████▌   | 812/1233 [00:29<00:15, 27.93it/s]"
     ]
    },
    {
     "name": "stdout",
     "output_type": "stream",
     "text": [
      "❌ Error en producto 20817: 'Prophet' object has no attribute 'stan_backend'\n",
      "❌ Error en producto 20818: 'Prophet' object has no attribute 'stan_backend'\n",
      "❌ Error en producto 20819: 'Prophet' object has no attribute 'stan_backend'\n",
      "❌ Error en producto 20820: 'Prophet' object has no attribute 'stan_backend'\n",
      "❌ Error en producto 20821: 'Prophet' object has no attribute 'stan_backend'\n",
      "❌ Error en producto 20822: 'Prophet' object has no attribute 'stan_backend'\n"
     ]
    },
    {
     "name": "stderr",
     "output_type": "stream",
     "text": [
      "Procesando productos:  66%|██████▋   | 818/1233 [00:30<00:14, 27.97it/s]"
     ]
    },
    {
     "name": "stdout",
     "output_type": "stream",
     "text": [
      "❌ Error en producto 20823: 'Prophet' object has no attribute 'stan_backend'\n",
      "❌ Error en producto 20824: 'Prophet' object has no attribute 'stan_backend'\n",
      "❌ Error en producto 20825: 'Prophet' object has no attribute 'stan_backend'\n",
      "❌ Error en producto 20826: 'Prophet' object has no attribute 'stan_backend'\n",
      "❌ Error en producto 20827: 'Prophet' object has no attribute 'stan_backend'\n",
      "❌ Error en producto 20828: 'Prophet' object has no attribute 'stan_backend'\n"
     ]
    },
    {
     "name": "stderr",
     "output_type": "stream",
     "text": [
      "Procesando productos:  67%|██████▋   | 824/1233 [00:30<00:15, 27.05it/s]"
     ]
    },
    {
     "name": "stdout",
     "output_type": "stream",
     "text": [
      "❌ Error en producto 20829: 'Prophet' object has no attribute 'stan_backend'\n",
      "❌ Error en producto 20830: 'Prophet' object has no attribute 'stan_backend'\n",
      "❌ Error en producto 20831: 'Prophet' object has no attribute 'stan_backend'\n",
      "❌ Error en producto 20832: 'Prophet' object has no attribute 'stan_backend'\n",
      "❌ Error en producto 20833: 'Prophet' object has no attribute 'stan_backend'\n",
      "❌ Error en producto 20835: 'Prophet' object has no attribute 'stan_backend'\n"
     ]
    },
    {
     "name": "stderr",
     "output_type": "stream",
     "text": [
      "Procesando productos:  67%|██████▋   | 830/1233 [00:30<00:14, 27.02it/s]"
     ]
    },
    {
     "name": "stdout",
     "output_type": "stream",
     "text": [
      "❌ Error en producto 20836: 'Prophet' object has no attribute 'stan_backend'\n",
      "❌ Error en producto 20837: 'Prophet' object has no attribute 'stan_backend'\n",
      "❌ Error en producto 20838: 'Prophet' object has no attribute 'stan_backend'\n",
      "❌ Error en producto 20839: 'Prophet' object has no attribute 'stan_backend'\n",
      "❌ Error en producto 20840: 'Prophet' object has no attribute 'stan_backend'\n",
      "❌ Error en producto 20841: 'Prophet' object has no attribute 'stan_backend'\n",
      "❌ Error en producto 20843: 'Prophet' object has no attribute 'stan_backend'\n"
     ]
    },
    {
     "name": "stderr",
     "output_type": "stream",
     "text": [
      "Procesando productos:  68%|██████▊   | 839/1233 [00:30<00:14, 27.66it/s]"
     ]
    },
    {
     "name": "stdout",
     "output_type": "stream",
     "text": [
      "❌ Error en producto 20844: 'Prophet' object has no attribute 'stan_backend'\n",
      "❌ Error en producto 20845: 'Prophet' object has no attribute 'stan_backend'\n",
      "❌ Error en producto 20846: 'Prophet' object has no attribute 'stan_backend'\n",
      "❌ Error en producto 20847: 'Prophet' object has no attribute 'stan_backend'\n",
      "❌ Error en producto 20848: 'Prophet' object has no attribute 'stan_backend'\n",
      "❌ Error en producto 20849: 'Prophet' object has no attribute 'stan_backend'\n",
      "❌ Error en producto 20850: 'Prophet' object has no attribute 'stan_backend'\n"
     ]
    },
    {
     "name": "stderr",
     "output_type": "stream",
     "text": [
      "Procesando productos:  68%|██████▊   | 842/1233 [00:31<00:14, 27.40it/s]"
     ]
    },
    {
     "name": "stdout",
     "output_type": "stream",
     "text": [
      "❌ Error en producto 20851: 'Prophet' object has no attribute 'stan_backend'\n",
      "❌ Error en producto 20852: 'Prophet' object has no attribute 'stan_backend'\n",
      "❌ Error en producto 20853: 'Prophet' object has no attribute 'stan_backend'\n",
      "❌ Error en producto 20855: 'Prophet' object has no attribute 'stan_backend'\n",
      "❌ Error en producto 20856: 'Prophet' object has no attribute 'stan_backend'\n",
      "❌ Error en producto 20857: 'Prophet' object has no attribute 'stan_backend'\n"
     ]
    },
    {
     "name": "stderr",
     "output_type": "stream",
     "text": [
      "Procesando productos:  69%|██████▉   | 849/1233 [00:31<00:13, 28.08it/s]"
     ]
    },
    {
     "name": "stdout",
     "output_type": "stream",
     "text": [
      "❌ Error en producto 20858: 'Prophet' object has no attribute 'stan_backend'\n",
      "❌ Error en producto 20859: 'Prophet' object has no attribute 'stan_backend'\n",
      "❌ Error en producto 20860: 'Prophet' object has no attribute 'stan_backend'\n",
      "❌ Error en producto 20861: 'Prophet' object has no attribute 'stan_backend'\n",
      "❌ Error en producto 20862: 'Prophet' object has no attribute 'stan_backend'\n",
      "❌ Error en producto 20863: 'Prophet' object has no attribute 'stan_backend'\n"
     ]
    },
    {
     "name": "stderr",
     "output_type": "stream",
     "text": [
      "Procesando productos:  69%|██████▉   | 855/1233 [00:31<00:13, 27.22it/s]"
     ]
    },
    {
     "name": "stdout",
     "output_type": "stream",
     "text": [
      "❌ Error en producto 20864: 'Prophet' object has no attribute 'stan_backend'\n",
      "❌ Error en producto 20865: 'Prophet' object has no attribute 'stan_backend'\n",
      "❌ Error en producto 20866: 'Prophet' object has no attribute 'stan_backend'\n",
      "❌ Error en producto 20868: 'Prophet' object has no attribute 'stan_backend'\n",
      "❌ Error en producto 20869: 'Prophet' object has no attribute 'stan_backend'\n",
      "❌ Error en producto 20870: 'Prophet' object has no attribute 'stan_backend'\n"
     ]
    },
    {
     "name": "stderr",
     "output_type": "stream",
     "text": [
      "Procesando productos:  70%|███████   | 864/1233 [00:31<00:13, 27.15it/s]"
     ]
    },
    {
     "name": "stdout",
     "output_type": "stream",
     "text": [
      "❌ Error en producto 20872: 'Prophet' object has no attribute 'stan_backend'\n",
      "❌ Error en producto 20873: 'Prophet' object has no attribute 'stan_backend'\n",
      "❌ Error en producto 20874: 'Prophet' object has no attribute 'stan_backend'\n",
      "❌ Error en producto 20876: 'Prophet' object has no attribute 'stan_backend'\n",
      "❌ Error en producto 20877: 'Prophet' object has no attribute 'stan_backend'\n",
      "❌ Error en producto 20878: 'Prophet' object has no attribute 'stan_backend'\n",
      "❌ Error en producto 20879: 'Prophet' object has no attribute 'stan_backend'\n"
     ]
    },
    {
     "name": "stderr",
     "output_type": "stream",
     "text": [
      "Procesando productos:  71%|███████   | 870/1233 [00:32<00:13, 27.34it/s]"
     ]
    },
    {
     "name": "stdout",
     "output_type": "stream",
     "text": [
      "❌ Error en producto 20880: 'Prophet' object has no attribute 'stan_backend'\n",
      "❌ Error en producto 20881: 'Prophet' object has no attribute 'stan_backend'\n",
      "❌ Error en producto 20882: 'Prophet' object has no attribute 'stan_backend'\n",
      "❌ Error en producto 20883: 'Prophet' object has no attribute 'stan_backend'\n",
      "❌ Error en producto 20884: 'Prophet' object has no attribute 'stan_backend'\n",
      "❌ Error en producto 20885: 'Prophet' object has no attribute 'stan_backend'\n",
      "❌ Error en producto 20886: 'Prophet' object has no attribute 'stan_backend'\n"
     ]
    },
    {
     "name": "stderr",
     "output_type": "stream",
     "text": [
      "Procesando productos:  71%|███████   | 877/1233 [00:32<00:11, 30.28it/s]"
     ]
    },
    {
     "name": "stdout",
     "output_type": "stream",
     "text": [
      "❌ Error en producto 20887: 'Prophet' object has no attribute 'stan_backend'\n",
      "❌ Error en producto 20890: 'Prophet' object has no attribute 'stan_backend'\n",
      "❌ Error en producto 20891: 'Prophet' object has no attribute 'stan_backend'\n",
      "❌ Error en producto 20892: 'Prophet' object has no attribute 'stan_backend'\n",
      "❌ Error en producto 20893: 'Prophet' object has no attribute 'stan_backend'\n",
      "❌ Error en producto 20894: 'Prophet' object has no attribute 'stan_backend'\n"
     ]
    },
    {
     "name": "stderr",
     "output_type": "stream",
     "text": [
      "Procesando productos:  72%|███████▏  | 885/1233 [00:32<00:11, 30.57it/s]"
     ]
    },
    {
     "name": "stdout",
     "output_type": "stream",
     "text": [
      "❌ Error en producto 20897: 'Prophet' object has no attribute 'stan_backend'\n",
      "❌ Error en producto 20898: 'Prophet' object has no attribute 'stan_backend'\n",
      "❌ Error en producto 20899: 'Prophet' object has no attribute 'stan_backend'\n",
      "❌ Error en producto 20901: 'Prophet' object has no attribute 'stan_backend'\n",
      "❌ Error en producto 20902: 'Prophet' object has no attribute 'stan_backend'\n",
      "❌ Error en producto 20903: 'Prophet' object has no attribute 'stan_backend'\n",
      "❌ Error en producto 20904: 'Prophet' object has no attribute 'stan_backend'\n"
     ]
    },
    {
     "name": "stderr",
     "output_type": "stream",
     "text": [
      "Procesando productos:  72%|███████▏  | 893/1233 [00:32<00:11, 29.38it/s]"
     ]
    },
    {
     "name": "stdout",
     "output_type": "stream",
     "text": [
      "❌ Error en producto 20905: 'Prophet' object has no attribute 'stan_backend'\n",
      "❌ Error en producto 20906: 'Prophet' object has no attribute 'stan_backend'\n",
      "❌ Error en producto 20907: 'Prophet' object has no attribute 'stan_backend'\n",
      "❌ Error en producto 20908: 'Prophet' object has no attribute 'stan_backend'\n",
      "❌ Error en producto 20909: 'Prophet' object has no attribute 'stan_backend'\n",
      "❌ Error en producto 20910: 'Prophet' object has no attribute 'stan_backend'\n"
     ]
    },
    {
     "name": "stderr",
     "output_type": "stream",
     "text": [
      "Procesando productos:  73%|███████▎  | 896/1233 [00:32<00:12, 27.34it/s]"
     ]
    },
    {
     "name": "stdout",
     "output_type": "stream",
     "text": [
      "❌ Error en producto 20912: 'Prophet' object has no attribute 'stan_backend'\n",
      "❌ Error en producto 20913: 'Prophet' object has no attribute 'stan_backend'\n",
      "❌ Error en producto 20914: 'Prophet' object has no attribute 'stan_backend'\n",
      "❌ Error en producto 20917: 'Prophet' object has no attribute 'stan_backend'\n",
      "❌ Error en producto 20918: 'Prophet' object has no attribute 'stan_backend'\n",
      "❌ Error en producto 20919: 'Prophet' object has no attribute 'stan_backend'\n"
     ]
    },
    {
     "name": "stderr",
     "output_type": "stream",
     "text": [
      "Procesando productos:  74%|███████▎  | 908/1233 [00:33<00:09, 33.13it/s]"
     ]
    },
    {
     "name": "stdout",
     "output_type": "stream",
     "text": [
      "❌ Error en producto 20920: 'Prophet' object has no attribute 'stan_backend'\n",
      "❌ Error en producto 20922: 'Prophet' object has no attribute 'stan_backend'\n",
      "❌ Error en producto 20924: 'Prophet' object has no attribute 'stan_backend'\n",
      "❌ Error en producto 20925: 'Prophet' object has no attribute 'stan_backend'\n",
      "❌ Error en producto 20927: 'Prophet' object has no attribute 'stan_backend'\n",
      "❌ Error en producto 20928: 'Prophet' object has no attribute 'stan_backend'\n"
     ]
    },
    {
     "name": "stderr",
     "output_type": "stream",
     "text": [
      "Procesando productos:  74%|███████▍  | 912/1233 [00:33<00:09, 33.77it/s]"
     ]
    },
    {
     "name": "stdout",
     "output_type": "stream",
     "text": [
      "❌ Error en producto 20930: 'Prophet' object has no attribute 'stan_backend'\n",
      "❌ Error en producto 20931: 'Prophet' object has no attribute 'stan_backend'\n",
      "❌ Error en producto 20932: 'Prophet' object has no attribute 'stan_backend'\n",
      "❌ Error en producto 20933: 'Prophet' object has no attribute 'stan_backend'\n",
      "❌ Error en producto 20935: 'Prophet' object has no attribute 'stan_backend'\n",
      "❌ Error en producto 20936: 'Prophet' object has no attribute 'stan_backend'\n"
     ]
    },
    {
     "name": "stderr",
     "output_type": "stream",
     "text": [
      "Procesando productos:  75%|███████▍  | 920/1233 [00:33<00:09, 32.35it/s]"
     ]
    },
    {
     "name": "stdout",
     "output_type": "stream",
     "text": [
      "❌ Error en producto 20937: 'Prophet' object has no attribute 'stan_backend'\n",
      "❌ Error en producto 20938: 'Prophet' object has no attribute 'stan_backend'\n",
      "❌ Error en producto 20939: 'Prophet' object has no attribute 'stan_backend'\n",
      "❌ Error en producto 20941: 'Prophet' object has no attribute 'stan_backend'\n",
      "❌ Error en producto 20942: 'Prophet' object has no attribute 'stan_backend'\n",
      "❌ Error en producto 20943: 'Prophet' object has no attribute 'stan_backend'\n"
     ]
    },
    {
     "name": "stderr",
     "output_type": "stream",
     "text": [
      "Procesando productos:  75%|███████▌  | 928/1233 [00:33<00:10, 29.81it/s]"
     ]
    },
    {
     "name": "stdout",
     "output_type": "stream",
     "text": [
      "❌ Error en producto 20944: 'Prophet' object has no attribute 'stan_backend'\n",
      "❌ Error en producto 20945: 'Prophet' object has no attribute 'stan_backend'\n",
      "❌ Error en producto 20946: 'Prophet' object has no attribute 'stan_backend'\n",
      "❌ Error en producto 20947: 'Prophet' object has no attribute 'stan_backend'\n",
      "❌ Error en producto 20948: 'Prophet' object has no attribute 'stan_backend'\n",
      "❌ Error en producto 20949: 'Prophet' object has no attribute 'stan_backend'\n"
     ]
    },
    {
     "name": "stderr",
     "output_type": "stream",
     "text": [
      "Procesando productos:  76%|███████▌  | 932/1233 [00:34<00:10, 29.02it/s]"
     ]
    },
    {
     "name": "stdout",
     "output_type": "stream",
     "text": [
      "❌ Error en producto 20951: 'Prophet' object has no attribute 'stan_backend'\n",
      "❌ Error en producto 20952: 'Prophet' object has no attribute 'stan_backend'\n",
      "❌ Error en producto 20953: 'Prophet' object has no attribute 'stan_backend'\n",
      "❌ Error en producto 20954: 'Prophet' object has no attribute 'stan_backend'\n",
      "❌ Error en producto 20955: 'Prophet' object has no attribute 'stan_backend'\n",
      "❌ Error en producto 20956: 'Prophet' object has no attribute 'stan_backend'\n"
     ]
    },
    {
     "name": "stderr",
     "output_type": "stream",
     "text": [
      "Procesando productos:  76%|███████▌  | 939/1233 [00:34<00:10, 28.82it/s]"
     ]
    },
    {
     "name": "stdout",
     "output_type": "stream",
     "text": [
      "❌ Error en producto 20957: 'Prophet' object has no attribute 'stan_backend'\n",
      "❌ Error en producto 20959: 'Prophet' object has no attribute 'stan_backend'\n",
      "❌ Error en producto 20960: 'Prophet' object has no attribute 'stan_backend'\n",
      "❌ Error en producto 20961: 'Prophet' object has no attribute 'stan_backend'\n",
      "❌ Error en producto 20963: 'Prophet' object has no attribute 'stan_backend'\n",
      "❌ Error en producto 20965: 'Prophet' object has no attribute 'stan_backend'\n"
     ]
    },
    {
     "name": "stderr",
     "output_type": "stream",
     "text": [
      "Procesando productos:  77%|███████▋  | 948/1233 [00:34<00:09, 30.92it/s]"
     ]
    },
    {
     "name": "stdout",
     "output_type": "stream",
     "text": [
      "❌ Error en producto 20966: 'Prophet' object has no attribute 'stan_backend'\n",
      "❌ Error en producto 20967: 'Prophet' object has no attribute 'stan_backend'\n",
      "❌ Error en producto 20968: 'Prophet' object has no attribute 'stan_backend'\n",
      "❌ Error en producto 20969: 'Prophet' object has no attribute 'stan_backend'\n",
      "❌ Error en producto 20970: 'Prophet' object has no attribute 'stan_backend'\n",
      "❌ Error en producto 20971: 'Prophet' object has no attribute 'stan_backend'\n"
     ]
    },
    {
     "name": "stderr",
     "output_type": "stream",
     "text": [
      "Procesando productos:  78%|███████▊  | 956/1233 [00:34<00:08, 32.73it/s]"
     ]
    },
    {
     "name": "stdout",
     "output_type": "stream",
     "text": [
      "❌ Error en producto 20973: 'Prophet' object has no attribute 'stan_backend'\n",
      "❌ Error en producto 20974: 'Prophet' object has no attribute 'stan_backend'\n",
      "❌ Error en producto 20976: 'Prophet' object has no attribute 'stan_backend'\n",
      "❌ Error en producto 20977: 'Prophet' object has no attribute 'stan_backend'\n",
      "❌ Error en producto 20978: 'Prophet' object has no attribute 'stan_backend'\n",
      "❌ Error en producto 20979: 'Prophet' object has no attribute 'stan_backend'\n"
     ]
    },
    {
     "name": "stderr",
     "output_type": "stream",
     "text": [
      "Procesando productos:  78%|███████▊  | 964/1233 [00:35<00:08, 31.59it/s]"
     ]
    },
    {
     "name": "stdout",
     "output_type": "stream",
     "text": [
      "❌ Error en producto 20981: 'Prophet' object has no attribute 'stan_backend'\n",
      "❌ Error en producto 20982: 'Prophet' object has no attribute 'stan_backend'\n",
      "❌ Error en producto 20983: 'Prophet' object has no attribute 'stan_backend'\n",
      "❌ Error en producto 20984: 'Prophet' object has no attribute 'stan_backend'\n",
      "❌ Error en producto 20985: 'Prophet' object has no attribute 'stan_backend'\n",
      "❌ Error en producto 20986: 'Prophet' object has no attribute 'stan_backend'\n"
     ]
    },
    {
     "name": "stderr",
     "output_type": "stream",
     "text": [
      "Procesando productos:  79%|███████▊  | 968/1233 [00:35<00:08, 30.14it/s]"
     ]
    },
    {
     "name": "stdout",
     "output_type": "stream",
     "text": [
      "❌ Error en producto 20987: 'Prophet' object has no attribute 'stan_backend'\n",
      "❌ Error en producto 20988: 'Prophet' object has no attribute 'stan_backend'\n",
      "❌ Error en producto 20989: 'Prophet' object has no attribute 'stan_backend'\n",
      "❌ Error en producto 20990: 'Prophet' object has no attribute 'stan_backend'\n",
      "❌ Error en producto 20991: 'Prophet' object has no attribute 'stan_backend'\n",
      "❌ Error en producto 20994: 'Prophet' object has no attribute 'stan_backend'\n"
     ]
    },
    {
     "name": "stderr",
     "output_type": "stream",
     "text": [
      "Procesando productos:  79%|███████▉  | 978/1233 [00:35<00:07, 32.46it/s]"
     ]
    },
    {
     "name": "stdout",
     "output_type": "stream",
     "text": [
      "❌ Error en producto 20996: 'Prophet' object has no attribute 'stan_backend'\n",
      "❌ Error en producto 20997: 'Prophet' object has no attribute 'stan_backend'\n",
      "❌ Error en producto 20998: 'Prophet' object has no attribute 'stan_backend'\n",
      "❌ Error en producto 20999: 'Prophet' object has no attribute 'stan_backend'\n",
      "❌ Error en producto 21001: 'Prophet' object has no attribute 'stan_backend'\n",
      "❌ Error en producto 21002: 'Prophet' object has no attribute 'stan_backend'\n"
     ]
    },
    {
     "name": "stderr",
     "output_type": "stream",
     "text": [
      "Procesando productos:  80%|███████▉  | 982/1233 [00:35<00:08, 30.81it/s]"
     ]
    },
    {
     "name": "stdout",
     "output_type": "stream",
     "text": [
      "❌ Error en producto 21003: 'Prophet' object has no attribute 'stan_backend'\n",
      "❌ Error en producto 21005: 'Prophet' object has no attribute 'stan_backend'\n",
      "❌ Error en producto 21006: 'Prophet' object has no attribute 'stan_backend'\n",
      "❌ Error en producto 21007: 'Prophet' object has no attribute 'stan_backend'\n",
      "❌ Error en producto 21008: 'Prophet' object has no attribute 'stan_backend'\n",
      "❌ Error en producto 21009: 'Prophet' object has no attribute 'stan_backend'\n"
     ]
    },
    {
     "name": "stderr",
     "output_type": "stream",
     "text": [
      "Procesando productos:  80%|████████  | 990/1233 [00:35<00:08, 28.79it/s]"
     ]
    },
    {
     "name": "stdout",
     "output_type": "stream",
     "text": [
      "❌ Error en producto 21010: 'Prophet' object has no attribute 'stan_backend'\n",
      "❌ Error en producto 21011: 'Prophet' object has no attribute 'stan_backend'\n",
      "❌ Error en producto 21013: 'Prophet' object has no attribute 'stan_backend'\n",
      "❌ Error en producto 21014: 'Prophet' object has no attribute 'stan_backend'\n",
      "❌ Error en producto 21015: 'Prophet' object has no attribute 'stan_backend'\n",
      "❌ Error en producto 21016: 'Prophet' object has no attribute 'stan_backend'\n"
     ]
    },
    {
     "name": "stderr",
     "output_type": "stream",
     "text": [
      "Procesando productos:  81%|████████  | 994/1233 [00:36<00:07, 30.79it/s]"
     ]
    },
    {
     "name": "stdout",
     "output_type": "stream",
     "text": [
      "❌ Error en producto 21019: 'Prophet' object has no attribute 'stan_backend'\n",
      "❌ Error en producto 21020: 'Prophet' object has no attribute 'stan_backend'\n",
      "❌ Error en producto 21021: 'Prophet' object has no attribute 'stan_backend'\n",
      "❌ Error en producto 21022: 'Prophet' object has no attribute 'stan_backend'\n",
      "❌ Error en producto 21023: 'Prophet' object has no attribute 'stan_backend'\n",
      "❌ Error en producto 21024: 'Prophet' object has no attribute 'stan_backend'\n"
     ]
    },
    {
     "name": "stderr",
     "output_type": "stream",
     "text": [
      "Procesando productos:  81%|████████▏ | 1002/1233 [00:36<00:07, 31.15it/s]"
     ]
    },
    {
     "name": "stdout",
     "output_type": "stream",
     "text": [
      "❌ Error en producto 21027: 'Prophet' object has no attribute 'stan_backend'\n",
      "❌ Error en producto 21028: 'Prophet' object has no attribute 'stan_backend'\n",
      "❌ Error en producto 21029: 'Prophet' object has no attribute 'stan_backend'\n",
      "❌ Error en producto 21030: 'Prophet' object has no attribute 'stan_backend'\n",
      "❌ Error en producto 21031: 'Prophet' object has no attribute 'stan_backend'\n",
      "❌ Error en producto 21032: 'Prophet' object has no attribute 'stan_backend'\n"
     ]
    },
    {
     "name": "stderr",
     "output_type": "stream",
     "text": [
      "Procesando productos:  82%|████████▏ | 1010/1233 [00:36<00:07, 27.90it/s]"
     ]
    },
    {
     "name": "stdout",
     "output_type": "stream",
     "text": [
      "❌ Error en producto 21033: 'Prophet' object has no attribute 'stan_backend'\n",
      "❌ Error en producto 21034: 'Prophet' object has no attribute 'stan_backend'\n",
      "❌ Error en producto 21035: 'Prophet' object has no attribute 'stan_backend'\n",
      "❌ Error en producto 21036: 'Prophet' object has no attribute 'stan_backend'\n",
      "❌ Error en producto 21037: 'Prophet' object has no attribute 'stan_backend'\n",
      "❌ Error en producto 21038: 'Prophet' object has no attribute 'stan_backend'\n"
     ]
    },
    {
     "name": "stderr",
     "output_type": "stream",
     "text": [
      "Procesando productos:  82%|████████▏ | 1016/1233 [00:36<00:07, 27.57it/s]"
     ]
    },
    {
     "name": "stdout",
     "output_type": "stream",
     "text": [
      "❌ Error en producto 21039: 'Prophet' object has no attribute 'stan_backend'\n",
      "❌ Error en producto 21040: 'Prophet' object has no attribute 'stan_backend'\n",
      "❌ Error en producto 21041: 'Prophet' object has no attribute 'stan_backend'\n",
      "❌ Error en producto 21042: 'Prophet' object has no attribute 'stan_backend'\n",
      "❌ Error en producto 21043: 'Prophet' object has no attribute 'stan_backend'\n",
      "❌ Error en producto 21044: 'Prophet' object has no attribute 'stan_backend'\n"
     ]
    },
    {
     "name": "stderr",
     "output_type": "stream",
     "text": [
      "Procesando productos:  83%|████████▎ | 1022/1233 [00:37<00:07, 27.58it/s]"
     ]
    },
    {
     "name": "stdout",
     "output_type": "stream",
     "text": [
      "❌ Error en producto 21045: 'Prophet' object has no attribute 'stan_backend'\n",
      "❌ Error en producto 21046: 'Prophet' object has no attribute 'stan_backend'\n",
      "❌ Error en producto 21047: 'Prophet' object has no attribute 'stan_backend'\n",
      "❌ Error en producto 21048: 'Prophet' object has no attribute 'stan_backend'\n",
      "❌ Error en producto 21049: 'Prophet' object has no attribute 'stan_backend'\n",
      "❌ Error en producto 21050: 'Prophet' object has no attribute 'stan_backend'\n"
     ]
    },
    {
     "name": "stderr",
     "output_type": "stream",
     "text": [
      "Procesando productos:  83%|████████▎ | 1029/1233 [00:37<00:07, 28.63it/s]"
     ]
    },
    {
     "name": "stdout",
     "output_type": "stream",
     "text": [
      "❌ Error en producto 21051: 'Prophet' object has no attribute 'stan_backend'\n",
      "❌ Error en producto 21055: 'Prophet' object has no attribute 'stan_backend'\n",
      "❌ Error en producto 21056: 'Prophet' object has no attribute 'stan_backend'\n",
      "❌ Error en producto 21057: 'Prophet' object has no attribute 'stan_backend'\n",
      "❌ Error en producto 21058: 'Prophet' object has no attribute 'stan_backend'\n",
      "❌ Error en producto 21059: 'Prophet' object has no attribute 'stan_backend'\n"
     ]
    },
    {
     "name": "stderr",
     "output_type": "stream",
     "text": [
      "Procesando productos:  84%|████████▍ | 1035/1233 [00:37<00:07, 27.67it/s]"
     ]
    },
    {
     "name": "stdout",
     "output_type": "stream",
     "text": [
      "❌ Error en producto 21061: 'Prophet' object has no attribute 'stan_backend'\n",
      "❌ Error en producto 21062: 'Prophet' object has no attribute 'stan_backend'\n",
      "❌ Error en producto 21063: 'Prophet' object has no attribute 'stan_backend'\n",
      "❌ Error en producto 21064: 'Prophet' object has no attribute 'stan_backend'\n",
      "❌ Error en producto 21065: 'Prophet' object has no attribute 'stan_backend'\n",
      "❌ Error en producto 21066: 'Prophet' object has no attribute 'stan_backend'\n"
     ]
    },
    {
     "name": "stderr",
     "output_type": "stream",
     "text": [
      "Procesando productos:  84%|████████▍ | 1041/1233 [00:37<00:07, 26.27it/s]"
     ]
    },
    {
     "name": "stdout",
     "output_type": "stream",
     "text": [
      "❌ Error en producto 21067: 'Prophet' object has no attribute 'stan_backend'\n",
      "❌ Error en producto 21068: 'Prophet' object has no attribute 'stan_backend'\n",
      "❌ Error en producto 21069: 'Prophet' object has no attribute 'stan_backend'\n",
      "❌ Error en producto 21070: 'Prophet' object has no attribute 'stan_backend'\n",
      "❌ Error en producto 21071: 'Prophet' object has no attribute 'stan_backend'\n",
      "❌ Error en producto 21073: 'Prophet' object has no attribute 'stan_backend'\n"
     ]
    },
    {
     "name": "stderr",
     "output_type": "stream",
     "text": [
      "Procesando productos:  85%|████████▍ | 1047/1233 [00:38<00:06, 26.64it/s]"
     ]
    },
    {
     "name": "stdout",
     "output_type": "stream",
     "text": [
      "❌ Error en producto 21074: 'Prophet' object has no attribute 'stan_backend'\n",
      "❌ Error en producto 21075: 'Prophet' object has no attribute 'stan_backend'\n",
      "❌ Error en producto 21076: 'Prophet' object has no attribute 'stan_backend'\n",
      "❌ Error en producto 21077: 'Prophet' object has no attribute 'stan_backend'\n",
      "❌ Error en producto 21078: 'Prophet' object has no attribute 'stan_backend'\n",
      "❌ Error en producto 21079: 'Prophet' object has no attribute 'stan_backend'\n",
      "❌ Error en producto 21080: 'Prophet' object has no attribute 'stan_backend'\n"
     ]
    },
    {
     "name": "stderr",
     "output_type": "stream",
     "text": [
      "Procesando productos:  85%|████████▌ | 1053/1233 [00:38<00:06, 26.97it/s]"
     ]
    },
    {
     "name": "stdout",
     "output_type": "stream",
     "text": [
      "❌ Error en producto 21081: 'Prophet' object has no attribute 'stan_backend'\n",
      "❌ Error en producto 21082: 'Prophet' object has no attribute 'stan_backend'\n",
      "❌ Error en producto 21083: 'Prophet' object has no attribute 'stan_backend'\n",
      "❌ Error en producto 21084: 'Prophet' object has no attribute 'stan_backend'\n",
      "❌ Error en producto 21085: 'Prophet' object has no attribute 'stan_backend'\n",
      "❌ Error en producto 21086: 'Prophet' object has no attribute 'stan_backend'\n"
     ]
    },
    {
     "name": "stderr",
     "output_type": "stream",
     "text": [
      "Procesando productos:  86%|████████▌ | 1060/1233 [00:38<00:06, 27.96it/s]"
     ]
    },
    {
     "name": "stdout",
     "output_type": "stream",
     "text": [
      "❌ Error en producto 21088: 'Prophet' object has no attribute 'stan_backend'\n",
      "❌ Error en producto 21090: 'Prophet' object has no attribute 'stan_backend'\n",
      "❌ Error en producto 21091: 'Prophet' object has no attribute 'stan_backend'\n",
      "❌ Error en producto 21092: 'Prophet' object has no attribute 'stan_backend'\n",
      "❌ Error en producto 21093: 'Prophet' object has no attribute 'stan_backend'\n",
      "❌ Error en producto 21094: 'Prophet' object has no attribute 'stan_backend'\n"
     ]
    },
    {
     "name": "stderr",
     "output_type": "stream",
     "text": [
      "Procesando productos:  86%|████████▋ | 1066/1233 [00:38<00:06, 27.16it/s]"
     ]
    },
    {
     "name": "stdout",
     "output_type": "stream",
     "text": [
      "❌ Error en producto 21095: 'Prophet' object has no attribute 'stan_backend'\n",
      "❌ Error en producto 21096: 'Prophet' object has no attribute 'stan_backend'\n",
      "❌ Error en producto 21097: 'Prophet' object has no attribute 'stan_backend'\n",
      "❌ Error en producto 21098: 'Prophet' object has no attribute 'stan_backend'\n",
      "❌ Error en producto 21099: 'Prophet' object has no attribute 'stan_backend'\n",
      "❌ Error en producto 21100: 'Prophet' object has no attribute 'stan_backend'\n"
     ]
    },
    {
     "name": "stderr",
     "output_type": "stream",
     "text": [
      "Procesando productos:  87%|████████▋ | 1073/1233 [00:38<00:05, 30.10it/s]"
     ]
    },
    {
     "name": "stdout",
     "output_type": "stream",
     "text": [
      "❌ Error en producto 21102: 'Prophet' object has no attribute 'stan_backend'\n",
      "❌ Error en producto 21105: 'Prophet' object has no attribute 'stan_backend'\n",
      "❌ Error en producto 21106: 'Prophet' object has no attribute 'stan_backend'\n",
      "❌ Error en producto 21109: 'Prophet' object has no attribute 'stan_backend'\n",
      "❌ Error en producto 21110: 'Prophet' object has no attribute 'stan_backend'\n",
      "❌ Error en producto 21111: 'Prophet' object has no attribute 'stan_backend'\n"
     ]
    },
    {
     "name": "stderr",
     "output_type": "stream",
     "text": [
      "Procesando productos:  88%|████████▊ | 1080/1233 [00:39<00:05, 28.08it/s]"
     ]
    },
    {
     "name": "stdout",
     "output_type": "stream",
     "text": [
      "❌ Error en producto 21112: 'Prophet' object has no attribute 'stan_backend'\n",
      "❌ Error en producto 21113: 'Prophet' object has no attribute 'stan_backend'\n",
      "❌ Error en producto 21114: 'Prophet' object has no attribute 'stan_backend'\n",
      "❌ Error en producto 21116: 'Prophet' object has no attribute 'stan_backend'\n",
      "❌ Error en producto 21117: 'Prophet' object has no attribute 'stan_backend'\n"
     ]
    },
    {
     "name": "stderr",
     "output_type": "stream",
     "text": [
      "Procesando productos:  88%|████████▊ | 1086/1233 [00:39<00:05, 27.59it/s]"
     ]
    },
    {
     "name": "stdout",
     "output_type": "stream",
     "text": [
      "❌ Error en producto 21118: 'Prophet' object has no attribute 'stan_backend'\n",
      "❌ Error en producto 21119: 'Prophet' object has no attribute 'stan_backend'\n",
      "❌ Error en producto 21120: 'Prophet' object has no attribute 'stan_backend'\n",
      "❌ Error en producto 21122: 'Prophet' object has no attribute 'stan_backend'\n",
      "❌ Error en producto 21124: 'Prophet' object has no attribute 'stan_backend'\n",
      "❌ Error en producto 21125: 'Prophet' object has no attribute 'stan_backend'\n"
     ]
    },
    {
     "name": "stderr",
     "output_type": "stream",
     "text": [
      "Procesando productos:  89%|████████▊ | 1092/1233 [00:39<00:05, 27.55it/s]"
     ]
    },
    {
     "name": "stdout",
     "output_type": "stream",
     "text": [
      "❌ Error en producto 21126: 'Prophet' object has no attribute 'stan_backend'\n",
      "❌ Error en producto 21128: 'Prophet' object has no attribute 'stan_backend'\n",
      "❌ Error en producto 21129: 'Prophet' object has no attribute 'stan_backend'\n",
      "❌ Error en producto 21130: 'Prophet' object has no attribute 'stan_backend'\n",
      "❌ Error en producto 21131: 'Prophet' object has no attribute 'stan_backend'\n",
      "❌ Error en producto 21133: 'Prophet' object has no attribute 'stan_backend'\n"
     ]
    },
    {
     "name": "stderr",
     "output_type": "stream",
     "text": [
      "Procesando productos:  89%|████████▉ | 1099/1233 [00:39<00:04, 29.03it/s]"
     ]
    },
    {
     "name": "stdout",
     "output_type": "stream",
     "text": [
      "❌ Error en producto 21135: 'Prophet' object has no attribute 'stan_backend'\n",
      "❌ Error en producto 21140: 'Prophet' object has no attribute 'stan_backend'\n",
      "❌ Error en producto 21142: 'Prophet' object has no attribute 'stan_backend'\n",
      "❌ Error en producto 21143: 'Prophet' object has no attribute 'stan_backend'\n",
      "❌ Error en producto 21144: 'Prophet' object has no attribute 'stan_backend'\n",
      "❌ Error en producto 21146: 'Prophet' object has no attribute 'stan_backend'\n"
     ]
    },
    {
     "name": "stderr",
     "output_type": "stream",
     "text": [
      "Procesando productos:  90%|████████▉ | 1106/1233 [00:40<00:04, 30.69it/s]"
     ]
    },
    {
     "name": "stdout",
     "output_type": "stream",
     "text": [
      "❌ Error en producto 21147: 'Prophet' object has no attribute 'stan_backend'\n",
      "❌ Error en producto 21148: 'Prophet' object has no attribute 'stan_backend'\n",
      "❌ Error en producto 21149: 'Prophet' object has no attribute 'stan_backend'\n",
      "❌ Error en producto 21151: 'Prophet' object has no attribute 'stan_backend'\n",
      "❌ Error en producto 21152: 'Prophet' object has no attribute 'stan_backend'\n",
      "❌ Error en producto 21153: 'Prophet' object has no attribute 'stan_backend'\n"
     ]
    },
    {
     "name": "stderr",
     "output_type": "stream",
     "text": [
      "Procesando productos:  90%|█████████ | 1110/1233 [00:40<00:04, 28.70it/s]"
     ]
    },
    {
     "name": "stdout",
     "output_type": "stream",
     "text": [
      "❌ Error en producto 21154: 'Prophet' object has no attribute 'stan_backend'\n",
      "❌ Error en producto 21155: 'Prophet' object has no attribute 'stan_backend'\n",
      "❌ Error en producto 21156: 'Prophet' object has no attribute 'stan_backend'\n",
      "❌ Error en producto 21157: 'Prophet' object has no attribute 'stan_backend'\n",
      "❌ Error en producto 21158: 'Prophet' object has no attribute 'stan_backend'\n",
      "❌ Error en producto 21159: 'Prophet' object has no attribute 'stan_backend'\n"
     ]
    },
    {
     "name": "stderr",
     "output_type": "stream",
     "text": [
      "Procesando productos:  91%|█████████ | 1116/1233 [00:40<00:04, 27.36it/s]"
     ]
    },
    {
     "name": "stdout",
     "output_type": "stream",
     "text": [
      "❌ Error en producto 21160: 'Prophet' object has no attribute 'stan_backend'\n",
      "❌ Error en producto 21161: 'Prophet' object has no attribute 'stan_backend'\n",
      "❌ Error en producto 21162: 'Prophet' object has no attribute 'stan_backend'\n",
      "❌ Error en producto 21163: 'Prophet' object has no attribute 'stan_backend'\n",
      "❌ Error en producto 21164: 'Prophet' object has no attribute 'stan_backend'\n",
      "❌ Error en producto 21165: 'Prophet' object has no attribute 'stan_backend'\n"
     ]
    },
    {
     "name": "stderr",
     "output_type": "stream",
     "text": [
      "Procesando productos:  91%|█████████ | 1123/1233 [00:40<00:03, 29.90it/s]"
     ]
    },
    {
     "name": "stdout",
     "output_type": "stream",
     "text": [
      "❌ Error en producto 21167: 'Prophet' object has no attribute 'stan_backend'\n",
      "❌ Error en producto 21168: 'Prophet' object has no attribute 'stan_backend'\n",
      "❌ Error en producto 21170: 'Prophet' object has no attribute 'stan_backend'\n",
      "❌ Error en producto 21171: 'Prophet' object has no attribute 'stan_backend'\n",
      "❌ Error en producto 21172: 'Prophet' object has no attribute 'stan_backend'\n",
      "❌ Error en producto 21173: 'Prophet' object has no attribute 'stan_backend'\n"
     ]
    },
    {
     "name": "stderr",
     "output_type": "stream",
     "text": [
      "Procesando productos:  92%|█████████▏| 1131/1233 [00:40<00:03, 30.22it/s]"
     ]
    },
    {
     "name": "stdout",
     "output_type": "stream",
     "text": [
      "❌ Error en producto 21176: 'Prophet' object has no attribute 'stan_backend'\n",
      "❌ Error en producto 21178: 'Prophet' object has no attribute 'stan_backend'\n",
      "❌ Error en producto 21179: 'Prophet' object has no attribute 'stan_backend'\n",
      "❌ Error en producto 21180: 'Prophet' object has no attribute 'stan_backend'\n",
      "❌ Error en producto 21181: 'Prophet' object has no attribute 'stan_backend'\n",
      "❌ Error en producto 21182: 'Prophet' object has no attribute 'stan_backend'\n"
     ]
    },
    {
     "name": "stderr",
     "output_type": "stream",
     "text": [
      "Procesando productos:  92%|█████████▏| 1138/1233 [00:41<00:03, 29.08it/s]"
     ]
    },
    {
     "name": "stdout",
     "output_type": "stream",
     "text": [
      "❌ Error en producto 21184: 'Prophet' object has no attribute 'stan_backend'\n",
      "❌ Error en producto 21185: 'Prophet' object has no attribute 'stan_backend'\n",
      "❌ Error en producto 21188: 'Prophet' object has no attribute 'stan_backend'\n",
      "❌ Error en producto 21189: 'Prophet' object has no attribute 'stan_backend'\n",
      "❌ Error en producto 21190: 'Prophet' object has no attribute 'stan_backend'\n",
      "❌ Error en producto 21191: 'Prophet' object has no attribute 'stan_backend'\n"
     ]
    },
    {
     "name": "stderr",
     "output_type": "stream",
     "text": [
      "Procesando productos:  93%|█████████▎| 1141/1233 [00:41<00:03, 27.34it/s]"
     ]
    },
    {
     "name": "stdout",
     "output_type": "stream",
     "text": [
      "❌ Error en producto 21192: 'Prophet' object has no attribute 'stan_backend'\n",
      "❌ Error en producto 21193: 'Prophet' object has no attribute 'stan_backend'\n",
      "❌ Error en producto 21194: 'Prophet' object has no attribute 'stan_backend'\n",
      "❌ Error en producto 21195: 'Prophet' object has no attribute 'stan_backend'\n",
      "❌ Error en producto 21196: 'Prophet' object has no attribute 'stan_backend'\n",
      "❌ Error en producto 21198: 'Prophet' object has no attribute 'stan_backend'\n"
     ]
    },
    {
     "name": "stderr",
     "output_type": "stream",
     "text": [
      "Procesando productos:  93%|█████████▎| 1148/1233 [00:41<00:02, 29.82it/s]"
     ]
    },
    {
     "name": "stdout",
     "output_type": "stream",
     "text": [
      "❌ Error en producto 21200: 'Prophet' object has no attribute 'stan_backend'\n",
      "❌ Error en producto 21201: 'Prophet' object has no attribute 'stan_backend'\n",
      "❌ Error en producto 21202: 'Prophet' object has no attribute 'stan_backend'\n",
      "❌ Error en producto 21203: 'Prophet' object has no attribute 'stan_backend'\n",
      "❌ Error en producto 21206: 'Prophet' object has no attribute 'stan_backend'\n",
      "❌ Error en producto 21207: 'Prophet' object has no attribute 'stan_backend'\n"
     ]
    },
    {
     "name": "stderr",
     "output_type": "stream",
     "text": [
      "Procesando productos:  94%|█████████▍| 1156/1233 [00:41<00:02, 29.81it/s]"
     ]
    },
    {
     "name": "stdout",
     "output_type": "stream",
     "text": [
      "❌ Error en producto 21208: 'Prophet' object has no attribute 'stan_backend'\n",
      "❌ Error en producto 21209: 'Prophet' object has no attribute 'stan_backend'\n",
      "❌ Error en producto 21210: 'Prophet' object has no attribute 'stan_backend'\n",
      "❌ Error en producto 21212: 'Prophet' object has no attribute 'stan_backend'\n",
      "❌ Error en producto 21213: 'Prophet' object has no attribute 'stan_backend'\n",
      "❌ Error en producto 21215: 'Prophet' object has no attribute 'stan_backend'\n"
     ]
    },
    {
     "name": "stderr",
     "output_type": "stream",
     "text": [
      "Procesando productos:  95%|█████████▍| 1166/1233 [00:42<00:01, 37.07it/s]"
     ]
    },
    {
     "name": "stdout",
     "output_type": "stream",
     "text": [
      "❌ Error en producto 21217: 'Prophet' object has no attribute 'stan_backend'\n",
      "❌ Error en producto 21218: 'Prophet' object has no attribute 'stan_backend'\n",
      "❌ Error en producto 21222: 'Prophet' object has no attribute 'stan_backend'\n",
      "❌ Error en producto 21223: 'Prophet' object has no attribute 'stan_backend'\n",
      "❌ Error en producto 21224: 'Prophet' object has no attribute 'stan_backend'\n",
      "❌ Error en producto 21225: 'Prophet' object has no attribute 'stan_backend'\n"
     ]
    },
    {
     "name": "stderr",
     "output_type": "stream",
     "text": [
      "Procesando productos:  95%|█████████▌| 1174/1233 [00:42<00:01, 34.29it/s]"
     ]
    },
    {
     "name": "stdout",
     "output_type": "stream",
     "text": [
      "❌ Error en producto 21226: 'Prophet' object has no attribute 'stan_backend'\n",
      "❌ Error en producto 21227: 'Prophet' object has no attribute 'stan_backend'\n",
      "❌ Error en producto 21228: 'Prophet' object has no attribute 'stan_backend'\n",
      "❌ Error en producto 21229: 'Prophet' object has no attribute 'stan_backend'\n",
      "❌ Error en producto 21232: 'Prophet' object has no attribute 'stan_backend'\n",
      "❌ Error en producto 21233: 'Prophet' object has no attribute 'stan_backend'\n"
     ]
    },
    {
     "name": "stderr",
     "output_type": "stream",
     "text": [
      "Procesando productos:  96%|█████████▌| 1184/1233 [00:42<00:01, 37.26it/s]"
     ]
    },
    {
     "name": "stdout",
     "output_type": "stream",
     "text": [
      "❌ Error en producto 21238: 'Prophet' object has no attribute 'stan_backend'\n",
      "❌ Error en producto 21240: 'Prophet' object has no attribute 'stan_backend'\n",
      "❌ Error en producto 21241: 'Prophet' object has no attribute 'stan_backend'\n",
      "❌ Error en producto 21244: 'Prophet' object has no attribute 'stan_backend'\n",
      "❌ Error en producto 21245: 'Prophet' object has no attribute 'stan_backend'\n"
     ]
    },
    {
     "name": "stderr",
     "output_type": "stream",
     "text": [
      "Procesando productos:  96%|█████████▋| 1188/1233 [00:42<00:01, 36.68it/s]"
     ]
    },
    {
     "name": "stdout",
     "output_type": "stream",
     "text": [
      "❌ Error en producto 21246: 'Prophet' object has no attribute 'stan_backend'\n",
      "❌ Error en producto 21248: 'Prophet' object has no attribute 'stan_backend'\n",
      "❌ Error en producto 21249: 'Prophet' object has no attribute 'stan_backend'\n",
      "❌ Error en producto 21252: 'Prophet' object has no attribute 'stan_backend'\n",
      "❌ Error en producto 21253: 'Prophet' object has no attribute 'stan_backend'\n",
      "❌ Error en producto 21255: 'Prophet' object has no attribute 'stan_backend'\n"
     ]
    },
    {
     "name": "stderr",
     "output_type": "stream",
     "text": [
      "Procesando productos:  97%|█████████▋| 1196/1233 [00:42<00:01, 31.08it/s]"
     ]
    },
    {
     "name": "stdout",
     "output_type": "stream",
     "text": [
      "❌ Error en producto 21256: 'Prophet' object has no attribute 'stan_backend'\n",
      "❌ Error en producto 21257: 'Prophet' object has no attribute 'stan_backend'\n",
      "❌ Error en producto 21259: 'Prophet' object has no attribute 'stan_backend'\n",
      "❌ Error en producto 21260: 'Prophet' object has no attribute 'stan_backend'\n",
      "❌ Error en producto 21261: 'Prophet' object has no attribute 'stan_backend'\n",
      "❌ Error en producto 21262: 'Prophet' object has no attribute 'stan_backend'\n"
     ]
    },
    {
     "name": "stderr",
     "output_type": "stream",
     "text": [
      "Procesando productos:  97%|█████████▋| 1200/1233 [00:43<00:01, 29.84it/s]"
     ]
    },
    {
     "name": "stdout",
     "output_type": "stream",
     "text": [
      "❌ Error en producto 21263: 'Prophet' object has no attribute 'stan_backend'\n",
      "❌ Error en producto 21264: 'Prophet' object has no attribute 'stan_backend'\n",
      "❌ Error en producto 21265: 'Prophet' object has no attribute 'stan_backend'\n",
      "❌ Error en producto 21266: 'Prophet' object has no attribute 'stan_backend'\n",
      "❌ Error en producto 21267: 'Prophet' object has no attribute 'stan_backend'\n",
      "❌ Error en producto 21268: 'Prophet' object has no attribute 'stan_backend'\n"
     ]
    },
    {
     "name": "stderr",
     "output_type": "stream",
     "text": [
      "Procesando productos: 100%|██████████| 1233/1233 [00:43<00:00, 28.39it/s]"
     ]
    },
    {
     "name": "stdout",
     "output_type": "stream",
     "text": [
      "❌ Error en producto 21269: 'Prophet' object has no attribute 'stan_backend'\n",
      "❌ Error en producto 21271: 'Prophet' object has no attribute 'stan_backend'\n",
      "❌ Error en producto 21273: 'Prophet' object has no attribute 'stan_backend'\n",
      "❌ Error en producto 21274: 'Prophet' object has no attribute 'stan_backend'\n",
      "❌ Error en producto 21276: 'Prophet' object has no attribute 'stan_backend'\n",
      "❌ Error en producto 21281: 'Prophet' object has no attribute 'stan_backend'\n"
     ]
    },
    {
     "name": "stderr",
     "output_type": "stream",
     "text": [
      "\n"
     ]
    }
   ],
   "source": [
    "# --------------------------------------------\n",
    "# 5️⃣ Loop por producto: Prophet + extraer componentes\n",
    "# --------------------------------------------\n",
    "\n",
    "# Nos aseguramos que 'fecha' sea datetime\n",
    "df['fecha'] = pd.to_datetime(df['fecha'])\n",
    "\n",
    "# Iterar por product_id con barra de progreso\n",
    "for pid, group in tqdm(df.groupby('product_id'), desc=\"Procesando productos\"):\n",
    "    try:\n",
    "        # Ordenar por fecha\n",
    "        group = group.sort_values('fecha')\n",
    "        \n",
    "        # Verificar datos suficientes\n",
    "        if len(group) < 5:\n",
    "            continue\n",
    "            \n",
    "        # Estructura para Prophet: ds, y\n",
    "        df_prophet = pd.DataFrame({\n",
    "            'ds': group['fecha'],\n",
    "            'y': group['tn_total']\n",
    "        })\n",
    "\n",
    "        # Filtrar grupos problemáticos\n",
    "        if df_prophet['y'].isnull().any() or df_prophet['y'].nunique() < 2:\n",
    "            continue\n",
    "\n",
    "        # Inicializar y entrenar Prophet (sin especificar backend)\n",
    "        m = Prophet(\n",
    "            yearly_seasonality=True,\n",
    "            weekly_seasonality=False,\n",
    "            daily_seasonality=False\n",
    "        )\n",
    "        \n",
    "        # Ajustar modelo\n",
    "        m.fit(df_prophet)\n",
    "        \n",
    "        # Predicciones\n",
    "        forecast = m.predict(df_prophet[['ds']])\n",
    "        \n",
    "        # Crear dataframe de componentes\n",
    "        comp = pd.DataFrame({\n",
    "            'product_id': pid,\n",
    "            'fecha': forecast['ds'],\n",
    "            'trend': forecast['trend'],\n",
    "            'seasonal': forecast['seasonal'],\n",
    "            'additive_terms': forecast['additive_terms'],\n",
    "            'multiplicative_terms': forecast['multiplicative_terms']\n",
    "        })\n",
    "        \n",
    "        # Agregar rangos\n",
    "        comp['trend_max'] = forecast['trend'].max()\n",
    "        comp['trend_min'] = forecast['trend'].min()\n",
    "        comp['trend_range'] = comp['trend_max'] - comp['trend_min']\n",
    "        comp['seasonal_max'] = forecast['seasonal'].max()\n",
    "        comp['seasonal_min'] = forecast['seasonal'].min()\n",
    "        comp['seasonal_range'] = comp['seasonal_max'] - comp['seasonal_min']\n",
    "        \n",
    "        results.append(comp)\n",
    "        \n",
    "    except Exception as e:\n",
    "        print(f\"❌ Error en producto {pid}: {str(e)}\")\n",
    "        continue"
   ]
  },
  {
   "cell_type": "code",
   "execution_count": 10,
   "id": "b3e4669f",
   "metadata": {},
   "outputs": [
    {
     "ename": "ValueError",
     "evalue": "No objects to concatenate",
     "output_type": "error",
     "traceback": [
      "\u001b[1;31m---------------------------------------------------------------------------\u001b[0m",
      "\u001b[1;31mValueError\u001b[0m                                Traceback (most recent call last)",
      "Cell \u001b[1;32mIn[10], line 4\u001b[0m\n\u001b[0;32m      1\u001b[0m \u001b[38;5;66;03m# --------------------------------------------\u001b[39;00m\n\u001b[0;32m      2\u001b[0m \u001b[38;5;66;03m# 6️⃣ Unir todos los productos en un solo DataFrame\u001b[39;00m\n\u001b[0;32m      3\u001b[0m \u001b[38;5;66;03m# --------------------------------------------\u001b[39;00m\n\u001b[1;32m----> 4\u001b[0m df_prophet_features \u001b[38;5;241m=\u001b[39m pd\u001b[38;5;241m.\u001b[39mconcat(results, ignore_index\u001b[38;5;241m=\u001b[39m\u001b[38;5;28;01mTrue\u001b[39;00m)\n\u001b[0;32m      6\u001b[0m \u001b[38;5;28mprint\u001b[39m(\u001b[38;5;124mf\u001b[39m\u001b[38;5;124m\"\u001b[39m\u001b[38;5;124m✅ Dimensión final de variables Prophet: \u001b[39m\u001b[38;5;132;01m{\u001b[39;00mdf_prophet_features\u001b[38;5;241m.\u001b[39mshape\u001b[38;5;132;01m}\u001b[39;00m\u001b[38;5;124m\"\u001b[39m)\n\u001b[0;32m      7\u001b[0m df_prophet_features\u001b[38;5;241m.\u001b[39mhead()\n",
      "File \u001b[1;32mc:\\Users\\FSONZOGNI\\AppData\\Local\\anaconda3\\Lib\\site-packages\\pandas\\core\\reshape\\concat.py:380\u001b[0m, in \u001b[0;36mconcat\u001b[1;34m(objs, axis, join, ignore_index, keys, levels, names, verify_integrity, sort, copy)\u001b[0m\n\u001b[0;32m    377\u001b[0m \u001b[38;5;28;01melif\u001b[39;00m copy \u001b[38;5;129;01mand\u001b[39;00m using_copy_on_write():\n\u001b[0;32m    378\u001b[0m     copy \u001b[38;5;241m=\u001b[39m \u001b[38;5;28;01mFalse\u001b[39;00m\n\u001b[1;32m--> 380\u001b[0m op \u001b[38;5;241m=\u001b[39m _Concatenator(\n\u001b[0;32m    381\u001b[0m     objs,\n\u001b[0;32m    382\u001b[0m     axis\u001b[38;5;241m=\u001b[39maxis,\n\u001b[0;32m    383\u001b[0m     ignore_index\u001b[38;5;241m=\u001b[39mignore_index,\n\u001b[0;32m    384\u001b[0m     join\u001b[38;5;241m=\u001b[39mjoin,\n\u001b[0;32m    385\u001b[0m     keys\u001b[38;5;241m=\u001b[39mkeys,\n\u001b[0;32m    386\u001b[0m     levels\u001b[38;5;241m=\u001b[39mlevels,\n\u001b[0;32m    387\u001b[0m     names\u001b[38;5;241m=\u001b[39mnames,\n\u001b[0;32m    388\u001b[0m     verify_integrity\u001b[38;5;241m=\u001b[39mverify_integrity,\n\u001b[0;32m    389\u001b[0m     copy\u001b[38;5;241m=\u001b[39mcopy,\n\u001b[0;32m    390\u001b[0m     sort\u001b[38;5;241m=\u001b[39msort,\n\u001b[0;32m    391\u001b[0m )\n\u001b[0;32m    393\u001b[0m \u001b[38;5;28;01mreturn\u001b[39;00m op\u001b[38;5;241m.\u001b[39mget_result()\n",
      "File \u001b[1;32mc:\\Users\\FSONZOGNI\\AppData\\Local\\anaconda3\\Lib\\site-packages\\pandas\\core\\reshape\\concat.py:443\u001b[0m, in \u001b[0;36m_Concatenator.__init__\u001b[1;34m(self, objs, axis, join, keys, levels, names, ignore_index, verify_integrity, copy, sort)\u001b[0m\n\u001b[0;32m    440\u001b[0m \u001b[38;5;28mself\u001b[39m\u001b[38;5;241m.\u001b[39mverify_integrity \u001b[38;5;241m=\u001b[39m verify_integrity\n\u001b[0;32m    441\u001b[0m \u001b[38;5;28mself\u001b[39m\u001b[38;5;241m.\u001b[39mcopy \u001b[38;5;241m=\u001b[39m copy\n\u001b[1;32m--> 443\u001b[0m objs, keys \u001b[38;5;241m=\u001b[39m \u001b[38;5;28mself\u001b[39m\u001b[38;5;241m.\u001b[39m_clean_keys_and_objs(objs, keys)\n\u001b[0;32m    445\u001b[0m \u001b[38;5;66;03m# figure out what our result ndim is going to be\u001b[39;00m\n\u001b[0;32m    446\u001b[0m ndims \u001b[38;5;241m=\u001b[39m \u001b[38;5;28mself\u001b[39m\u001b[38;5;241m.\u001b[39m_get_ndims(objs)\n",
      "File \u001b[1;32mc:\\Users\\FSONZOGNI\\AppData\\Local\\anaconda3\\Lib\\site-packages\\pandas\\core\\reshape\\concat.py:505\u001b[0m, in \u001b[0;36m_Concatenator._clean_keys_and_objs\u001b[1;34m(self, objs, keys)\u001b[0m\n\u001b[0;32m    502\u001b[0m     objs_list \u001b[38;5;241m=\u001b[39m \u001b[38;5;28mlist\u001b[39m(objs)\n\u001b[0;32m    504\u001b[0m \u001b[38;5;28;01mif\u001b[39;00m \u001b[38;5;28mlen\u001b[39m(objs_list) \u001b[38;5;241m==\u001b[39m \u001b[38;5;241m0\u001b[39m:\n\u001b[1;32m--> 505\u001b[0m     \u001b[38;5;28;01mraise\u001b[39;00m \u001b[38;5;167;01mValueError\u001b[39;00m(\u001b[38;5;124m\"\u001b[39m\u001b[38;5;124mNo objects to concatenate\u001b[39m\u001b[38;5;124m\"\u001b[39m)\n\u001b[0;32m    507\u001b[0m \u001b[38;5;28;01mif\u001b[39;00m keys \u001b[38;5;129;01mis\u001b[39;00m \u001b[38;5;28;01mNone\u001b[39;00m:\n\u001b[0;32m    508\u001b[0m     objs_list \u001b[38;5;241m=\u001b[39m \u001b[38;5;28mlist\u001b[39m(com\u001b[38;5;241m.\u001b[39mnot_none(\u001b[38;5;241m*\u001b[39mobjs_list))\n",
      "\u001b[1;31mValueError\u001b[0m: No objects to concatenate"
     ]
    }
   ],
   "source": [
    "# --------------------------------------------\n",
    "# 6️⃣ Unir todos los productos en un solo DataFrame\n",
    "# --------------------------------------------\n",
    "df_prophet_features = pd.concat(results, ignore_index=True)\n",
    "\n",
    "print(f\"✅ Dimensión final de variables Prophet: {df_prophet_features.shape}\")\n",
    "df_prophet_features.head()\n"
   ]
  },
  {
   "cell_type": "code",
   "execution_count": null,
   "id": "a7303c3d",
   "metadata": {},
   "outputs": [
    {
     "ename": "UnicodeDecodeError",
     "evalue": "'utf-8' codec can't decode byte 0xe0 in position 9: invalid continuation byte",
     "output_type": "error",
     "traceback": [
      "\u001b[1;31m---------------------------------------------------------------------------\u001b[0m",
      "\u001b[1;31mUnicodeDecodeError\u001b[0m                        Traceback (most recent call last)",
      "Cell \u001b[1;32mIn[7], line 11\u001b[0m\n\u001b[0;32m      5\u001b[0m \u001b[38;5;66;03m# Probar el proceso\u001b[39;00m\n\u001b[0;32m      6\u001b[0m df_prophet \u001b[38;5;241m=\u001b[39m pd\u001b[38;5;241m.\u001b[39mDataFrame({\n\u001b[0;32m      7\u001b[0m     \u001b[38;5;124m'\u001b[39m\u001b[38;5;124mds\u001b[39m\u001b[38;5;124m'\u001b[39m: test_group[\u001b[38;5;124m'\u001b[39m\u001b[38;5;124mfecha\u001b[39m\u001b[38;5;124m'\u001b[39m],\n\u001b[0;32m      8\u001b[0m     \u001b[38;5;124m'\u001b[39m\u001b[38;5;124my\u001b[39m\u001b[38;5;124m'\u001b[39m: test_group[\u001b[38;5;124m'\u001b[39m\u001b[38;5;124mtn_total\u001b[39m\u001b[38;5;124m'\u001b[39m]\n\u001b[0;32m      9\u001b[0m })\n\u001b[1;32m---> 11\u001b[0m m \u001b[38;5;241m=\u001b[39m \u001b[43mProphet\u001b[49m\u001b[43m(\u001b[49m\u001b[43myearly_seasonality\u001b[49m\u001b[38;5;241;43m=\u001b[39;49m\u001b[38;5;28;43;01mTrue\u001b[39;49;00m\u001b[43m,\u001b[49m\u001b[43m \u001b[49m\u001b[43mstan_backend\u001b[49m\u001b[38;5;241;43m=\u001b[39;49m\u001b[38;5;124;43m\"\u001b[39;49m\u001b[38;5;124;43mCMDSTANPY\u001b[39;49m\u001b[38;5;124;43m\"\u001b[39;49m\u001b[43m)\u001b[49m\n\u001b[0;32m     12\u001b[0m m\u001b[38;5;241m.\u001b[39mfit(df_prophet)\n\u001b[0;32m     13\u001b[0m forecast \u001b[38;5;241m=\u001b[39m m\u001b[38;5;241m.\u001b[39mpredict(df_prophet[[\u001b[38;5;124m'\u001b[39m\u001b[38;5;124mds\u001b[39m\u001b[38;5;124m'\u001b[39m]])\n",
      "File \u001b[1;32mc:\\Users\\FSONZOGNI\\AppData\\Local\\anaconda3\\envs\\labo_III\\lib\\site-packages\\prophet\\forecaster.py:143\u001b[0m, in \u001b[0;36mProphet.__init__\u001b[1;34m(self, growth, changepoints, n_changepoints, changepoint_range, yearly_seasonality, weekly_seasonality, daily_seasonality, holidays, seasonality_mode, seasonality_prior_scale, holidays_prior_scale, changepoint_prior_scale, mcmc_samples, interval_width, uncertainty_samples, stan_backend)\u001b[0m\n\u001b[0;32m    141\u001b[0m \u001b[38;5;28mself\u001b[39m\u001b[38;5;241m.\u001b[39mfit_kwargs \u001b[38;5;241m=\u001b[39m {}\n\u001b[0;32m    142\u001b[0m \u001b[38;5;28mself\u001b[39m\u001b[38;5;241m.\u001b[39mvalidate_inputs()\n\u001b[1;32m--> 143\u001b[0m \u001b[38;5;28;43mself\u001b[39;49m\u001b[38;5;241;43m.\u001b[39;49m\u001b[43m_load_stan_backend\u001b[49m\u001b[43m(\u001b[49m\u001b[43mstan_backend\u001b[49m\u001b[43m)\u001b[49m\n",
      "File \u001b[1;32mc:\\Users\\FSONZOGNI\\AppData\\Local\\anaconda3\\envs\\labo_III\\lib\\site-packages\\prophet\\forecaster.py:154\u001b[0m, in \u001b[0;36mProphet._load_stan_backend\u001b[1;34m(self, stan_backend)\u001b[0m\n\u001b[0;32m    152\u001b[0m             logger\u001b[38;5;241m.\u001b[39mdebug(\u001b[38;5;124m\"\u001b[39m\u001b[38;5;124mUnable to load backend \u001b[39m\u001b[38;5;132;01m%s\u001b[39;00m\u001b[38;5;124m (\u001b[39m\u001b[38;5;132;01m%s\u001b[39;00m\u001b[38;5;124m), trying the next one\u001b[39m\u001b[38;5;124m\"\u001b[39m, i\u001b[38;5;241m.\u001b[39mname, e)\n\u001b[0;32m    153\u001b[0m \u001b[38;5;28;01melse\u001b[39;00m:\n\u001b[1;32m--> 154\u001b[0m     \u001b[38;5;28mself\u001b[39m\u001b[38;5;241m.\u001b[39mstan_backend \u001b[38;5;241m=\u001b[39m \u001b[43mStanBackendEnum\u001b[49m\u001b[38;5;241;43m.\u001b[39;49m\u001b[43mget_backend_class\u001b[49m\u001b[43m(\u001b[49m\u001b[43mstan_backend\u001b[49m\u001b[43m)\u001b[49m\u001b[43m(\u001b[49m\u001b[43m)\u001b[49m\n\u001b[0;32m    156\u001b[0m logger\u001b[38;5;241m.\u001b[39mdebug(\u001b[38;5;124m\"\u001b[39m\u001b[38;5;124mLoaded stan backend: \u001b[39m\u001b[38;5;132;01m%s\u001b[39;00m\u001b[38;5;124m\"\u001b[39m, \u001b[38;5;28mself\u001b[39m\u001b[38;5;241m.\u001b[39mstan_backend\u001b[38;5;241m.\u001b[39mget_type())\n",
      "File \u001b[1;32mc:\\Users\\FSONZOGNI\\AppData\\Local\\anaconda3\\envs\\labo_III\\lib\\site-packages\\prophet\\models.py:64\u001b[0m, in \u001b[0;36mCmdStanPyBackend.__init__\u001b[1;34m(self)\u001b[0m\n\u001b[0;32m     62\u001b[0m \u001b[38;5;28;01mif\u001b[39;00m local_cmdstan\u001b[38;5;241m.\u001b[39mexists():\n\u001b[0;32m     63\u001b[0m     cmdstanpy\u001b[38;5;241m.\u001b[39mset_cmdstan_path(\u001b[38;5;28mstr\u001b[39m(local_cmdstan))\n\u001b[1;32m---> 64\u001b[0m \u001b[38;5;28;43msuper\u001b[39;49m\u001b[43m(\u001b[49m\u001b[43m)\u001b[49m\u001b[38;5;241;43m.\u001b[39;49m\u001b[38;5;21;43m__init__\u001b[39;49m\u001b[43m(\u001b[49m\u001b[43m)\u001b[49m\n",
      "File \u001b[1;32mc:\\Users\\FSONZOGNI\\AppData\\Local\\anaconda3\\envs\\labo_III\\lib\\site-packages\\prophet\\models.py:22\u001b[0m, in \u001b[0;36mIStanBackend.__init__\u001b[1;34m(self)\u001b[0m\n\u001b[0;32m     21\u001b[0m \u001b[38;5;28;01mdef\u001b[39;00m\u001b[38;5;250m \u001b[39m\u001b[38;5;21m__init__\u001b[39m(\u001b[38;5;28mself\u001b[39m):\n\u001b[1;32m---> 22\u001b[0m     \u001b[38;5;28mself\u001b[39m\u001b[38;5;241m.\u001b[39mmodel \u001b[38;5;241m=\u001b[39m \u001b[38;5;28;43mself\u001b[39;49m\u001b[38;5;241;43m.\u001b[39;49m\u001b[43mload_model\u001b[49m\u001b[43m(\u001b[49m\u001b[43m)\u001b[49m\n\u001b[0;32m     23\u001b[0m     \u001b[38;5;28mself\u001b[39m\u001b[38;5;241m.\u001b[39mstan_fit \u001b[38;5;241m=\u001b[39m \u001b[38;5;28;01mNone\u001b[39;00m\n\u001b[0;32m     24\u001b[0m     \u001b[38;5;28mself\u001b[39m\u001b[38;5;241m.\u001b[39mnewton_fallback \u001b[38;5;241m=\u001b[39m \u001b[38;5;28;01mTrue\u001b[39;00m\n",
      "File \u001b[1;32mc:\\Users\\FSONZOGNI\\AppData\\Local\\anaconda3\\envs\\labo_III\\lib\\site-packages\\prophet\\models.py:73\u001b[0m, in \u001b[0;36mCmdStanPyBackend.load_model\u001b[1;34m(self)\u001b[0m\n\u001b[0;32m     71\u001b[0m \u001b[38;5;28;01mimport\u001b[39;00m\u001b[38;5;250m \u001b[39m\u001b[38;5;21;01mcmdstanpy\u001b[39;00m\n\u001b[0;32m     72\u001b[0m model_file \u001b[38;5;241m=\u001b[39m importlib_resources\u001b[38;5;241m.\u001b[39mfiles(\u001b[38;5;124m\"\u001b[39m\u001b[38;5;124mprophet\u001b[39m\u001b[38;5;124m\"\u001b[39m) \u001b[38;5;241m/\u001b[39m \u001b[38;5;124m\"\u001b[39m\u001b[38;5;124mstan_model\u001b[39m\u001b[38;5;124m\"\u001b[39m \u001b[38;5;241m/\u001b[39m \u001b[38;5;124m\"\u001b[39m\u001b[38;5;124mprophet_model.bin\u001b[39m\u001b[38;5;124m\"\u001b[39m\n\u001b[1;32m---> 73\u001b[0m \u001b[38;5;28;01mreturn\u001b[39;00m \u001b[43mcmdstanpy\u001b[49m\u001b[38;5;241;43m.\u001b[39;49m\u001b[43mCmdStanModel\u001b[49m\u001b[43m(\u001b[49m\u001b[43mexe_file\u001b[49m\u001b[38;5;241;43m=\u001b[39;49m\u001b[38;5;28;43mstr\u001b[39;49m\u001b[43m(\u001b[49m\u001b[43mmodel_file\u001b[49m\u001b[43m)\u001b[49m\u001b[43m)\u001b[49m\n",
      "File \u001b[1;32mc:\\Users\\FSONZOGNI\\AppData\\Local\\anaconda3\\envs\\labo_III\\lib\\site-packages\\cmdstanpy\\model.py:216\u001b[0m, in \u001b[0;36mCmdStanModel.__init__\u001b[1;34m(self, model_name, stan_file, exe_file, compile, stanc_options, cpp_options, user_header)\u001b[0m\n\u001b[0;32m    214\u001b[0m \u001b[38;5;28;01mif\u001b[39;00m platform\u001b[38;5;241m.\u001b[39msystem() \u001b[38;5;241m==\u001b[39m \u001b[38;5;124m'\u001b[39m\u001b[38;5;124mWindows\u001b[39m\u001b[38;5;124m'\u001b[39m:\n\u001b[0;32m    215\u001b[0m     \u001b[38;5;28;01mtry\u001b[39;00m:\n\u001b[1;32m--> 216\u001b[0m         \u001b[43mdo_command\u001b[49m\u001b[43m(\u001b[49m\u001b[43m[\u001b[49m\u001b[38;5;124;43m'\u001b[39;49m\u001b[38;5;124;43mwhere.exe\u001b[39;49m\u001b[38;5;124;43m'\u001b[39;49m\u001b[43m,\u001b[49m\u001b[43m \u001b[49m\u001b[38;5;124;43m'\u001b[39;49m\u001b[38;5;124;43mtbb.dll\u001b[39;49m\u001b[38;5;124;43m'\u001b[39;49m\u001b[43m]\u001b[49m\u001b[43m,\u001b[49m\u001b[43m \u001b[49m\u001b[43mfd_out\u001b[49m\u001b[38;5;241;43m=\u001b[39;49m\u001b[38;5;28;43;01mNone\u001b[39;49;00m\u001b[43m)\u001b[49m\n\u001b[0;32m    217\u001b[0m     \u001b[38;5;28;01mexcept\u001b[39;00m \u001b[38;5;167;01mRuntimeError\u001b[39;00m:\n\u001b[0;32m    218\u001b[0m         \u001b[38;5;66;03m# Add tbb to the $PATH on Windows\u001b[39;00m\n\u001b[0;32m    219\u001b[0m         libtbb \u001b[38;5;241m=\u001b[39m os\u001b[38;5;241m.\u001b[39menviron\u001b[38;5;241m.\u001b[39mget(\u001b[38;5;124m'\u001b[39m\u001b[38;5;124mSTAN_TBB\u001b[39m\u001b[38;5;124m'\u001b[39m)\n",
      "File \u001b[1;32mc:\\Users\\FSONZOGNI\\AppData\\Local\\anaconda3\\envs\\labo_III\\lib\\site-packages\\cmdstanpy\\utils\\command.py:53\u001b[0m, in \u001b[0;36mdo_command\u001b[1;34m(cmd, cwd, fd_out, pbar)\u001b[0m\n\u001b[0;32m     51\u001b[0m \u001b[38;5;28;01mwhile\u001b[39;00m proc\u001b[38;5;241m.\u001b[39mpoll() \u001b[38;5;129;01mis\u001b[39;00m \u001b[38;5;28;01mNone\u001b[39;00m:\n\u001b[0;32m     52\u001b[0m     \u001b[38;5;28;01mif\u001b[39;00m proc\u001b[38;5;241m.\u001b[39mstdout \u001b[38;5;129;01mis\u001b[39;00m \u001b[38;5;129;01mnot\u001b[39;00m \u001b[38;5;28;01mNone\u001b[39;00m:\n\u001b[1;32m---> 53\u001b[0m         line \u001b[38;5;241m=\u001b[39m \u001b[43mproc\u001b[49m\u001b[38;5;241;43m.\u001b[39;49m\u001b[43mstdout\u001b[49m\u001b[38;5;241;43m.\u001b[39;49m\u001b[43mreadline\u001b[49m\u001b[43m(\u001b[49m\u001b[43m)\u001b[49m\n\u001b[0;32m     54\u001b[0m         \u001b[38;5;28;01mif\u001b[39;00m fd_out \u001b[38;5;129;01mis\u001b[39;00m \u001b[38;5;129;01mnot\u001b[39;00m \u001b[38;5;28;01mNone\u001b[39;00m:\n\u001b[0;32m     55\u001b[0m             fd_out\u001b[38;5;241m.\u001b[39mwrite(line)\n",
      "File \u001b[1;32mc:\\Users\\FSONZOGNI\\AppData\\Local\\anaconda3\\envs\\labo_III\\lib\\codecs.py:322\u001b[0m, in \u001b[0;36mBufferedIncrementalDecoder.decode\u001b[1;34m(self, input, final)\u001b[0m\n\u001b[0;32m    319\u001b[0m \u001b[38;5;28;01mdef\u001b[39;00m\u001b[38;5;250m \u001b[39m\u001b[38;5;21mdecode\u001b[39m(\u001b[38;5;28mself\u001b[39m, \u001b[38;5;28minput\u001b[39m, final\u001b[38;5;241m=\u001b[39m\u001b[38;5;28;01mFalse\u001b[39;00m):\n\u001b[0;32m    320\u001b[0m     \u001b[38;5;66;03m# decode input (taking the buffer into account)\u001b[39;00m\n\u001b[0;32m    321\u001b[0m     data \u001b[38;5;241m=\u001b[39m \u001b[38;5;28mself\u001b[39m\u001b[38;5;241m.\u001b[39mbuffer \u001b[38;5;241m+\u001b[39m \u001b[38;5;28minput\u001b[39m\n\u001b[1;32m--> 322\u001b[0m     (result, consumed) \u001b[38;5;241m=\u001b[39m \u001b[38;5;28;43mself\u001b[39;49m\u001b[38;5;241;43m.\u001b[39;49m\u001b[43m_buffer_decode\u001b[49m\u001b[43m(\u001b[49m\u001b[43mdata\u001b[49m\u001b[43m,\u001b[49m\u001b[43m \u001b[49m\u001b[38;5;28;43mself\u001b[39;49m\u001b[38;5;241;43m.\u001b[39;49m\u001b[43merrors\u001b[49m\u001b[43m,\u001b[49m\u001b[43m \u001b[49m\u001b[43mfinal\u001b[49m\u001b[43m)\u001b[49m\n\u001b[0;32m    323\u001b[0m     \u001b[38;5;66;03m# keep undecoded input until the next call\u001b[39;00m\n\u001b[0;32m    324\u001b[0m     \u001b[38;5;28mself\u001b[39m\u001b[38;5;241m.\u001b[39mbuffer \u001b[38;5;241m=\u001b[39m data[consumed:]\n",
      "\u001b[1;31mUnicodeDecodeError\u001b[0m: 'utf-8' codec can't decode byte 0xe0 in position 9: invalid continuation byte"
     ]
    }
   ],
   "source": [
    "!pip install prophet==1.1.4 cmdstanpy==1.1.0 pandas numpy tqdm"
   ]
  }
 ],
 "metadata": {
  "kernelspec": {
   "display_name": "labo_III",
   "language": "python",
   "name": "python3"
  },
  "language_info": {
   "codemirror_mode": {
    "name": "ipython",
    "version": 3
   },
   "file_extension": ".py",
   "mimetype": "text/x-python",
   "name": "python",
   "nbconvert_exporter": "python",
   "pygments_lexer": "ipython3",
   "version": "3.9.21"
  }
 },
 "nbformat": 4,
 "nbformat_minor": 5
}
