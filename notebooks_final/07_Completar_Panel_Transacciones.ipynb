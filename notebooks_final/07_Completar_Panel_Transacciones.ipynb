{
 "cells": [
  {
   "cell_type": "markdown",
   "id": "62edcbe4",
   "metadata": {},
   "source": [
    "# Completar panel de transacciones: cliente × producto × período\n",
    "\n",
    "Este notebook genera un **panel completo de transacciones** entre clientes y productos para todos los períodos en los que ambos estuvieron activos.\n",
    "\n",
    "---\n",
    "\n",
    "## 🎯 Objetivo\n",
    "\n",
    "Completar artificialmente las transacciones faltantes con `tn = 0` cuando:\n",
    "\n",
    "- El `customer_id` estaba activo (tenía actividad de compra en algún producto),\n",
    "- El `product_id` estaba activo (al menos algún cliente lo compró),\n",
    "- Pero no se registró una transacción real en un `periodo` dado.\n",
    "\n",
    "Esto permitirá obtener un panel denso y útil para entrenar modelos de forecasting que interpreten explícitamente los \"ceros\", es decir, la decisión activa de **no comprar**.\n",
    "\n",
    "---\n",
    "\n",
    "## 🔍 Reglas aplicadas\n",
    "\n",
    "1. Un **cliente nace** en el primer período en que compró cualquier producto, y **muere** en su última compra.\n",
    "2. Un **producto nace** en el primer período en que alguien lo compró, y **muere** en su última compra.\n",
    "3. El producto y cliente **coexisten** en los períodos en que ambos están activos.\n",
    "4. Si en ese período **no hubo transacción real**, se genera una artificial con `tn = 0`.\n"
   ]
  },
  {
   "cell_type": "code",
   "execution_count": 1,
   "id": "9896eb36",
   "metadata": {},
   "outputs": [],
   "source": [
    "\n",
    "import pandas as pd\n",
    "import numpy as np\n",
    "from itertools import product\n"
   ]
  },
  {
   "cell_type": "markdown",
   "id": "a2aba72b",
   "metadata": {},
   "source": [
    "## 📥 Carga del archivo sell-in.txt"
   ]
  },
  {
   "cell_type": "code",
   "execution_count": 2,
   "id": "8d2cc5de",
   "metadata": {},
   "outputs": [
    {
     "data": {
      "text/plain": [
       "<bound method NDFrame.head of         periodo  customer_id  product_id  plan_precios_cuidados  \\\n",
       "0        201701        10234       20524                      0   \n",
       "1        201701        10032       20524                      0   \n",
       "2        201701        10217       20524                      0   \n",
       "3        201701        10125       20524                      0   \n",
       "4        201701        10012       20524                      0   \n",
       "...         ...          ...         ...                    ...   \n",
       "2945813  201912        10105       20853                      0   \n",
       "2945814  201912        10092       20853                      0   \n",
       "2945815  201912        10006       20853                      0   \n",
       "2945816  201912        10018       20853                      0   \n",
       "2945817  201912        10020       20853                      0   \n",
       "\n",
       "         cust_request_qty  cust_request_tn       tn  \n",
       "0                       2          0.05300  0.05300  \n",
       "1                       1          0.13628  0.13628  \n",
       "2                       1          0.03028  0.03028  \n",
       "3                       1          0.02271  0.02271  \n",
       "4                      11          1.54452  1.54452  \n",
       "...                   ...              ...      ...  \n",
       "2945813                 1          0.02230  0.02230  \n",
       "2945814                 1          0.00669  0.00669  \n",
       "2945815                 7          0.02898  0.02898  \n",
       "2945816                 4          0.01561  0.01561  \n",
       "2945817                 2          0.01561  0.01561  \n",
       "\n",
       "[2945818 rows x 7 columns]>"
      ]
     },
     "execution_count": 2,
     "metadata": {},
     "output_type": "execute_result"
    }
   ],
   "source": [
    "\n",
    "df = pd.read_csv(\"C:\\\\Developer\\\\Laboratorio_III\\\\data\\\\sell-in.txt\", sep='\\t')\n",
    "df['periodo'] = df['periodo'].astype(str)\n",
    "df.head"
   ]
  },
  {
   "cell_type": "markdown",
   "id": "d0a64ba4",
   "metadata": {},
   "source": [
    "## 📆 Determinar vida útil de clientes y productos"
   ]
  },
  {
   "cell_type": "code",
   "execution_count": 5,
   "id": "e2143b84",
   "metadata": {},
   "outputs": [],
   "source": [
    "\n",
    "vida_clientes = df.groupby('customer_id')['periodo'].agg(['min', 'max']).rename(columns={'min': 'cliente_ini', 'max': 'cliente_fin'})\n",
    "vida_productos = df.groupby('product_id')['periodo'].agg(['min', 'max']).rename(columns={'min': 'producto_ini', 'max': 'producto_fin'})\n",
    "# 4. Lista de períodos únicos (ordenada)\n",
    "periodos = sorted(df['periodo'].unique())\n"
   ]
  },
  {
   "cell_type": "markdown",
   "id": "db7df20f",
   "metadata": {},
   "source": [
    "## 🧩 Generar universo de combinaciones válidas"
   ]
  },
  {
   "cell_type": "code",
   "execution_count": 6,
   "id": "53d9a267",
   "metadata": {},
   "outputs": [],
   "source": [
    "# Obtener DataFrames individuales\n",
    "clientes_df = vida_clientes.reset_index()\n",
    "productos_df = vida_productos.reset_index()\n",
    "periodos_df = pd.DataFrame({'periodo': periodos})\n",
    "\n",
    "# Producto cartesiano: cliente × producto\n",
    "cp_df = clientes_df.assign(key=1).merge(productos_df.assign(key=1), on='key').drop('key', axis=1)\n",
    "\n",
    "# Calcular los rangos de actividad compartidos\n",
    "cp_df['inicio_actividad'] = cp_df[['cliente_ini', 'producto_ini']].max(axis=1)\n",
    "cp_df['fin_actividad'] = cp_df[['cliente_fin', 'producto_fin']].min(axis=1)\n",
    "\n",
    "# Expandir con períodos (cliente-producto vivos)\n",
    "cp_df = cp_df.merge(periodos_df, how='cross')\n",
    "full = cp_df[\n",
    "    (cp_df['periodo'] >= cp_df['inicio_actividad']) &\n",
    "    (cp_df['periodo'] <= cp_df['fin_actividad'])\n",
    "].copy()\n",
    "\n",
    "# Marcar combinaciones válidas donde cliente y producto están vivos\n",
    "full['flag_panel_valido'] = True\n",
    "\n"
   ]
  },
  {
   "cell_type": "markdown",
   "id": "cf278209",
   "metadata": {},
   "source": [
    "## 🔄 Fusionar con transacciones reales y completar con `tn = 0`"
   ]
  },
  {
   "cell_type": "code",
   "execution_count": 7,
   "id": "4065df50",
   "metadata": {},
   "outputs": [],
   "source": [
    "\n",
    "# Merge con datos reales\n",
    "df_completo = full.merge(df[['customer_id', 'product_id', 'periodo', 'tn']], on=['customer_id', 'product_id', 'periodo'], how='left')\n",
    "\n",
    "# Completar tn = 0 solo si el producto estaba activo en ese período\n",
    "df_completo['tn'] = df_completo.apply(\n",
    "    lambda row: 0 if pd.isna(row['tn']) and row['flag_panel_valido'] else row['tn'],\n",
    "    axis=1\n",
    ")\n",
    "\n",
    "# Resultado final\n",
    "df_completo = df_completo[['customer_id', 'product_id', 'periodo', 'tn']]\n"
   ]
  },
  {
   "cell_type": "markdown",
   "id": "5073dc97",
   "metadata": {},
   "source": [
    "## 🧩 Agregar registros con tn = NaN cuando el producto ya existía pero el cliente aún no\n",
    "\n",
    "### 🎯 Objetivo\n",
    "\n",
    "Completar el panel de transacciones agregando registros con valor tn = NaN en aquellos casos en los que:\n",
    "\n",
    "- El producto ya existía (estaba a la venta),\n",
    "- Pero el cliente todavía no había comenzado su actividad,\n",
    "- Y el producto seguía vigente cuando el cliente comenzó.\n",
    "\n",
    "Esto permite reflejar en el panel que, si bien el cliente aún no estaba activo, el producto sí estaba disponible en el mercado. Es importante incluir estos puntos ya que constituyen períodos potenciales en los que aún no había posibilidad de compra, y por lo tanto, no se puede asumir cero como valor predeterminado."
   ]
  },
  {
   "cell_type": "code",
   "execution_count": 11,
   "id": "4f441a1d",
   "metadata": {},
   "outputs": [],
   "source": [
    "# Preparar producto × cliente con fechas\n",
    "pc_df = vida_productos.reset_index().assign(key=1).merge(\n",
    "    vida_clientes.reset_index().assign(key=1), on='key'\n",
    ").drop(columns='key')\n",
    "\n",
    "# Filtrar combinaciones donde producto nació antes y cliente luego, pero aún dentro de la vida del producto\n",
    "pc_df = pc_df[\n",
    "    (pc_df['producto_ini'] < pc_df['cliente_ini']) &\n",
    "    (pc_df['producto_fin'] >= pc_df['cliente_ini'])\n",
    "].copy()\n",
    "\n",
    "# Generar los períodos desde producto_ini hasta cliente_ini - 1\n",
    "def generar_periodos(producto_ini, cliente_ini):\n",
    "    producto_ini = int(producto_ini)\n",
    "    cliente_ini = int(cliente_ini)\n",
    "    periodos = []\n",
    "    a1, m1 = divmod(producto_ini, 100)\n",
    "    a2, m2 = divmod(cliente_ini, 100)\n",
    "\n",
    "    while (a1 < a2) or (a1 == a2 and m1 < m2):\n",
    "        periodos.append(a1 * 100 + m1)\n",
    "        m1 += 1\n",
    "        if m1 > 12:\n",
    "            m1 = 1\n",
    "            a1 += 1\n",
    "    return periodos\n",
    "\n",
    "# Expandir combinaciones a nivel período\n",
    "registros_na = []\n",
    "for _, row in pc_df.iterrows():\n",
    "    for periodo in generar_periodos(row['producto_ini'], row['cliente_ini']):\n",
    "        registros_na.append({\n",
    "            'customer_id': row['customer_id'],\n",
    "            'product_id': row['product_id'],\n",
    "            'periodo': str(periodo),\n",
    "            'tn': np.nan\n",
    "        })\n",
    "\n",
    "df_na = pd.DataFrame(registros_na)\n",
    "\n",
    "# Unir al df_completo\n",
    "df_completo = pd.concat([df_completo, df_na], ignore_index=True).drop_duplicates()\n"
   ]
  },
  {
   "cell_type": "markdown",
   "id": "096a25c7",
   "metadata": {},
   "source": [
    "## 📈 Control de expansión del panel\n",
    "\n",
    "Validamos cuántas combinaciones válidas fueron generadas en el panel expandido comparado con las transacciones originales:\n",
    "\n",
    "- El panel completo debe contener **todas las combinaciones cliente-producto-período posibles** donde ambos estuvieron vivos.\n",
    "- El resultado final debería expandir la cantidad de transacciones originales por un factor cercano a 5.8."
   ]
  },
  {
   "cell_type": "code",
   "execution_count": 12,
   "id": "5ca67da9",
   "metadata": {},
   "outputs": [
    {
     "name": "stdout",
     "output_type": "stream",
     "text": [
      "📊 Cantidad de registros generados: 17,022,744\n",
      "📦 Cantidad de registros originales: 2,945,818\n",
      "🔁 Factor de expansión: 5.28x\n"
     ]
    }
   ],
   "source": [
    "print(f\"📊 Cantidad de registros generados: {len(df_completo):,}\")\n",
    "print(f\"📦 Cantidad de registros originales: {len(df):,}\")\n",
    "print(f\"🔁 Factor de expansión: {len(full) / len(df):.2f}x\")"
   ]
  },
  {
   "cell_type": "code",
   "execution_count": 13,
   "id": "810d2526",
   "metadata": {},
   "outputs": [
    {
     "name": "stdout",
     "output_type": "stream",
     "text": [
      "Registros únicos: 17022744\n",
      "Registros totales: 17022744\n"
     ]
    }
   ],
   "source": [
    "print(\"Registros únicos:\", df_completo[['customer_id', 'product_id', 'periodo']].drop_duplicates().shape[0])\n",
    "print(\"Registros totales:\", df_completo.shape[0])"
   ]
  },
  {
   "cell_type": "markdown",
   "id": "684dbc16",
   "metadata": {},
   "source": [
    "## 💾 Guardar panel completo para análisis o modelado"
   ]
  },
  {
   "cell_type": "code",
   "execution_count": 14,
   "id": "eb65b6cb",
   "metadata": {},
   "outputs": [
    {
     "name": "stdout",
     "output_type": "stream",
     "text": [
      "Archivo guardado: panel_completo_cliente_producto.parquet\n"
     ]
    }
   ],
   "source": [
    "\n",
    "df_completo.to_parquet(\"C:/Developer/Laboratorio_III/data/panel_completo_cliente_producto.parquet\", index=False)\n",
    "print(\"Archivo guardado: panel_completo_cliente_producto.parquet\")\n"
   ]
  },
  {
   "cell_type": "markdown",
   "id": "7efdedaa",
   "metadata": {},
   "source": [
    "## 🧪 Generación de dataset por producto y período\n",
    "\n",
    "En esta sección generamos un nuevo dataset con el total de ventas y cantidad de clientes que compraron por `product_id` y `periodo`, enriquecido con características del producto y transformaciones de fecha útiles para modelos de forecasting.\n"
   ]
  },
  {
   "cell_type": "code",
   "execution_count": 15,
   "id": "10375ad1",
   "metadata": {},
   "outputs": [],
   "source": [
    "# Agregamos toneladas totales y cantidad de clientes que compraron (tn > 0)\n",
    "df_agg = df_completo.groupby(['product_id', 'periodo']).agg(\n",
    "    tn_total=('tn', 'sum'),\n",
    "    clientes_positivos=('tn', lambda x: (x > 0).sum())\n",
    ").reset_index()\n"
   ]
  },
  {
   "cell_type": "markdown",
   "id": "a808403a",
   "metadata": {},
   "source": [
    "### 🧩 Enriquecimiento con atributos del producto\n",
    "\n",
    "Importamos y unimos el maestro de productos (`tb_productos.txt`) para agregar categorías, marca y presentación (`sku_size`) a cada producto.\n"
   ]
  },
  {
   "cell_type": "code",
   "execution_count": 16,
   "id": "694fbd1b",
   "metadata": {},
   "outputs": [],
   "source": [
    "ruta_tb_productos = \"C:/Developer/Laboratorio_III/data/tb_productos.txt\"\n",
    "df_productos = pd.read_csv(ruta_tb_productos, sep='\\t')\n",
    "\n",
    "# Merge con atributos del producto\n",
    "columnas_uso = ['product_id', 'cat1', 'cat2', 'cat3', 'brand', 'sku_size']\n",
    "if 'descripcion' in df_productos.columns:\n",
    "    columnas_uso.append('descripcion')\n",
    "\n",
    "df_agg = df_agg.merge(df_productos[columnas_uso], on='product_id', how='left')\n"
   ]
  },
  {
   "cell_type": "markdown",
   "id": "c8b661ad",
   "metadata": {},
   "source": [
    "### 📆 Transformaciones de fecha\n",
    "\n",
    "Convertimos la columna `periodo` al formato `datetime` para obtener nuevas variables como `mm-yyyy` y el trimestre (`quarter`).\n"
   ]
  },
  {
   "cell_type": "code",
   "execution_count": 17,
   "id": "b9d80438",
   "metadata": {},
   "outputs": [],
   "source": [
    "df_agg['periodo'] = df_agg['periodo'].astype(str)\n",
    "df_agg['fecha'] = pd.to_datetime(df_agg['periodo'], format='%Y%m')\n",
    "df_agg['mm-yyyy'] = df_agg['fecha'].dt.strftime('%m-%Y')\n",
    "df_agg['quarter'] = df_agg['fecha'].dt.to_period('Q').astype(str)\n"
   ]
  },
  {
   "cell_type": "markdown",
   "id": "45947f43",
   "metadata": {},
   "source": [
    "### 💾 Guardado del dataset resultante\n",
    "\n",
    "Exportamos el dataset enriquecido en formato `.parquet` para facilitar su uso posterior en entrenamiento de modelos de forecasting.\n"
   ]
  },
  {
   "cell_type": "code",
   "execution_count": 18,
   "id": "5adf4005",
   "metadata": {},
   "outputs": [
    {
     "name": "stdout",
     "output_type": "stream",
     "text": [
      "✅ Dataset guardado como 'dataset_product_periodo.parquet'\n"
     ]
    }
   ],
   "source": [
    "df_agg.to_parquet(\"C:/Developer/Laboratorio_III/data/dataset_product_periodo.parquet\", index=False)\n",
    "print(\"✅ Dataset guardado como 'dataset_product_periodo.parquet'\")\n"
   ]
  }
 ],
 "metadata": {
  "kernelspec": {
   "display_name": "labo_III",
   "language": "python",
   "name": "python3"
  },
  "language_info": {
   "codemirror_mode": {
    "name": "ipython",
    "version": 3
   },
   "file_extension": ".py",
   "mimetype": "text/x-python",
   "name": "python",
   "nbconvert_exporter": "python",
   "pygments_lexer": "ipython3",
   "version": "3.9.21"
  }
 },
 "nbformat": 4,
 "nbformat_minor": 5
}
