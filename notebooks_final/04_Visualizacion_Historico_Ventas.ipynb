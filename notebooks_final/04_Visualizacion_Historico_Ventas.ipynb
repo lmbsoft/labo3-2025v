{
 "cells": [
  {
   "cell_type": "markdown",
   "id": "597a6111",
   "metadata": {},
   "source": [
    "# Visualización dinámica del histórico de ventas por producto\n",
    "\n",
    "Este notebook permite:\n",
    "\n",
    "- Cargar el archivo `sell-in.txt`,\n",
    "- Agrupar las ventas mensuales por `product_id`,\n",
    "- Seleccionar un producto desde un desplegable interactivo,\n",
    "- Ver la evolución temporal de toneladas (`tn`) para ese producto.\n"
   ]
  },
  {
   "cell_type": "code",
   "execution_count": 1,
   "id": "9181e737",
   "metadata": {},
   "outputs": [],
   "source": [
    "\n",
    "import pandas as pd\n",
    "import matplotlib.pyplot as plt\n",
    "from ipywidgets import interact\n"
   ]
  },
  {
   "cell_type": "markdown",
   "id": "92945f31",
   "metadata": {},
   "source": [
    "## Carga de archivo y agrupamiento"
   ]
  },
  {
   "cell_type": "code",
   "execution_count": 3,
   "id": "b39b39a5",
   "metadata": {},
   "outputs": [],
   "source": [
    "\n",
    "# Ruta local al archivo sell-in\n",
    "path_sellin = \"C:\\\\Developer\\\\Laboratorio_III\\\\data\\\\sell-in.txt\"\n",
    "\n",
    "# Carga del archivo\n",
    "df = pd.read_csv(path_sellin, sep='\\t')\n",
    "df['periodo'] = df['periodo'].astype(str)\n",
    "\n",
    "# Agrupar ventas por período y producto\n",
    "df_agg = df.groupby(['periodo', 'product_id'])['tn'].sum().reset_index()\n"
   ]
  },
  {
   "cell_type": "markdown",
   "id": "44d12a41",
   "metadata": {},
   "source": [
    "## Visualización interactiva de evolución de ventas"
   ]
  },
  {
   "cell_type": "code",
   "execution_count": null,
   "id": "54d637ce",
   "metadata": {},
   "outputs": [
    {
     "data": {
      "application/vnd.jupyter.widget-view+json": {
       "model_id": "2d998d08ae694a9b87947b7509aa0064",
       "version_major": 2,
       "version_minor": 0
      },
      "text/plain": [
       "interactive(children=(Dropdown(description='producto_id', options=(20001, 20002, 20003, 20004, 20005, 20006, 2…"
      ]
     },
     "metadata": {},
     "output_type": "display_data"
    }
   ],
   "source": [
    "\n",
    "@interact(producto_id=sorted(df_agg['product_id'].unique()))\n",
    "def plot_producto(producto_id):\n",
    "    datos = df_agg[df_agg['product_id'] == producto_id].sort_values('periodo')\n",
    "    plt.figure(figsize=(10, 4))\n",
    "    plt.plot(datos['periodo'], datos['tn'], marker='o', color='steelblue')\n",
    "    plt.title(f\"Evolución de ventas (tn) - Producto {producto_id}\")\n",
    "    plt.xlabel(\"Periodo\")\n",
    "    plt.ylabel(\"Toneladas entregadas\")\n",
    "    plt.xticks(rotation=45)\n",
    "    plt.grid(True)\n",
    "    plt.tight_layout()\n",
    "    plt.show()\n"
   ]
  }
 ],
 "metadata": {
  "kernelspec": {
   "display_name": "labo_III",
   "language": "python",
   "name": "python3"
  },
  "language_info": {
   "codemirror_mode": {
    "name": "ipython",
    "version": 3
   },
   "file_extension": ".py",
   "mimetype": "text/x-python",
   "name": "python",
   "nbconvert_exporter": "python",
   "pygments_lexer": "ipython3",
   "version": "3.9.21"
  }
 },
 "nbformat": 4,
 "nbformat_minor": 5
}
