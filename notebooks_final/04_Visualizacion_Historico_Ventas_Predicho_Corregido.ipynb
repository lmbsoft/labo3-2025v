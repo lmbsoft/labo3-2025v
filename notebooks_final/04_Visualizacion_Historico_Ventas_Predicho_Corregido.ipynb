{
 "cells": [
  {
   "cell_type": "markdown",
   "id": "27526d4f",
   "metadata": {},
   "source": [
    "# Visualización dinámica del histórico de ventas por producto + Predicción\n",
    "\n",
    "Este notebook permite:\n",
    "\n",
    "- Cargar el archivo `sell-in.txt` y `forecast_product_phase1_con_real.csv`,\n",
    "- Ver el histórico de toneladas (`tn`) por producto y período,\n",
    "- Superponer en el gráfico los valores **predichos** por modelo (`tn_predicho`).\n"
   ]
  },
  {
   "cell_type": "code",
   "execution_count": null,
   "id": "ce84ab5e",
   "metadata": {},
   "outputs": [],
   "source": [
    "\n",
    "import pandas as pd\n",
    "import matplotlib.pyplot as plt\n",
    "from ipywidgets import interact\n"
   ]
  },
  {
   "cell_type": "markdown",
   "id": "03f16265",
   "metadata": {},
   "source": [
    "## Carga de archivos y join con predicción"
   ]
  },
  {
   "cell_type": "code",
   "execution_count": null,
   "id": "2fde14cc",
   "metadata": {},
   "outputs": [],
   "source": [
    "\n",
    "# Merge con predicciones (solo por product_id)\n",
    "df_merged = pd.merge(df_agg, df_forecast[['product_id', 'tn_predicho']],\n",
    "                     on='product_id', how='left')\n"
   ]
  },
  {
   "cell_type": "markdown",
   "id": "8fc53d81",
   "metadata": {},
   "source": [
    "## Visualización interactiva de ventas reales y predicción"
   ]
  },
  {
   "cell_type": "code",
   "execution_count": null,
   "id": "01951735",
   "metadata": {},
   "outputs": [],
   "source": [
    "\n",
    "@interact(producto_id=sorted(df_merged['product_id'].unique()))\n",
    "def plot_producto_con_pred(producto_id):\n",
    "    datos = df_merged[df_merged['product_id'] == producto_id].sort_values('periodo')\n",
    "\n",
    "    plt.figure(figsize=(10, 4))\n",
    "    plt.plot(datos['periodo'], datos['tn'], marker='o', color='steelblue', label='Ventas reales')\n",
    "\n",
    "    if datos['tn_predicho'].notna().any():\n",
    "        plt.plot(datos['periodo'], datos['tn_predicho'], marker='x', linestyle='--', color='darkorange', label='Predicción')\n",
    "\n",
    "    plt.title(f\"Evolución de ventas y predicción - Producto {producto_id}\")\n",
    "    plt.xlabel(\"Periodo\")\n",
    "    plt.ylabel(\"Toneladas\")\n",
    "    plt.xticks(rotation=45)\n",
    "    plt.grid(True)\n",
    "    plt.legend()\n",
    "    plt.tight_layout()\n",
    "    plt.show()\n"
   ]
  }
 ],
 "metadata": {},
 "nbformat": 4,
 "nbformat_minor": 5
}
