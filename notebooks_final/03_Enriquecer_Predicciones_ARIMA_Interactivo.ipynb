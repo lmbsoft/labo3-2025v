{
 "cells": [
  {
   "cell_type": "markdown",
   "id": "ce4f7f18",
   "metadata": {},
   "source": [
    "# Enriquecimiento de predicciones ARIMA con datos reales de ventas\n",
    "\n",
    "Este notebook cruza las predicciones generadas por un modelo ARIMA con los datos históricos del archivo `sell-in.txt`, específicamente para el período `201912`.\n",
    "\n",
    "El objetivo es comparar o enriquecer la predicción con la venta real (`tn`) observada ese mes.\n"
   ]
  },
  {
   "cell_type": "code",
   "execution_count": 12,
   "id": "646a3b1d",
   "metadata": {},
   "outputs": [],
   "source": [
    "\n",
    "import pandas as pd\n"
   ]
  },
  {
   "cell_type": "markdown",
   "id": "9fce4e42",
   "metadata": {},
   "source": [
    "## Carga de archivos"
   ]
  },
  {
   "cell_type": "code",
   "execution_count": 13,
   "id": "24ee9609",
   "metadata": {},
   "outputs": [],
   "source": [
    "\n",
    "# Definir rutas\n",
    "PATH_FORECAST = \"C:\\\\Developer\\\\Laboratorio_III\\\\data\\\\forecast_product_phase1.csv\"\n",
    "PATH_SELLIN = \"C:\\\\Developer\\\\Laboratorio_III\\\\data\\\\sell-in.txt\"\n",
    "\n",
    "# Cargar predicciones\n",
    "df_pred = pd.read_csv(PATH_FORECAST)\n",
    "\n",
    "# Cargar ventas\n",
    "df_sellin = pd.read_csv(PATH_SELLIN, sep=\"\\t\")\n",
    "df_sellin['periodo'] = df_sellin['periodo'].astype(str)\n"
   ]
  },
  {
   "cell_type": "markdown",
   "id": "c92b2b3a",
   "metadata": {},
   "source": [
    "## Cruce de predicción con datos reales del período 201912"
   ]
  },
  {
   "cell_type": "code",
   "execution_count": 15,
   "id": "a1cbe850",
   "metadata": {},
   "outputs": [],
   "source": [
    "\n",
    "# Filtrar ventas de diciembre 2019\n",
    "df_dic = df_sellin[df_sellin['periodo'] == '201912']\n",
    "\n",
    "# Agregar ventas por producto\n",
    "ventas_diciembre = df_dic.groupby('product_id')['tn'].sum().reset_index()\n",
    "ventas_diciembre = ventas_diciembre.rename(columns={'tn': 'tn_real'})\n",
    "\n",
    "# Cruce con predicciones\n",
    "df_enriquecido = df_pred.merge(ventas_diciembre, on='product_id', how='left')\n"
   ]
  },
  {
   "cell_type": "markdown",
   "id": "dcc70587",
   "metadata": {},
   "source": [
    "## Guardado del archivo enriquecido"
   ]
  },
  {
   "cell_type": "code",
   "execution_count": 16,
   "id": "d5f3cfc8",
   "metadata": {},
   "outputs": [
    {
     "name": "stdout",
     "output_type": "stream",
     "text": [
      "Archivo generado: forecast_product_phase1_con_real.csv\n"
     ]
    }
   ],
   "source": [
    "\n",
    "df_enriquecido.to_csv(\"forecast_product_phase1_con_real.csv\", index=False)\n",
    "print(\"Archivo generado: forecast_product_phase1_con_real.csv\")\n"
   ]
  },
  {
   "cell_type": "markdown",
   "id": "5083238b",
   "metadata": {},
   "source": [
    "## Visualización interactiva: Predicción vs. Real\n",
    "\n",
    "Generamos un gráfico de dispersión (`scatter plot`) donde:\n",
    "\n",
    "- Eje X: predicción del modelo (`tn`)\n",
    "- Eje Y: venta real observada (`tn_real`)\n",
    "\n",
    "Además, incorporamos un filtro interactivo para seleccionar uno o varios `product_id` y analizar sus resultados individualmente.\n"
   ]
  },
  {
   "cell_type": "code",
   "execution_count": 17,
   "id": "369692db",
   "metadata": {},
   "outputs": [
    {
     "data": {
      "application/vnd.jupyter.widget-view+json": {
       "model_id": "cd9d1a127ed2419480d23267ba965303",
       "version_major": 2,
       "version_minor": 0
      },
      "text/plain": [
       "interactive(children=(SelectMultiple(description='Productos', index=(0, 1, 2, 3, 4, 5, 6, 7, 8, 9), layout=Lay…"
      ]
     },
     "metadata": {},
     "output_type": "display_data"
    }
   ],
   "source": [
    "\n",
    "import plotly.express as px\n",
    "import ipywidgets as widgets\n",
    "from IPython.display import display\n",
    "\n",
    "# Widget interactivo de selección de productos\n",
    "productos_unicos = df_enriquecido['product_id'].unique()\n",
    "selector = widgets.SelectMultiple(\n",
    "    options=sorted(productos_unicos),\n",
    "    value=sorted(productos_unicos)[:10],\n",
    "    description='Productos',\n",
    "    layout=widgets.Layout(width='50%'),\n",
    "    style={'description_width': 'initial'}\n",
    ")\n",
    "\n",
    "# Función de visualización\n",
    "def plot_scatter(productos):\n",
    "    datos = df_enriquecido[df_enriquecido['product_id'].isin(productos)]\n",
    "    fig = px.scatter(\n",
    "        datos,\n",
    "        x=\"tn\", y=\"tn_real\",\n",
    "        hover_name=\"product_id\",\n",
    "        title=\"Predicción vs. Real (por producto)\",\n",
    "        labels={\"tn\": \"Predicción (tn)\", \"tn_real\": \"Real (tn)\"}\n",
    "    )\n",
    "    fig.add_shape(\n",
    "        type='line',\n",
    "        x0=0, y0=0, x1=datos['tn'].max(), y1=datos['tn'].max(),\n",
    "        line=dict(color='gray', dash='dash')\n",
    "    )\n",
    "    fig.show()\n",
    "\n",
    "# Mostrar selector + gráfico\n",
    "widgets.interact(plot_scatter, productos=selector);\n"
   ]
  }
 ],
 "metadata": {
  "kernelspec": {
   "display_name": "labo_III",
   "language": "python",
   "name": "python3"
  },
  "language_info": {
   "codemirror_mode": {
    "name": "ipython",
    "version": 3
   },
   "file_extension": ".py",
   "mimetype": "text/x-python",
   "name": "python",
   "nbconvert_exporter": "python",
   "pygments_lexer": "ipython3",
   "version": "3.9.21"
  }
 },
 "nbformat": 4,
 "nbformat_minor": 5
}
