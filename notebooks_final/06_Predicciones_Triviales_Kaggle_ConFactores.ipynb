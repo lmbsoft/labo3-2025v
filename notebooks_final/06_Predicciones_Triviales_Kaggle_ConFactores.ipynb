{
 "cells": [
  {
   "cell_type": "markdown",
   "id": "1ad03d1c",
   "metadata": {},
   "source": [
    "## Ajuste de predicciones con factores multiplicativos\n",
    "\n",
    "En esta sección aplicamos **factores de ajuste** a cada predicción generada para evaluar la sensibilidad en la competencia de Kaggle.  \n",
    "Los factores considerados son:\n",
    "\n",
    "- 0.98 (reducción del 2%)\n",
    "- 0.99 (reducción del 1%)\n",
    "- 1.01 (aumento del 1%)\n",
    "- 1.02 (aumento del 2%)\n",
    "\n",
    "Se generan nuevos archivos `.csv` con los sufijos correspondientes, por ejemplo:\n",
    "\n",
    "- `pred_trivial_avg_201901_201912_x0.98.csv`\n",
    "- `pred_trivial_last_201912_x1.02.csv`\n"
   ]
  },
  {
   "cell_type": "markdown",
   "id": "ed032eef",
   "metadata": {},
   "source": [
    "### ✅ Código actualizado para guardar en subcarpeta predicciones/"
   ]
  },
  {
   "cell_type": "code",
   "execution_count": 4,
   "id": "8c9c9997",
   "metadata": {},
   "outputs": [],
   "source": [
    "import os\n",
    "import pandas as pd\n",
    "\n",
    "def aplicar_factores_y_guardar(path_pred_csv, factores=[0.98, 0.99, 1.01, 1.02], output_dir=\"predicciones\"):\n",
    "    \"\"\"\n",
    "    Toma un archivo CSV de predicción y genera versiones ajustadas multiplicando la columna 'tn'\n",
    "    y las guarda en una carpeta de salida especificada.\n",
    "    \"\"\"\n",
    "    # Crear subcarpeta si no existe\n",
    "    os.makedirs(output_dir, exist_ok=True)\n",
    "\n",
    "    # Nombre base sin extensión\n",
    "    base = os.path.splitext(os.path.basename(path_pred_csv))[0]\n",
    "\n",
    "    # Leer archivo\n",
    "    df_pred = pd.read_csv(path_pred_csv)\n",
    "\n",
    "    # Generar versiones escaladas\n",
    "    for f in factores:\n",
    "        df_ajustada = df_pred.copy()\n",
    "        df_ajustada['tn'] = df_ajustada['tn'] * f\n",
    "        nombre = f\"{base}_x{f:.2f}.csv\"\n",
    "        path_salida = os.path.join(output_dir, nombre)\n",
    "        df_ajustada.to_csv(path_salida, index=False)\n",
    "        print(f\"Archivo generado: {path_salida}\")\n"
   ]
  },
  {
   "cell_type": "markdown",
   "id": "a530ca1c",
   "metadata": {},
   "source": [
    "### 🔁 Loop para aplicarlo a todos los archivos base\n",
    "\n"
   ]
  },
  {
   "cell_type": "code",
   "execution_count": 5,
   "id": "287f8ae6",
   "metadata": {},
   "outputs": [
    {
     "name": "stdout",
     "output_type": "stream",
     "text": [
      "Archivo generado: predicciones\\pred_trivial_avg_201807_201912_x0.98.csv\n",
      "Archivo generado: predicciones\\pred_trivial_avg_201807_201912_x0.99.csv\n",
      "Archivo generado: predicciones\\pred_trivial_avg_201807_201912_x1.01.csv\n",
      "Archivo generado: predicciones\\pred_trivial_avg_201807_201912_x1.02.csv\n"
     ]
    }
   ],
   "source": [
    "# Lista de archivos base\n",
    "archivos = [\n",
    "    \"pred_trivial_avg_201807_201912.csv\"\n",
    "]\n",
    "\n",
    "# Aplicar factores y guardar en subcarpeta\n",
    "for archivo in archivos:\n",
    "    aplicar_factores_y_guardar(archivo)\n"
   ]
  },
  {
   "cell_type": "markdown",
   "id": "7f5c1dc8",
   "metadata": {},
   "source": [
    "### ✅ Función: aplicar ruido normal aleatorio"
   ]
  },
  {
   "cell_type": "code",
   "execution_count": 16,
   "id": "c75ffe05",
   "metadata": {},
   "outputs": [],
   "source": [
    "import numpy as np\n",
    "\n",
    "\n",
    "def aplicar_ruido_aleatorio(path_pred_csv, std_dev=0.01, output_dir=\"predicciones\", seed=None):\n",
    "    \"\"\"\n",
    "    Aplica ruido aleatorio multiplicativo con distribución normal N(1, std_dev) a la columna 'tn'.\n",
    "    Guarda el resultado en la subcarpeta especificada.\n",
    "    \"\"\"\n",
    "    # Semilla para reproducibilidad (opcional)\n",
    "    if seed is not None:\n",
    "        np.random.seed(seed)\n",
    "\n",
    "    # Crear carpeta si no existe\n",
    "    os.makedirs(output_dir, exist_ok=True)\n",
    "\n",
    "    # Cargar archivo\n",
    "    df_pred = pd.read_csv(path_pred_csv)\n",
    "    n = len(df_pred)\n",
    "\n",
    "    # Generar factores aleatorios desde N(1, std_dev)\n",
    "    factores = np.random.normal(loc=0.99, scale=std_dev, size=n)\n",
    "\n",
    "    # Aplicar factores\n",
    "    df_pred['tn'] = df_pred['tn'] * factores\n",
    "\n",
    "    # Guardar\n",
    "    base = os.path.splitext(os.path.basename(path_pred_csv))[0]\n",
    "    nombre_salida = f\"{base}_ruidoN_{int(std_dev*100)}p.csv\"\n",
    "    path_salida = os.path.join(output_dir, nombre_salida)\n",
    "\n",
    "    df_pred.to_csv(path_salida, index=False)\n",
    "    print(f\"Archivo generado con ruido: {path_salida}\")\n"
   ]
  },
  {
   "cell_type": "markdown",
   "id": "0f51ff98",
   "metadata": {},
   "source": [
    "### 🧪 Aplicamos función con ruido aleatorio"
   ]
  },
  {
   "cell_type": "code",
   "execution_count": 17,
   "id": "0541a352",
   "metadata": {},
   "outputs": [
    {
     "name": "stdout",
     "output_type": "stream",
     "text": [
      "Archivo generado con ruido: predicciones\\pred_trivial_avg_201901_201912_ruidoN_2p.csv\n"
     ]
    }
   ],
   "source": [
    "aplicar_ruido_aleatorio(\"pred_trivial_avg_201901_201912.csv\", std_dev=0.025, seed=17)"
   ]
  }
 ],
 "metadata": {
  "kernelspec": {
   "display_name": "labo_III",
   "language": "python",
   "name": "python3"
  },
  "language_info": {
   "codemirror_mode": {
    "name": "ipython",
    "version": 3
   },
   "file_extension": ".py",
   "mimetype": "text/x-python",
   "name": "python",
   "nbconvert_exporter": "python",
   "pygments_lexer": "ipython3",
   "version": "3.9.21"
  }
 },
 "nbformat": 4,
 "nbformat_minor": 5
}
