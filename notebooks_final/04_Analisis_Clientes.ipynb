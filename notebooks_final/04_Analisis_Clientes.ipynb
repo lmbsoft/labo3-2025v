{
 "cells": [
  {
   "cell_type": "markdown",
   "id": "fdc440e0",
   "metadata": {},
   "source": [
    "# Análisis de comportamiento de clientes (`customer_id`)\n",
    "\n",
    "En este notebook exploramos los patrones de compra de los clientes. Aplicaremos un enfoque **Top-Down** y **Bottom-Up** para responder preguntas como:\n",
    "\n",
    "- ¿Cuáles son los clientes más importantes por volumen?\n",
    "- ¿Tienen patrones de compra estables o erráticos?\n",
    "- ¿Hay clientes que solo compran ciertos meses o familias?\n",
    "\n",
    "El objetivo es generar insights que luego puedan alimentar modelos o reglas de negocio.\n"
   ]
  },
  {
   "cell_type": "markdown",
   "id": "59de75c8",
   "metadata": {},
   "source": [
    "## Carga de librerías"
   ]
  },
  {
   "cell_type": "code",
   "execution_count": 1,
   "id": "efdb6c30",
   "metadata": {},
   "outputs": [],
   "source": [
    "\n",
    "import pandas as pd\n",
    "import numpy as np\n",
    "import matplotlib.pyplot as plt\n",
    "import seaborn as sns\n",
    "from ipywidgets import interact\n"
   ]
  },
  {
   "cell_type": "markdown",
   "id": "a1aa3be6",
   "metadata": {},
   "source": [
    "## Top‑Down: Clientes con mayor volumen total"
   ]
  },
  {
   "cell_type": "code",
   "execution_count": 2,
   "id": "b481a4fe",
   "metadata": {},
   "outputs": [
    {
     "ename": "NameError",
     "evalue": "name 'df_all' is not defined",
     "output_type": "error",
     "traceback": [
      "\u001b[1;31m---------------------------------------------------------------------------\u001b[0m",
      "\u001b[1;31mNameError\u001b[0m                                 Traceback (most recent call last)",
      "Cell \u001b[1;32mIn[2], line 2\u001b[0m\n\u001b[0;32m      1\u001b[0m \u001b[38;5;66;03m# Clientes con mayor volumen total\u001b[39;00m\n\u001b[1;32m----> 2\u001b[0m clientes_top \u001b[38;5;241m=\u001b[39m \u001b[43mdf_all\u001b[49m\u001b[38;5;241m.\u001b[39mgroupby(\u001b[38;5;124m'\u001b[39m\u001b[38;5;124mcustomer_id\u001b[39m\u001b[38;5;124m'\u001b[39m)[\u001b[38;5;124m'\u001b[39m\u001b[38;5;124mtn\u001b[39m\u001b[38;5;124m'\u001b[39m]\u001b[38;5;241m.\u001b[39msum()\u001b[38;5;241m.\u001b[39msort_values(ascending\u001b[38;5;241m=\u001b[39m\u001b[38;5;28;01mFalse\u001b[39;00m)\u001b[38;5;241m.\u001b[39mhead(\u001b[38;5;241m20\u001b[39m)\n\u001b[0;32m      4\u001b[0m clientes_top\u001b[38;5;241m.\u001b[39mplot(kind\u001b[38;5;241m=\u001b[39m\u001b[38;5;124m'\u001b[39m\u001b[38;5;124mbar\u001b[39m\u001b[38;5;124m'\u001b[39m, figsize\u001b[38;5;241m=\u001b[39m(\u001b[38;5;241m10\u001b[39m,\u001b[38;5;241m4\u001b[39m), color\u001b[38;5;241m=\u001b[39m\u001b[38;5;124m'\u001b[39m\u001b[38;5;124mteal\u001b[39m\u001b[38;5;124m'\u001b[39m)\n\u001b[0;32m      5\u001b[0m plt\u001b[38;5;241m.\u001b[39mtitle(\u001b[38;5;124m'\u001b[39m\u001b[38;5;124mTop 20 clientes por toneladas compradas\u001b[39m\u001b[38;5;124m'\u001b[39m)\n",
      "\u001b[1;31mNameError\u001b[0m: name 'df_all' is not defined"
     ]
    }
   ],
   "source": [
    "\n",
    "# Clientes con mayor volumen total\n",
    "clientes_top = df_all.groupby('customer_id')['tn'].sum().sort_values(ascending=False).head(20)\n",
    "\n",
    "clientes_top.plot(kind='bar', figsize=(10,4), color='teal')\n",
    "plt.title('Top 20 clientes por toneladas compradas')\n",
    "plt.ylabel('Toneladas')\n",
    "plt.xlabel('ID Cliente')\n",
    "plt.xticks(rotation=45)\n",
    "plt.tight_layout()\n",
    "plt.show()\n"
   ]
  },
  {
   "cell_type": "markdown",
   "id": "0dffeb2a",
   "metadata": {},
   "source": [
    "## Bottom‑Up: Evolución mensual de cada cliente (interactivo)"
   ]
  },
  {
   "cell_type": "code",
   "execution_count": null,
   "id": "8e83f9fa",
   "metadata": {},
   "outputs": [],
   "source": [
    "\n",
    "# Tabla de toneladas por mes y cliente\n",
    "pivot_clientes = df_all.pivot_table(index='periodo', columns='customer_id', values='tn', aggfunc='sum', fill_value=0)\n",
    "\n",
    "@interact(cliente=sorted(pivot_clientes.columns))\n",
    "def grafico_cliente(cliente):\n",
    "    pivot_clientes[cliente].plot(figsize=(10,3))\n",
    "    plt.title(f'Evolución mensual de compras - Cliente {cliente}')\n",
    "    plt.ylabel('Toneladas')\n",
    "    plt.xlabel('Periodo')\n",
    "    plt.xticks(rotation=45)\n",
    "    plt.grid(True)\n",
    "    plt.tight_layout()\n",
    "    plt.show()\n"
   ]
  },
  {
   "cell_type": "markdown",
   "id": "87e5cec2",
   "metadata": {},
   "source": [
    "## Estabilidad de compras: ¿Qué tan constantes son los clientes?"
   ]
  },
  {
   "cell_type": "code",
   "execution_count": null,
   "id": "801d270f",
   "metadata": {},
   "outputs": [],
   "source": [
    "\n",
    "# Coeficiente de variación por cliente\n",
    "cv_clientes = pivot_clientes.std() / pivot_clientes.mean()\n",
    "cv_clientes = cv_clientes.replace([np.inf, -np.inf], np.nan).dropna()\n",
    "\n",
    "cv_clientes.hist(bins=30, figsize=(6,3))\n",
    "plt.title('Distribución del Coef. de Variación entre clientes')\n",
    "plt.xlabel('CV (Desvío / Media)')\n",
    "plt.ylabel('Cantidad de clientes')\n",
    "plt.grid(True)\n",
    "plt.tight_layout()\n",
    "plt.show()\n"
   ]
  },
  {
   "cell_type": "markdown",
   "id": "4d0c45dc",
   "metadata": {},
   "source": [
    "## Preferencias por familia de producto (`cat1`)"
   ]
  },
  {
   "cell_type": "code",
   "execution_count": null,
   "id": "9bfaf321",
   "metadata": {},
   "outputs": [],
   "source": [
    "\n",
    "# Top clientes por familia\n",
    "df_familia = df_all.groupby(['customer_id', 'cat1'])['tn'].sum().reset_index()\n",
    "pivot_familia = df_familia.pivot(index='customer_id', columns='cat1', values='tn').fillna(0)\n",
    "\n",
    "pivot_familia_norm = pivot_familia.div(pivot_familia.sum(axis=1), axis=0)  # normalizar\n",
    "\n",
    "pivot_familia_norm.sample(20).plot(kind='bar', stacked=True, figsize=(12,5), colormap='tab20')\n",
    "plt.title('Distribución de familias en 20 clientes (aleatorios)')\n",
    "plt.ylabel('Proporción del total comprado')\n",
    "plt.xlabel('Cliente')\n",
    "plt.xticks(rotation=45)\n",
    "plt.tight_layout()\n",
    "plt.show()\n"
   ]
  }
 ],
 "metadata": {
  "kernelspec": {
   "display_name": "labo_III",
   "language": "python",
   "name": "python3"
  },
  "language_info": {
   "codemirror_mode": {
    "name": "ipython",
    "version": 3
   },
   "file_extension": ".py",
   "mimetype": "text/x-python",
   "name": "python",
   "nbconvert_exporter": "python",
   "pygments_lexer": "ipython3",
   "version": "3.9.21"
  }
 },
 "nbformat": 4,
 "nbformat_minor": 5
}
