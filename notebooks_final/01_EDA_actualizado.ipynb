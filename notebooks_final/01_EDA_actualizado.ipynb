{
 "cells": [
  {
   "cell_type": "markdown",
   "id": "dfcfab40",
   "metadata": {},
   "source": [
    "# 01_EDA – Análisis Exploratorio de Datos  \n",
    "Este notebook corresponde a la fase **Data Understanding** (CRISP‑DM) del caso de forecasting M + 2.\n",
    "\n",
    "Se trabajará con:\n",
    "- Ventas (`sell-in_muestra.txt`)\n",
    "- Maestro de productos (`tb_productos.txt`)\n",
    "- Stocks (`tb_stocks.txt`)\n",
    "\n",
    "Y se desarrollarán tres bloques de análisis:  \n",
    "**Top‑Down**, **Bottom‑Up** y **Patrones de Intermitencia**.  \n",
    "Además se generará un *dataset integrado* listo para la siguiente fase de *Data Preparation*.\n"
   ]
  },
  {
   "cell_type": "markdown",
   "id": "6c011f50",
   "metadata": {},
   "source": [
    "### Librerías y constantes  \n",
    "En la siguiente celda cargamos las librerías de análisis de datos y visualización, junto con las rutas de los archivos de entrada (asegúrate de que existan en la ubicación especificada)."
   ]
  },
  {
   "cell_type": "code",
   "execution_count": 1,
   "id": "57fd90a3",
   "metadata": {},
   "outputs": [],
   "source": [
    "\n",
    "import pandas as pd\n",
    "import numpy as np\n",
    "import matplotlib.pyplot as plt\n",
    "import seaborn as sns\n",
    "import plotly.express as px\n",
    "from ipywidgets import interact\n",
    "\n",
    "# --- Rutas de datos ---\n",
    "DATA_PATH = r\"C:\\Developer\\Laboratorio_III\\data\"\n",
    "SELL_IN_FILE = DATA_PATH + r\"\\sell-in.txt\"\n",
    "PRODUCT_FILE = DATA_PATH + r\"\\tb_productos.txt\"\n",
    "STOCK_FILE = DATA_PATH + r\"\\tb_stocks.txt\"\n"
   ]
  },
  {
   "cell_type": "markdown",
   "id": "d041feea",
   "metadata": {},
   "source": [
    "### Carga de datasets  \n",
    "Leemos los tres archivos TXT (delimitados por tabulaciones) y realizamos una primera inspección.  \n",
    "> **Nota:** El campo `periodo` se trata como **entero** porque en los archivos de origen ya viene de esa forma y será clave de unión entre tablas."
   ]
  },
  {
   "cell_type": "code",
   "execution_count": 2,
   "id": "6ba79a69",
   "metadata": {},
   "outputs": [
    {
     "data": {
      "text/html": [
       "<div>\n",
       "<style scoped>\n",
       "    .dataframe tbody tr th:only-of-type {\n",
       "        vertical-align: middle;\n",
       "    }\n",
       "\n",
       "    .dataframe tbody tr th {\n",
       "        vertical-align: top;\n",
       "    }\n",
       "\n",
       "    .dataframe thead th {\n",
       "        text-align: right;\n",
       "    }\n",
       "</style>\n",
       "<table border=\"1\" class=\"dataframe\">\n",
       "  <thead>\n",
       "    <tr style=\"text-align: right;\">\n",
       "      <th></th>\n",
       "      <th>periodo</th>\n",
       "      <th>customer_id</th>\n",
       "      <th>product_id</th>\n",
       "      <th>plan_precios_cuidados</th>\n",
       "      <th>cust_request_qty</th>\n",
       "      <th>cust_request_tn</th>\n",
       "      <th>tn</th>\n",
       "    </tr>\n",
       "  </thead>\n",
       "  <tbody>\n",
       "    <tr>\n",
       "      <th>0</th>\n",
       "      <td>201701</td>\n",
       "      <td>10234</td>\n",
       "      <td>20524</td>\n",
       "      <td>0</td>\n",
       "      <td>2</td>\n",
       "      <td>0.05300</td>\n",
       "      <td>0.05300</td>\n",
       "    </tr>\n",
       "    <tr>\n",
       "      <th>1</th>\n",
       "      <td>201701</td>\n",
       "      <td>10032</td>\n",
       "      <td>20524</td>\n",
       "      <td>0</td>\n",
       "      <td>1</td>\n",
       "      <td>0.13628</td>\n",
       "      <td>0.13628</td>\n",
       "    </tr>\n",
       "    <tr>\n",
       "      <th>2</th>\n",
       "      <td>201701</td>\n",
       "      <td>10217</td>\n",
       "      <td>20524</td>\n",
       "      <td>0</td>\n",
       "      <td>1</td>\n",
       "      <td>0.03028</td>\n",
       "      <td>0.03028</td>\n",
       "    </tr>\n",
       "    <tr>\n",
       "      <th>3</th>\n",
       "      <td>201701</td>\n",
       "      <td>10125</td>\n",
       "      <td>20524</td>\n",
       "      <td>0</td>\n",
       "      <td>1</td>\n",
       "      <td>0.02271</td>\n",
       "      <td>0.02271</td>\n",
       "    </tr>\n",
       "    <tr>\n",
       "      <th>4</th>\n",
       "      <td>201701</td>\n",
       "      <td>10012</td>\n",
       "      <td>20524</td>\n",
       "      <td>0</td>\n",
       "      <td>11</td>\n",
       "      <td>1.54452</td>\n",
       "      <td>1.54452</td>\n",
       "    </tr>\n",
       "  </tbody>\n",
       "</table>\n",
       "</div>"
      ],
      "text/plain": [
       "   periodo  customer_id  product_id  plan_precios_cuidados  cust_request_qty  \\\n",
       "0   201701        10234       20524                      0                 2   \n",
       "1   201701        10032       20524                      0                 1   \n",
       "2   201701        10217       20524                      0                 1   \n",
       "3   201701        10125       20524                      0                 1   \n",
       "4   201701        10012       20524                      0                11   \n",
       "\n",
       "   cust_request_tn       tn  \n",
       "0          0.05300  0.05300  \n",
       "1          0.13628  0.13628  \n",
       "2          0.03028  0.03028  \n",
       "3          0.02271  0.02271  \n",
       "4          1.54452  1.54452  "
      ]
     },
     "metadata": {},
     "output_type": "display_data"
    },
    {
     "data": {
      "text/html": [
       "<div>\n",
       "<style scoped>\n",
       "    .dataframe tbody tr th:only-of-type {\n",
       "        vertical-align: middle;\n",
       "    }\n",
       "\n",
       "    .dataframe tbody tr th {\n",
       "        vertical-align: top;\n",
       "    }\n",
       "\n",
       "    .dataframe thead th {\n",
       "        text-align: right;\n",
       "    }\n",
       "</style>\n",
       "<table border=\"1\" class=\"dataframe\">\n",
       "  <thead>\n",
       "    <tr style=\"text-align: right;\">\n",
       "      <th></th>\n",
       "      <th>cat1</th>\n",
       "      <th>cat2</th>\n",
       "      <th>cat3</th>\n",
       "      <th>brand</th>\n",
       "      <th>sku_size</th>\n",
       "      <th>product_id</th>\n",
       "      <th>descripcion</th>\n",
       "    </tr>\n",
       "  </thead>\n",
       "  <tbody>\n",
       "    <tr>\n",
       "      <th>0</th>\n",
       "      <td>FOODS</td>\n",
       "      <td>ADEREZOS</td>\n",
       "      <td>Aji Picante</td>\n",
       "      <td>NATURA</td>\n",
       "      <td>240</td>\n",
       "      <td>20609</td>\n",
       "      <td>Salsa Aji Picante</td>\n",
       "    </tr>\n",
       "    <tr>\n",
       "      <th>1</th>\n",
       "      <td>FOODS</td>\n",
       "      <td>ADEREZOS</td>\n",
       "      <td>Barbacoa</td>\n",
       "      <td>NATURA</td>\n",
       "      <td>250</td>\n",
       "      <td>20266</td>\n",
       "      <td>Salsa Barbacoa</td>\n",
       "    </tr>\n",
       "    <tr>\n",
       "      <th>2</th>\n",
       "      <td>FOODS</td>\n",
       "      <td>ADEREZOS</td>\n",
       "      <td>Barbacoa</td>\n",
       "      <td>NATURA</td>\n",
       "      <td>400</td>\n",
       "      <td>20325</td>\n",
       "      <td>Salsa Barbacoa</td>\n",
       "    </tr>\n",
       "    <tr>\n",
       "      <th>3</th>\n",
       "      <td>FOODS</td>\n",
       "      <td>ADEREZOS</td>\n",
       "      <td>Barbacoa</td>\n",
       "      <td>NATURA</td>\n",
       "      <td>500</td>\n",
       "      <td>20503</td>\n",
       "      <td>Salsa Barbacoa</td>\n",
       "    </tr>\n",
       "    <tr>\n",
       "      <th>4</th>\n",
       "      <td>FOODS</td>\n",
       "      <td>ADEREZOS</td>\n",
       "      <td>Chimichurri</td>\n",
       "      <td>NATURA</td>\n",
       "      <td>350</td>\n",
       "      <td>20797</td>\n",
       "      <td>Chimichurri</td>\n",
       "    </tr>\n",
       "  </tbody>\n",
       "</table>\n",
       "</div>"
      ],
      "text/plain": [
       "    cat1      cat2         cat3   brand  sku_size  product_id  \\\n",
       "0  FOODS  ADEREZOS  Aji Picante  NATURA       240       20609   \n",
       "1  FOODS  ADEREZOS     Barbacoa  NATURA       250       20266   \n",
       "2  FOODS  ADEREZOS     Barbacoa  NATURA       400       20325   \n",
       "3  FOODS  ADEREZOS     Barbacoa  NATURA       500       20503   \n",
       "4  FOODS  ADEREZOS  Chimichurri  NATURA       350       20797   \n",
       "\n",
       "         descripcion  \n",
       "0  Salsa Aji Picante  \n",
       "1     Salsa Barbacoa  \n",
       "2     Salsa Barbacoa  \n",
       "3     Salsa Barbacoa  \n",
       "4        Chimichurri  "
      ]
     },
     "metadata": {},
     "output_type": "display_data"
    },
    {
     "data": {
      "text/html": [
       "<div>\n",
       "<style scoped>\n",
       "    .dataframe tbody tr th:only-of-type {\n",
       "        vertical-align: middle;\n",
       "    }\n",
       "\n",
       "    .dataframe tbody tr th {\n",
       "        vertical-align: top;\n",
       "    }\n",
       "\n",
       "    .dataframe thead th {\n",
       "        text-align: right;\n",
       "    }\n",
       "</style>\n",
       "<table border=\"1\" class=\"dataframe\">\n",
       "  <thead>\n",
       "    <tr style=\"text-align: right;\">\n",
       "      <th></th>\n",
       "      <th>periodo</th>\n",
       "      <th>product_id</th>\n",
       "      <th>stock_final</th>\n",
       "    </tr>\n",
       "  </thead>\n",
       "  <tbody>\n",
       "    <tr>\n",
       "      <th>0</th>\n",
       "      <td>201810</td>\n",
       "      <td>20524</td>\n",
       "      <td>1.61267</td>\n",
       "    </tr>\n",
       "    <tr>\n",
       "      <th>1</th>\n",
       "      <td>201810</td>\n",
       "      <td>20311</td>\n",
       "      <td>2.93657</td>\n",
       "    </tr>\n",
       "    <tr>\n",
       "      <th>2</th>\n",
       "      <td>201810</td>\n",
       "      <td>20654</td>\n",
       "      <td>6.83269</td>\n",
       "    </tr>\n",
       "    <tr>\n",
       "      <th>3</th>\n",
       "      <td>201810</td>\n",
       "      <td>21005</td>\n",
       "      <td>1.01338</td>\n",
       "    </tr>\n",
       "    <tr>\n",
       "      <th>4</th>\n",
       "      <td>201810</td>\n",
       "      <td>20974</td>\n",
       "      <td>0.34595</td>\n",
       "    </tr>\n",
       "  </tbody>\n",
       "</table>\n",
       "</div>"
      ],
      "text/plain": [
       "   periodo  product_id  stock_final\n",
       "0   201810       20524      1.61267\n",
       "1   201810       20311      2.93657\n",
       "2   201810       20654      6.83269\n",
       "3   201810       21005      1.01338\n",
       "4   201810       20974      0.34595"
      ]
     },
     "metadata": {},
     "output_type": "display_data"
    }
   ],
   "source": [
    "\n",
    "def load_txt(path, **kwargs):\n",
    "    return pd.read_csv(path, sep=\"\\t\", engine=\"python\", **kwargs)\n",
    "\n",
    "df_sales  = load_txt(SELL_IN_FILE)\n",
    "df_prod   = load_txt(PRODUCT_FILE)\n",
    "df_stock  = load_txt(STOCK_FILE)\n",
    "\n",
    "# Verificamos tipo de dato de 'periodo'\n",
    "for df in [df_sales, df_stock]:\n",
    "    if df['periodo'].dtype != 'object':\n",
    "        df['periodo'] = df['periodo'].astype('int64')\n",
    "\n",
    "display(df_sales.head(), df_prod.head(), df_stock.head())\n"
   ]
  },
  {
   "cell_type": "markdown",
   "id": "f55ff329",
   "metadata": {},
   "source": [
    "### Estado inicial de los datos  \n",
    "Mostramos estructura y porcentaje de valores faltantes para entender calidad y posibles saneos."
   ]
  },
  {
   "cell_type": "code",
   "execution_count": 3,
   "id": "bb30c5fe",
   "metadata": {},
   "outputs": [
    {
     "name": "stdout",
     "output_type": "stream",
     "text": [
      "\n",
      "── Ventas ──\n",
      "<class 'pandas.core.frame.DataFrame'>\n",
      "RangeIndex: 2945818 entries, 0 to 2945817\n",
      "Data columns (total 7 columns):\n",
      " #   Column                 Dtype  \n",
      "---  ------                 -----  \n",
      " 0   periodo                int64  \n",
      " 1   customer_id            int64  \n",
      " 2   product_id             int64  \n",
      " 3   plan_precios_cuidados  int64  \n",
      " 4   cust_request_qty       int64  \n",
      " 5   cust_request_tn        float64\n",
      " 6   tn                     float64\n",
      "dtypes: float64(2), int64(5)\n",
      "memory usage: 157.3 MB\n"
     ]
    },
    {
     "data": {
      "text/plain": [
       "None"
      ]
     },
     "metadata": {},
     "output_type": "display_data"
    },
    {
     "data": {
      "text/plain": [
       "periodo                  0.0\n",
       "customer_id              0.0\n",
       "product_id               0.0\n",
       "plan_precios_cuidados    0.0\n",
       "cust_request_qty         0.0\n",
       "cust_request_tn          0.0\n",
       "tn                       0.0\n",
       "Name: %NA, dtype: float64"
      ]
     },
     "metadata": {},
     "output_type": "display_data"
    },
    {
     "name": "stdout",
     "output_type": "stream",
     "text": [
      "\n",
      "── Productos ──\n",
      "<class 'pandas.core.frame.DataFrame'>\n",
      "RangeIndex: 1251 entries, 0 to 1250\n",
      "Data columns (total 7 columns):\n",
      " #   Column       Non-Null Count  Dtype \n",
      "---  ------       --------------  ----- \n",
      " 0   cat1         1251 non-null   object\n",
      " 1   cat2         1251 non-null   object\n",
      " 2   cat3         1251 non-null   object\n",
      " 3   brand        1251 non-null   object\n",
      " 4   sku_size     1251 non-null   int64 \n",
      " 5   product_id   1251 non-null   int64 \n",
      " 6   descripcion  1251 non-null   object\n",
      "dtypes: int64(2), object(5)\n",
      "memory usage: 68.5+ KB\n"
     ]
    },
    {
     "data": {
      "text/plain": [
       "None"
      ]
     },
     "metadata": {},
     "output_type": "display_data"
    },
    {
     "data": {
      "text/plain": [
       "cat1           0.0\n",
       "cat2           0.0\n",
       "cat3           0.0\n",
       "brand          0.0\n",
       "sku_size       0.0\n",
       "product_id     0.0\n",
       "descripcion    0.0\n",
       "Name: %NA, dtype: float64"
      ]
     },
     "metadata": {},
     "output_type": "display_data"
    },
    {
     "name": "stdout",
     "output_type": "stream",
     "text": [
      "\n",
      "── Stocks ──\n",
      "<class 'pandas.core.frame.DataFrame'>\n",
      "RangeIndex: 13691 entries, 0 to 13690\n",
      "Data columns (total 3 columns):\n",
      " #   Column       Non-Null Count  Dtype  \n",
      "---  ------       --------------  -----  \n",
      " 0   periodo      13691 non-null  int64  \n",
      " 1   product_id   13691 non-null  int64  \n",
      " 2   stock_final  13691 non-null  float64\n",
      "dtypes: float64(1), int64(2)\n",
      "memory usage: 321.0 KB\n"
     ]
    },
    {
     "data": {
      "text/plain": [
       "None"
      ]
     },
     "metadata": {},
     "output_type": "display_data"
    },
    {
     "data": {
      "text/plain": [
       "periodo        0.0\n",
       "product_id     0.0\n",
       "stock_final    0.0\n",
       "Name: %NA, dtype: float64"
      ]
     },
     "metadata": {},
     "output_type": "display_data"
    }
   ],
   "source": [
    "\n",
    "for nombre, df in [('Ventas', df_sales), ('Productos', df_prod), ('Stocks', df_stock)]:\n",
    "    print(f\"\\n── {nombre} ──\")\n",
    "    display(df.info())\n",
    "    display(df.isna().mean().rename('%NA'))\n"
   ]
  },
  {
   "cell_type": "markdown",
   "id": "7a8d82d2",
   "metadata": {},
   "source": [
    "### Integración de datos  \n",
    "Unimos las tres fuentes sobre las claves `product_id` y `periodo` (cuando aplica) para obtener un **dataset unificado** (`df_all`). Guardamos el resultado en formato Parquet para reutilizarlo."
   ]
  },
  {
   "cell_type": "code",
   "execution_count": 4,
   "id": "504a1e76",
   "metadata": {},
   "outputs": [
    {
     "name": "stdout",
     "output_type": "stream",
     "text": [
      "Shape del dataset integrado: (2945818, 14)\n"
     ]
    },
    {
     "data": {
      "text/html": [
       "<div>\n",
       "<style scoped>\n",
       "    .dataframe tbody tr th:only-of-type {\n",
       "        vertical-align: middle;\n",
       "    }\n",
       "\n",
       "    .dataframe tbody tr th {\n",
       "        vertical-align: top;\n",
       "    }\n",
       "\n",
       "    .dataframe thead th {\n",
       "        text-align: right;\n",
       "    }\n",
       "</style>\n",
       "<table border=\"1\" class=\"dataframe\">\n",
       "  <thead>\n",
       "    <tr style=\"text-align: right;\">\n",
       "      <th></th>\n",
       "      <th>periodo</th>\n",
       "      <th>customer_id</th>\n",
       "      <th>product_id</th>\n",
       "      <th>plan_precios_cuidados</th>\n",
       "      <th>cust_request_qty</th>\n",
       "      <th>cust_request_tn</th>\n",
       "      <th>tn</th>\n",
       "      <th>cat1</th>\n",
       "      <th>cat2</th>\n",
       "      <th>cat3</th>\n",
       "      <th>brand</th>\n",
       "      <th>sku_size</th>\n",
       "      <th>descripcion</th>\n",
       "      <th>stock_final</th>\n",
       "    </tr>\n",
       "  </thead>\n",
       "  <tbody>\n",
       "    <tr>\n",
       "      <th>44019</th>\n",
       "      <td>201701</td>\n",
       "      <td>10001</td>\n",
       "      <td>20001</td>\n",
       "      <td>0</td>\n",
       "      <td>11</td>\n",
       "      <td>99.43861</td>\n",
       "      <td>99.43861</td>\n",
       "      <td>HC</td>\n",
       "      <td>ROPA LAVADO</td>\n",
       "      <td>Liquido</td>\n",
       "      <td>ARIEL</td>\n",
       "      <td>3000.0</td>\n",
       "      <td>genoma</td>\n",
       "      <td>NaN</td>\n",
       "    </tr>\n",
       "    <tr>\n",
       "      <th>44020</th>\n",
       "      <td>201701</td>\n",
       "      <td>10063</td>\n",
       "      <td>20001</td>\n",
       "      <td>0</td>\n",
       "      <td>1</td>\n",
       "      <td>0.12312</td>\n",
       "      <td>0.12312</td>\n",
       "      <td>HC</td>\n",
       "      <td>ROPA LAVADO</td>\n",
       "      <td>Liquido</td>\n",
       "      <td>ARIEL</td>\n",
       "      <td>3000.0</td>\n",
       "      <td>genoma</td>\n",
       "      <td>NaN</td>\n",
       "    </tr>\n",
       "    <tr>\n",
       "      <th>44021</th>\n",
       "      <td>201701</td>\n",
       "      <td>10080</td>\n",
       "      <td>20001</td>\n",
       "      <td>0</td>\n",
       "      <td>1</td>\n",
       "      <td>0.24625</td>\n",
       "      <td>0.24625</td>\n",
       "      <td>HC</td>\n",
       "      <td>ROPA LAVADO</td>\n",
       "      <td>Liquido</td>\n",
       "      <td>ARIEL</td>\n",
       "      <td>3000.0</td>\n",
       "      <td>genoma</td>\n",
       "      <td>NaN</td>\n",
       "    </tr>\n",
       "    <tr>\n",
       "      <th>44022</th>\n",
       "      <td>201701</td>\n",
       "      <td>10094</td>\n",
       "      <td>20001</td>\n",
       "      <td>0</td>\n",
       "      <td>1</td>\n",
       "      <td>1.23123</td>\n",
       "      <td>1.23123</td>\n",
       "      <td>HC</td>\n",
       "      <td>ROPA LAVADO</td>\n",
       "      <td>Liquido</td>\n",
       "      <td>ARIEL</td>\n",
       "      <td>3000.0</td>\n",
       "      <td>genoma</td>\n",
       "      <td>NaN</td>\n",
       "    </tr>\n",
       "    <tr>\n",
       "      <th>44023</th>\n",
       "      <td>201701</td>\n",
       "      <td>10184</td>\n",
       "      <td>20001</td>\n",
       "      <td>0</td>\n",
       "      <td>1</td>\n",
       "      <td>0.06716</td>\n",
       "      <td>0.06716</td>\n",
       "      <td>HC</td>\n",
       "      <td>ROPA LAVADO</td>\n",
       "      <td>Liquido</td>\n",
       "      <td>ARIEL</td>\n",
       "      <td>3000.0</td>\n",
       "      <td>genoma</td>\n",
       "      <td>NaN</td>\n",
       "    </tr>\n",
       "  </tbody>\n",
       "</table>\n",
       "</div>"
      ],
      "text/plain": [
       "       periodo  customer_id  product_id  plan_precios_cuidados  \\\n",
       "44019   201701        10001       20001                      0   \n",
       "44020   201701        10063       20001                      0   \n",
       "44021   201701        10080       20001                      0   \n",
       "44022   201701        10094       20001                      0   \n",
       "44023   201701        10184       20001                      0   \n",
       "\n",
       "       cust_request_qty  cust_request_tn        tn cat1         cat2     cat3  \\\n",
       "44019                11         99.43861  99.43861   HC  ROPA LAVADO  Liquido   \n",
       "44020                 1          0.12312   0.12312   HC  ROPA LAVADO  Liquido   \n",
       "44021                 1          0.24625   0.24625   HC  ROPA LAVADO  Liquido   \n",
       "44022                 1          1.23123   1.23123   HC  ROPA LAVADO  Liquido   \n",
       "44023                 1          0.06716   0.06716   HC  ROPA LAVADO  Liquido   \n",
       "\n",
       "       brand  sku_size descripcion  stock_final  \n",
       "44019  ARIEL    3000.0      genoma          NaN  \n",
       "44020  ARIEL    3000.0      genoma          NaN  \n",
       "44021  ARIEL    3000.0      genoma          NaN  \n",
       "44022  ARIEL    3000.0      genoma          NaN  \n",
       "44023  ARIEL    3000.0      genoma          NaN  "
      ]
     },
     "execution_count": 4,
     "metadata": {},
     "output_type": "execute_result"
    }
   ],
   "source": [
    "\n",
    "df_all = (df_sales\n",
    "          .merge(df_prod,  on='product_id',              how='left')\n",
    "          .merge(df_stock, on=['product_id', 'periodo'], how='left')\n",
    "         )\n",
    "\n",
    "# Orden cronológico\n",
    "df_all = df_all.sort_values(['periodo', 'product_id'])\n",
    "\n",
    "df_all.to_parquet(DATA_PATH + r\"\\dataset_integrado.parquet\")\n",
    "print(\"Shape del dataset integrado:\", df_all.shape)\n",
    "df_all.head()\n"
   ]
  },
  {
   "cell_type": "markdown",
   "id": "a20cadec",
   "metadata": {},
   "source": [
    "## Análisis Top‑Down  \n",
    "El enfoque Top‑Down parte del total del negocio y baja a nivel de **familia de productos** (`cat1`). Nos permite detectar tendencias globales y estacionalidad antes de profundizar en SKU."
   ]
  },
  {
   "cell_type": "code",
   "execution_count": 14,
   "id": "9ac7f724",
   "metadata": {},
   "outputs": [
    {
     "data": {
      "image/png": "[encoded data removed]",
      "text/plain": [
       "<Figure size 1200x400 with 1 Axes>"
      ]
     },
     "metadata": {},
     "output_type": "display_data"
    },
    {
     "data": {
      "application/vnd.jupyter.widget-view+json": {
       "model_id": "5b4d50288bb94903b625d2bdfb413869",
       "version_major": 2,
       "version_minor": 0
      },
      "text/plain": [
       "interactive(children=(Dropdown(description='familia', index=1, options=('FOODS', 'HC', 'PC', 'REF'), value='HC…"
      ]
     },
     "metadata": {},
     "output_type": "display_data"
    }
   ],
   "source": [
    "\n",
    "# Agregamos toneladas por periodo y familia\n",
    "agg_family = (df_all\n",
    "              .groupby(['periodo', 'cat1'], observed=True)['tn']\n",
    "              .sum()\n",
    "              .reset_index())\n",
    "\n",
    "pivot = agg_family.pivot(index='periodo', columns='cat1', values='tn')\n",
    "\n",
    "# Visualización estática\n",
    "pivot.plot(figsize=(12,4))\n",
    "plt.title('Toneladas vendidas por familia')\n",
    "plt.ylabel('tn')\n",
    "plt.xlabel('periodo (AAAAMM)')\n",
    "plt.show()\n",
    "\n",
    "# Visualización interactiva para profundizar en una familia\n",
    "@interact(familia=sorted(df_all['cat1'].dropna().unique()))\n",
    "def zoom_familia(familia='HC'):\n",
    "    ts = pivot[familia]\n",
    "    ts.plot(figsize=(10,3))\n",
    "    plt.title(f'Ventas {familia}')\n",
    "    plt.ylabel('tn')\n",
    "    plt.xlabel('periodo')\n",
    "    plt.show()\n"
   ]
  },
  {
   "cell_type": "markdown",
   "id": "6058fefd",
   "metadata": {},
   "source": [
    "## Análisis Bottom‑Up  \n",
    "Ahora partimos de cada **SKU** para caracterizar la importancia (ABC) y la volatilidad (XYZ) de la demanda. Esto orientará la selección de modelos por tipo de serie."
   ]
  },
  {
   "cell_type": "code",
   "execution_count": null,
   "id": "0b3d3336",
   "metadata": {},
   "outputs": [],
   "source": [
    "\n",
    "# ABC basado en contribución acumulada a las ventas totales\n",
    "sku_tot = df_all.groupby('product_id')['tn'].sum().sort_values(ascending=False)\n",
    "cum_pct = sku_tot.cumsum() / sku_tot.sum()\n",
    "abc_class = pd.cut(cum_pct, bins=[0, .8, .95, 1], labels=list('ABC'))\n",
    "abc_df = pd.DataFrame({'total_tn': sku_tot, 'cum_pct': cum_pct, 'ABC': abc_class})\n",
    "\n",
    "# XYZ usando Coeficiente de Variación de la demanda mensual\n",
    "def cov(series):\n",
    "    mean = series.mean()\n",
    "    return np.nan if mean == 0 else series.std()/mean\n",
    "\n",
    "cov_vals = df_all.groupby('product_id')['tn'].apply(cov)\n",
    "xyz_class = pd.cut(cov_vals, bins=[-np.inf, .5, 1, np.inf], labels=list('XYZ'))\n",
    "abc_df['XYZ'] = xyz_class\n",
    "\n",
    "display(abc_df.head())\n",
    "\n",
    "# Heatmap ABC‑XYZ\n",
    "matrix = pd.crosstab(abc_df['ABC'], abc_df['XYZ'])\n",
    "sns.heatmap(matrix, annot=True, fmt='d')\n",
    "plt.title('Matriz ABC‑XYZ')\n",
    "plt.show()\n"
   ]
  },
  {
   "cell_type": "markdown",
   "id": "d6e28fff",
   "metadata": {},
   "source": [
    "### Intermitencia de la demanda  \n",
    "Evaluamos qué tan frecuentes son las ventas por SKU (0 = ventas todos los meses, 1 = nunca). Series muy intermitentes requerirán técnicas específicas (p.ej., Croston)."
   ]
  },
  {
   "cell_type": "code",
   "execution_count": null,
   "id": "c4a4347e",
   "metadata": {},
   "outputs": [],
   "source": [
    "\n",
    "# Matriz periodo × SKU\n",
    "sku_mat = df_all.pivot_table(index='periodo', columns='product_id', values='tn', fill_value=0)\n",
    "\n",
    "def intermittency(series):\n",
    "    return 1 - (series > 0).sum() / len(series)\n",
    "\n",
    "interm_values = sku_mat.apply(intermittency).sort_values()\n",
    "\n",
    "interm_values.hist(bins=20, figsize=(6,3))\n",
    "plt.title('Distribución de intermitencia por SKU')\n",
    "plt.xlabel('Intermitencia (0‑1)')\n",
    "plt.show()\n"
   ]
  },
  {
   "cell_type": "markdown",
   "id": "ec65e737",
   "metadata": {},
   "source": [
    "## Resumen de hallazgos preliminares  \n",
    "Guardamos un *diccionario* con métricas clave del dataset para referencia rápida."
   ]
  },
  {
   "cell_type": "code",
   "execution_count": null,
   "id": "6324c289",
   "metadata": {},
   "outputs": [],
   "source": [
    "\n",
    "resumen = {\n",
    "    'total_skus': df_prod['product_id'].nunique(),\n",
    "    'rango_periodo': (df_all['periodo'].min(), df_all['periodo'].max()),\n",
    "    'intermitencia_media': interm_values.mean()\n",
    "}\n",
    "resumen\n"
   ]
  },
  {
   "cell_type": "markdown",
   "id": "3f2bcdb7",
   "metadata": {},
   "source": [
    "## Próximos pasos  \n",
    "- **Ingeniería de variables temporales** (lags, ventanas móviles, flags de lanzamientos).\n",
    "- Dividir en *train/test* con ventanas deslizantes (horizonte +2).\n",
    "- Benchmark inicial con modelos **Naïve** y **ETS** para establecer línea base."
   ]
  }
 ],
 "metadata": {
  "kernelspec": {
   "display_name": "labo_III",
   "language": "python",
   "name": "python3"
  },
  "language_info": {
   "codemirror_mode": {
    "name": "ipython",
    "version": 3
   },
   "file_extension": ".py",
   "mimetype": "text/x-python",
   "name": "python",
   "nbconvert_exporter": "python",
   "pygments_lexer": "ipython3",
   "version": "3.9.21"
  }
 },
 "nbformat": 4,
 "nbformat_minor": 5
}
