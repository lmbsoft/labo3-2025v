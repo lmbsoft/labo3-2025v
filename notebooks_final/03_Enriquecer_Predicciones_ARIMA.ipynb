{
 "cells": [
  {
   "cell_type": "markdown",
   "id": "ce4f7f18",
   "metadata": {},
   "source": [
    "# Enriquecimiento de predicciones ARIMA con datos reales de ventas\n",
    "\n",
    "Este notebook cruza las predicciones generadas por un modelo ARIMA con los datos históricos del archivo `sell-in.txt`, específicamente para el período `201912`.\n",
    "\n",
    "El objetivo es comparar o enriquecer la predicción con la venta real (`tn`) observada ese mes.\n"
   ]
  },
  {
   "cell_type": "code",
   "execution_count": 2,
   "id": "646a3b1d",
   "metadata": {},
   "outputs": [],
   "source": [
    "\n",
    "import pandas as pd\n"
   ]
  },
  {
   "cell_type": "markdown",
   "id": "9fce4e42",
   "metadata": {},
   "source": [
    "## Carga de archivos"
   ]
  },
  {
   "cell_type": "code",
   "execution_count": 7,
   "id": "24ee9609",
   "metadata": {},
   "outputs": [],
   "source": [
    "\n",
    "# Definir rutas\n",
    "PATH_FORECAST = \"C:\\\\Developer\\\\Laboratorio_III\\\\data\\\\forecast_product_phase1.csv\"\n",
    "PATH_SELLIN = \"C:\\\\Developer\\\\Laboratorio_III\\\\data\\\\sell-in.txt\"\n",
    "\n",
    "# Cargar predicciones\n",
    "df_pred = pd.read_csv(PATH_FORECAST)\n",
    "\n",
    "# Cargar ventas\n",
    "df_sellin = pd.read_csv(PATH_SELLIN, sep=\"\\t\")\n",
    "df_sellin['periodo'] = df_sellin['periodo'].astype(str)\n"
   ]
  },
  {
   "cell_type": "markdown",
   "id": "c92b2b3a",
   "metadata": {},
   "source": [
    "## Cruce de predicción con datos reales del período 201912"
   ]
  },
  {
   "cell_type": "code",
   "execution_count": 8,
   "id": "a1cbe850",
   "metadata": {},
   "outputs": [],
   "source": [
    "\n",
    "# Filtrar ventas de diciembre 2019\n",
    "df_dic = df_sellin[df_sellin['periodo'] == '201912']\n",
    "\n",
    "# Agregar ventas por producto\n",
    "ventas_diciembre = df_dic.groupby('product_id')['tn'].sum().reset_index()\n",
    "ventas_diciembre = ventas_diciembre.rename(columns={'tn': 'tn_real'})\n",
    "\n",
    "# Cruce con predicciones\n",
    "df_enriquecido = df_pred.merge(ventas_diciembre, on='product_id', how='left')\n"
   ]
  },
  {
   "cell_type": "markdown",
   "id": "dcc70587",
   "metadata": {},
   "source": [
    "## Guardado del archivo enriquecido"
   ]
  },
  {
   "cell_type": "code",
   "execution_count": 9,
   "id": "d5f3cfc8",
   "metadata": {},
   "outputs": [
    {
     "name": "stdout",
     "output_type": "stream",
     "text": [
      "Archivo generado: forecast_product_phase1_con_real.csv\n"
     ]
    }
   ],
   "source": [
    "\n",
    "df_enriquecido.to_csv(\"forecast_product_phase1_con_real.csv\", index=False)\n",
    "print(\"Archivo generado: forecast_product_phase1_con_real.csv\")\n"
   ]
  }
 ],
 "metadata": {
  "kernelspec": {
   "display_name": "labo_III",
   "language": "python",
   "name": "python3"
  },
  "language_info": {
   "codemirror_mode": {
    "name": "ipython",
    "version": 3
   },
   "file_extension": ".py",
   "mimetype": "text/x-python",
   "name": "python",
   "nbconvert_exporter": "python",
   "pygments_lexer": "ipython3",
   "version": "3.9.21"
  }
 },
 "nbformat": 4,
 "nbformat_minor": 5
}
