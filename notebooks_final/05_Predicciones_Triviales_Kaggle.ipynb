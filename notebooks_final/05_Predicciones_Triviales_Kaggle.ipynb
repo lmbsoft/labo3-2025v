{
 "cells": [
  {
   "cell_type": "markdown",
   "id": "ca5c9e29",
   "metadata": {},
   "source": [
    "# Predicciones triviales para productos objetivo – Subida inicial a Kaggle\n",
    "\n",
    "Este notebook tiene como objetivo generar predicciones **triviales** para un conjunto de productos definidos por el profesor y mentor de la materia.  \n",
    "Estas predicciones no utilizan modelos estadísticos ni de machine learning y sirven como línea base para evaluación en la competencia de Kaggle.\n",
    "\n",
    "## Predicciones generadas\n",
    "\n",
    "1. Último valor observado (mes `201912`)\n",
    "2. Promedios simples de:\n",
    "   - Últimos **3 meses** (`201910` a `201912`)\n",
    "   - Últimos **6 meses** (`201907` a `201912`)\n",
    "   - Últimos **9 meses** (`201904` a `201912`)\n",
    "   - Últimos **12 meses** (`201901` a `201912`)\n",
    "\n",
    "## Formato de salida\n",
    "\n",
    "Cada predicción se exporta como un archivo CSV con las columnas:\n",
    "- `product_id`\n",
    "- `tn` (valor predicho en toneladas)\n",
    "\n",
    "El nombre del archivo describe la ventana temporal, por ejemplo:\n",
    "- `pred_trivial_last_201912.csv`\n",
    "- `pred_trivial_avg_3m_201910_201912.csv`\n"
   ]
  },
  {
   "cell_type": "markdown",
   "id": "93db2fd8",
   "metadata": {},
   "source": [
    "## Librerías necesarias"
   ]
  },
  {
   "cell_type": "code",
   "execution_count": 11,
   "id": "f0347190",
   "metadata": {},
   "outputs": [],
   "source": [
    "\n",
    "import pandas as pd\n",
    "import numpy as np\n"
   ]
  },
  {
   "cell_type": "markdown",
   "id": "19783532",
   "metadata": {},
   "source": [
    "## Carga de datos y lista de productos objetivo"
   ]
  },
  {
   "cell_type": "code",
   "execution_count": 12,
   "id": "ae41fb9d",
   "metadata": {},
   "outputs": [],
   "source": [
    "\n",
    "# Archivos fuente\n",
    "DATA_PATH = r\"C:\\Developer\\Laboratorio_III\\data\"\n",
    "SELLIN_FILE = DATA_PATH + r\"\\sell-in.txt\"\n",
    "PRODUCTOS_KAGGLE_FILE = DATA_PATH + r\"\\product_id_apredecir201912.txt\"  # lista proporcionada por el profesor\n",
    "\n",
    "# Carga\n",
    "df_sellin = pd.read_csv(SELLIN_FILE, sep='\\t')\n",
    "df_productos_kaggle = pd.read_csv(PRODUCTOS_KAGGLE_FILE)\n",
    "\n",
    "# Asegurar tipo string para 'periodo'\n",
    "df_sellin['periodo'] = df_sellin['periodo'].astype(str)\n"
   ]
  },
  {
   "cell_type": "markdown",
   "id": "fa6b2aa2",
   "metadata": {},
   "source": [
    "## Función para generar predicción y guardar CSV"
   ]
  },
  {
   "cell_type": "code",
   "execution_count": 13,
   "id": "7b52f49b",
   "metadata": {},
   "outputs": [],
   "source": [
    "\n",
    "def generar_prediccion(df, productos, desde, hasta=None, metodo='avg'):\n",
    "    '''\n",
    "    df: dataframe de sell-in\n",
    "    productos: dataframe con columna product_id\n",
    "    desde, hasta: strings con formato YYYYMM\n",
    "    metodo: 'avg' o 'last'\n",
    "    '''\n",
    "    if metodo == 'last':\n",
    "        df_filtrado = df[df['periodo'] == desde]\n",
    "        pred = df_filtrado.groupby('product_id')['tn'].sum().reset_index()\n",
    "        nombre_archivo = f\"pred_trivial_last_{desde}.csv\"\n",
    "\n",
    "    elif metodo == 'avg':\n",
    "        df_filtrado = df[(df['periodo'] >= desde) & (df['periodo'] <= hasta)]\n",
    "        # Paso 1: sumar ventas por producto y periodo\n",
    "        ventas_mensuales = df_filtrado.groupby(['periodo', 'product_id'])['tn'].sum().reset_index()\n",
    "        # Paso 2: promedio de esas ventas mensuales por producto\n",
    "        pred = ventas_mensuales.groupby('product_id')['tn'].mean().reset_index()\n",
    "        nombre_archivo = f\"pred_trivial_avg_{desde}_{hasta}.csv\"\n",
    "\n",
    "\n",
    "    else:\n",
    "        raise ValueError(\"Método no válido. Usar 'avg' o 'last'.\")\n",
    "\n",
    "    # Filtrar solo productos de la lista\n",
    "    pred = pred[pred['product_id'].isin(productos['product_id'])]\n",
    "\n",
    "    # Guardar\n",
    "    pred[['product_id', 'tn']].to_csv(nombre_archivo, index=False)\n",
    "    print(f\"Archivo generado: {nombre_archivo}\")\n"
   ]
  },
  {
   "cell_type": "markdown",
   "id": "325a4fb0",
   "metadata": {},
   "source": [
    "## Generación de predicciones y guardado"
   ]
  },
  {
   "cell_type": "code",
   "execution_count": null,
   "id": "a2e14f2f",
   "metadata": {},
   "outputs": [
    {
     "name": "stdout",
     "output_type": "stream",
     "text": [
      "Archivo generado: pred_trivial_avg_201807_201912.csv\n"
     ]
    }
   ],
   "source": [
    "\n",
    "# Último valor observado\n",
    "#generar_prediccion(df_sellin, df_productos_kaggle, desde=\"201912\", metodo='last')\n",
    "\n",
    "# Promedios móviles\n",
    "#generar_prediccion(df_sellin, df_productos_kaggle, desde=\"201910\", hasta=\"201912\", metodo='avg')\n",
    "#generar_prediccion(df_sellin, df_productos_kaggle, desde=\"201907\", hasta=\"201912\", metodo='avg')\n",
    "#generar_prediccion(df_sellin, df_productos_kaggle, desde=\"201904\", hasta=\"201912\", metodo='avg')\n",
    "generar_prediccion(df_sellin, df_productos_kaggle, desde=\"201901\", hasta=\"201912\", metodo='avg')\n"
   ]
  }
 ],
 "metadata": {
  "kernelspec": {
   "display_name": "labo_III",
   "language": "python",
   "name": "python3"
  },
  "language_info": {
   "codemirror_mode": {
    "name": "ipython",
    "version": 3
   },
   "file_extension": ".py",
   "mimetype": "text/x-python",
   "name": "python",
   "nbconvert_exporter": "python",
   "pygments_lexer": "ipython3",
   "version": "3.9.21"
  }
 },
 "nbformat": 4,
 "nbformat_minor": 5
}
