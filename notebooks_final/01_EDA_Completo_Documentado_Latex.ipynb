{
 "cells": [
  {
   "cell_type": "markdown",
   "id": "3a7d8b20",
   "metadata": {},
   "source": [
    "# 01_EDA – Análisis Exploratorio de Datos\n",
    "\n",
    "Este notebook corresponde a la fase **Data Understanding** del enfoque CRISP-DM, dentro del desafío de forecasting M+2.  \n",
    "Aquí realizamos un análisis exploratorio profundo de los datos, buscando identificar patrones de ventas, características de productos, y comportamientos de clientes.  \n",
    "Aplicamos enfoques **Top-Down** y **Bottom-Up** para asegurar una comprensión completa de la dinámica del negocio.\n",
    "\n",
    "**Fuentes de datos analizadas**:\n",
    "- `sell-in_muestra.txt`: ventas mensuales por cliente y producto.\n",
    "- `tb_productos.txt`: maestro de productos.\n",
    "- `tb_stocks.txt`: stock mensual por producto.\n"
   ]
  },
  {
   "cell_type": "markdown",
   "id": "bbcc2890",
   "metadata": {},
   "source": [
    "## Carga de librerías y rutas de trabajo"
   ]
  },
  {
   "cell_type": "code",
   "execution_count": null,
   "id": "ab4f7e3f",
   "metadata": {},
   "outputs": [],
   "source": [
    "\n",
    "import pandas as pd\n",
    "import numpy as np\n",
    "import matplotlib.pyplot as plt\n",
    "import seaborn as sns\n",
    "import plotly.express as px\n",
    "from ipywidgets import interact\n",
    "\n",
    "# Rutas de archivos\n",
    "DATA_PATH = r\"C:\\Developer\\Laboratorio_III\\data\"\n",
    "SELL_IN_FILE = DATA_PATH + r\"\\sell-in_muestra.txt\"\n",
    "PRODUCT_FILE = DATA_PATH + r\"\\tb_productos.txt\"\n",
    "STOCK_FILE = DATA_PATH + r\"\\tb_stocks.txt\"\n"
   ]
  },
  {
   "cell_type": "markdown",
   "id": "726c15a7",
   "metadata": {},
   "source": [
    "## Carga de datos y ajuste del campo `periodo` como texto"
   ]
  },
  {
   "cell_type": "code",
   "execution_count": null,
   "id": "82bf8d5e",
   "metadata": {},
   "outputs": [],
   "source": [
    "\n",
    "def load_txt(path, **kwargs):\n",
    "    return pd.read_csv(path, sep=\"\\t\", engine=\"python\", **kwargs)\n",
    "\n",
    "df_sales = load_txt(SELL_IN_FILE)\n",
    "df_prod = load_txt(PRODUCT_FILE)\n",
    "df_stock = load_txt(STOCK_FILE)\n",
    "\n",
    "for df in [df_sales, df_stock]:\n",
    "    df['periodo'] = df['periodo'].astype(str)\n",
    "\n",
    "display(df_sales.head(), df_prod.head(), df_stock.head())\n"
   ]
  },
  {
   "cell_type": "markdown",
   "id": "8052019d",
   "metadata": {},
   "source": [
    "## Integración de datasets"
   ]
  },
  {
   "cell_type": "code",
   "execution_count": null,
   "id": "5820bf8d",
   "metadata": {},
   "outputs": [],
   "source": [
    "\n",
    "df_all = (\n",
    "    df_sales\n",
    "    .merge(df_prod, on='product_id', how='left')\n",
    "    .merge(df_stock, on=['product_id', 'periodo'], how='left')\n",
    ")\n",
    "\n",
    "df_all = df_all.sort_values(['periodo', 'product_id'])\n",
    "df_all.to_parquet(DATA_PATH + r\"\\dataset_integrado.parquet\")\n",
    "df_all.head()\n"
   ]
  },
  {
   "cell_type": "markdown",
   "id": "de4dc78e",
   "metadata": {},
   "source": [
    "## Análisis Top-Down: Tendencias por familia de productos\n",
    "Buscamos patrones agregados por familia (`cat1`) a lo largo del tiempo para identificar estacionalidad, crecimientos o caídas."
   ]
  },
  {
   "cell_type": "code",
   "execution_count": null,
   "id": "e2307442",
   "metadata": {},
   "outputs": [],
   "source": [
    "\n",
    "agg_family = df_all.groupby(['periodo', 'cat1'], observed=True)['tn'].sum().reset_index()\n",
    "pivot = agg_family.pivot(index='periodo', columns='cat1', values='tn')\n",
    "pivot.plot(figsize=(12, 4))\n",
    "plt.title('Toneladas vendidas por familia')\n",
    "plt.ylabel('tn')\n",
    "plt.xlabel('Periodo (texto)')\n",
    "plt.xticks(rotation=45)\n",
    "plt.tight_layout()\n",
    "plt.show()\n"
   ]
  },
  {
   "cell_type": "markdown",
   "id": "50de29e8",
   "metadata": {},
   "source": [
    "## Análisis Bottom-Up: Clasificación ABC-XYZ\n",
    "Evaluamos la importancia y la variabilidad de cada SKU para entender cuáles son estratégicos y estables."
   ]
  },
  {
   "cell_type": "markdown",
   "id": "887d5039",
   "metadata": {},
   "source": [
    "### ¿Qué es la clasificación ABC?\n",
    "\n",
    "La clasificación **ABC** es una técnica basada en el principio de Pareto, utilizada para segmentar productos (u otras entidades) según su importancia en el volumen total de negocio.  \n",
    "Se basa en el porcentaje acumulado de volumen que representa cada producto:\n",
    "\n",
    "- **A**: productos más importantes (∼80% del volumen total). Son críticos para el negocio.\n",
    "- **B**: productos intermedios (∼15% del volumen).\n",
    "- **C**: productos menos significativos (∼5% del volumen restante).\n",
    "\n",
    "**Criterio aplicado:**  \n",
    "Calculamos el total de toneladas (`tn`) por `product_id`, ordenamos de mayor a menor, y luego acumulamos el porcentaje que representa cada SKU sobre el total.  \n",
    "A partir de ahí, segmentamos con cortes fijos:  \n",
    "- A: 0–80%, B: 80–95%, C: 95–100%.\n"
   ]
  },
  {
   "cell_type": "markdown",
   "id": "5fb4232e",
   "metadata": {},
   "source": [
    "### ¿Qué es la clasificación XYZ?\n",
    "\n",
    "La clasificación **XYZ** se basa en la **variabilidad de la demanda**, y busca responder qué tan regular o errática es la venta de cada producto.  \n",
    "Se utiliza el **Coeficiente de Variación (CV)** para esta segmentación:\n",
    "\n",
    "**Cálculo aplicado:**  \n",
    "A partir de una tabla período × cliente (`pivot_clientes`), aplicamos:\n",
    "\n",
    "\n",
    "$$\n",
    "CV = \\frac{\\sigma}{\\mu}\n",
    "$$\n",
    "\n",
    "\n",
    "- **X**: productos muy estables (CV < 0.5)\n",
    "- **Y**: productos moderadamente variables (CV entre 0.5 y 1)\n",
    "- **Z**: productos muy volátiles o erráticos (CV > 1)\n",
    "\n",
    "**Interpretación general:**\n",
    "- Productos **X** son predecibles y fáciles de modelar.\n",
    "- Productos **Z** requieren atención especial o técnicas robustas.\n",
    "\n",
    "**Nota:** El CV es sensible a la media. Si un producto tiene una media muy baja, el CV puede volverse muy grande o indefinido. En esos casos, descartamos o imputamos nulos.\n"
   ]
  },
  {
   "cell_type": "code",
   "execution_count": null,
   "id": "2c6f6ee3",
   "metadata": {},
   "outputs": [],
   "source": [
    "\n",
    "sku_tot = df_all.groupby('product_id')['tn'].sum().sort_values(ascending=False)\n",
    "cum_pct = sku_tot.cumsum() / sku_tot.sum()\n",
    "abc_class = pd.cut(cum_pct, bins=[0, .8, .95, 1], labels=list('ABC'))\n",
    "cov = df_all.groupby('product_id')['tn'].apply(lambda x: x.std()/x.mean() if x.mean()!=0 else np.nan)\n",
    "xyz_class = pd.cut(cov, bins=[-np.inf, .5, 1, np.inf], labels=list('XYZ'))\n",
    "\n",
    "abc_df = pd.DataFrame({'total_tn': sku_tot, 'cum_pct': cum_pct, 'ABC': abc_class, 'XYZ': xyz_class})\n",
    "sns.heatmap(pd.crosstab(abc_df['ABC'], abc_df['XYZ']), annot=True, fmt='d')\n",
    "plt.title('Matriz ABC‑XYZ')\n",
    "plt.show()\n"
   ]
  },
  {
   "cell_type": "markdown",
   "id": "f12768c9",
   "metadata": {},
   "source": [
    "## Visualización: Volumen vs. Variabilidad de SKU\n",
    "Usamos la misma clasificación ABC basada en acumulado de volumen para identificar SKU prioritarios para el modelado."
   ]
  },
  {
   "cell_type": "code",
   "execution_count": null,
   "id": "60204a00",
   "metadata": {},
   "outputs": [],
   "source": [
    "\n",
    "df_cv = df_all.groupby('product_id')['tn'].apply(lambda x: x.std()/x.mean() if x.mean()!=0 else None)\n",
    "df_stats = pd.concat([sku_tot.rename(\"total_tn\"), df_cv.rename(\"cv\"), abc_class.rename(\"ABC\")], axis=1).dropna()\n",
    "\n",
    "fig = px.scatter(df_stats, x='total_tn', y='cv', color='ABC',\n",
    "                 hover_name=df_stats.index.astype(str),\n",
    "                 log_x=True, height=500,\n",
    "                 title='Dispersión: Volumen total vs. Volatilidad (CV)',\n",
    "                 labels={'total_tn': 'Toneladas Totales (log)', 'cv': 'Coef. Variación'})\n",
    "fig.show()\n"
   ]
  },
  {
   "cell_type": "markdown",
   "id": "6eb3aede",
   "metadata": {},
   "source": [
    "## Análisis de clientes (customer_id)\n",
    "Estudiamos el comportamiento de compra por cliente para identificar perfiles estables, erráticos, y patrones de fidelidad."
   ]
  },
  {
   "cell_type": "code",
   "execution_count": null,
   "id": "5b7dae9d",
   "metadata": {},
   "outputs": [],
   "source": [
    "\n",
    "clientes_top = df_all.groupby('customer_id')['tn'].sum().sort_values(ascending=False).head(20)\n",
    "clientes_top.plot(kind='bar', figsize=(10,4), color='teal')\n",
    "plt.title('Top 20 clientes por toneladas compradas')\n",
    "plt.ylabel('Toneladas')\n",
    "plt.xlabel('ID Cliente')\n",
    "plt.xticks(rotation=45)\n",
    "plt.tight_layout()\n",
    "plt.show()\n"
   ]
  },
  {
   "cell_type": "code",
   "execution_count": null,
   "id": "7024ab15",
   "metadata": {},
   "outputs": [],
   "source": [
    "\n",
    "pivot_clientes = df_all.pivot_table(index='periodo', columns='customer_id', values='tn', aggfunc='sum', fill_value=0)\n",
    "\n",
    "@interact(cliente=sorted(pivot_clientes.columns))\n",
    "def grafico_cliente(cliente):\n",
    "    pivot_clientes[cliente].plot(figsize=(10,3))\n",
    "    plt.title(f'Evolución mensual de compras - Cliente {cliente}')\n",
    "    plt.ylabel('Toneladas')\n",
    "    plt.xlabel('Periodo')\n",
    "    plt.xticks(rotation=45)\n",
    "    plt.grid(True)\n",
    "    plt.tight_layout()\n",
    "    plt.show()\n"
   ]
  },
  {
   "cell_type": "markdown",
   "id": "62c97a84",
   "metadata": {},
   "source": [
    "### Variabilidad en el comportamiento de clientes\n",
    "\n",
    "También aplicamos el **Coeficiente de Variación (CV)** para analizar la estabilidad de las compras mensuales de cada cliente.  \n",
    "Esto nos permite detectar perfiles de compra:\n",
    "\n",
    "- Clientes estables (CV bajo): compran cantidades similares cada mes.\n",
    "- Clientes erráticos (CV alto): compran de forma muy irregular.\n",
    "\n",
    "**Cálculo aplicado:**  \n",
    "A partir de una tabla período × cliente (`pivot_clientes`), aplicamos:\n",
    "\n",
    "\\[\n",
    "CV_{cliente} = \\frac{\\text{Desvío estándar mensual}}{\\text{Media mensual de compras}}\n",
    "\\]\n",
    "\n",
    "Este análisis ayuda a entender a qué clientes se les puede aplicar modelos simples o si requieren un tratamiento más específico.\n"
   ]
  },
  {
   "cell_type": "code",
   "execution_count": null,
   "id": "14739f18",
   "metadata": {},
   "outputs": [],
   "source": [
    "\n",
    "cv_clientes = pivot_clientes.std() / pivot_clientes.mean()\n",
    "cv_clientes = cv_clientes.replace([np.inf, -np.inf], np.nan).dropna()\n",
    "\n",
    "cv_clientes.hist(bins=30, figsize=(6,3))\n",
    "plt.title('Distribución del Coef. de Variación entre clientes')\n",
    "plt.xlabel('CV (Desvío / Media)')\n",
    "plt.ylabel('Cantidad de clientes')\n",
    "plt.grid(True)\n",
    "plt.tight_layout()\n",
    "plt.show()\n"
   ]
  },
  {
   "cell_type": "markdown",
   "id": "b6dda73e",
   "metadata": {},
   "source": [
    "## Volumen vs. variabilidad en clientes"
   ]
  },
  {
   "cell_type": "code",
   "execution_count": null,
   "id": "1519b679",
   "metadata": {},
   "outputs": [],
   "source": [
    "\n",
    "volumen_clientes = pivot_clientes.sum()\n",
    "df_clientes = pd.DataFrame({'total_tn': volumen_clientes, 'cv': cv_clientes}).dropna()\n",
    "\n",
    "fig = px.scatter(df_clientes,\n",
    "                 x='total_tn', y='cv',\n",
    "                 hover_name=df_clientes.index.astype(str),\n",
    "                 log_x=True,\n",
    "                 labels={'total_tn': 'Toneladas totales (log)', 'cv': 'Coef. Variación'},\n",
    "                 title='Dispersión: Volumen total vs. Variabilidad de compras (clientes)',\n",
    "                 height=500)\n",
    "fig.show()\n"
   ]
  }
 ],
 "metadata": {
  "language_info": {
   "name": "python"
  }
 },
 "nbformat": 4,
 "nbformat_minor": 5
}
